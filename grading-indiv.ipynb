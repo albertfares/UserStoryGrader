{
 "cells": [
  {
   "cell_type": "code",
   "execution_count": 32,
   "id": "5aadfe2d",
   "metadata": {},
   "outputs": [],
   "source": [
    "import json, re, os, sys\n",
    "from dataclasses import dataclass\n",
    "from typing import Literal\n",
    "from openai import OpenAI\n",
    "from dotenv import load_dotenv"
   ]
  },
  {
   "cell_type": "code",
   "execution_count": 33,
   "id": "2d8dffb5",
   "metadata": {},
   "outputs": [],
   "source": [
    "load_dotenv()  # load variables from .env\n",
    "API_KEY = os.getenv(\"OPENAI_API_KEY\")\n",
    "if not API_KEY:\n",
    "    raise ValueError(\"Missing OPENAI_API_KEY environment variable\")\n",
    "\n",
    "client = OpenAI(api_key=API_KEY)"
   ]
  },
  {
   "cell_type": "code",
   "execution_count": 14,
   "id": "dbcc62c4",
   "metadata": {},
   "outputs": [
    {
     "name": "stderr",
     "output_type": "stream",
     "text": [
      "Checking stories:   0%|          | 0/12 [00:00<?, ?story/s]"
     ]
    },
    {
     "name": "stderr",
     "output_type": "stream",
     "text": [
      "Checking stories: 100%|██████████| 12/12 [00:06<00:00,  1.75story/s]"
     ]
    },
    {
     "name": "stdout",
     "output_type": "stream",
     "text": [
      "\n",
      "Story: as a user, i want to be able to delete a todo so that i can manage my tasks better\n",
      "Tags : []\n",
      "Flags: {'duplicate': 0, 'irrelevant': 0, 'vague': 0, 'oversized': 0, 'role-mismatch': 0, 'ui-polish': 0, 'typo': 0, 'bad-structure': 0}\n",
      "\n",
      "Story: as a user, i want to be able to delete a todo so that i can manage my tasks better\n",
      "Tags : []\n",
      "Flags: {'duplicate': 0, 'irrelevant': 0, 'vague': 0, 'oversized': 0, 'role-mismatch': 0, 'ui-polish': 0, 'typo': 0, 'bad-structure': 0}\n",
      "\n",
      "Story: as a user, i want to be able to delete a todo so that i can manage my tasks better\n",
      "Tags : []\n",
      "Flags: {'duplicate': 0, 'irrelevant': 0, 'vague': 0, 'oversized': 0, 'role-mismatch': 0, 'ui-polish': 0, 'typo': 0, 'bad-structure': 0}\n",
      "\n",
      "Story: as a user, i want to be able to delete a todo\n",
      "Tags : ['bad-structure']\n",
      "Flags: {'duplicate': 0, 'irrelevant': 0, 'vague': 0, 'oversized': 0, 'role-mismatch': 0, 'ui-polish': 0, 'typo': 0, 'bad-structure': 1}\n",
      "\n",
      "Story: as a user, i want to be able to delete a todo so that i can manage my tasks better\n",
      "Tags : []\n",
      "Flags: {'duplicate': 0, 'irrelevant': 0, 'vague': 0, 'oversized': 0, 'role-mismatch': 0, 'ui-polish': 0, 'typo': 0, 'bad-structure': 0}\n",
      "\n",
      "Story: i want to be able to delete a todo so that i can manage my tasks better\n",
      "Tags : ['bad-structure']\n",
      "Flags: {'duplicate': 0, 'irrelevant': 0, 'vague': 0, 'oversized': 0, 'role-mismatch': 0, 'ui-polish': 0, 'typo': 0, 'bad-structure': 1}\n",
      "\n",
      "Story: as a user, i want to be able to delete a todo so that i can manage my tasks better\n",
      "Tags : []\n",
      "Flags: {'duplicate': 0, 'irrelevant': 0, 'vague': 0, 'oversized': 0, 'role-mismatch': 0, 'ui-polish': 0, 'typo': 0, 'bad-structure': 0}\n",
      "\n",
      "Story: as a user, i want to be able to delete a todo so that i can manage my tasks better\n",
      "Tags : []\n",
      "Flags: {'duplicate': 0, 'irrelevant': 0, 'vague': 0, 'oversized': 0, 'role-mismatch': 0, 'ui-polish': 0, 'typo': 0, 'bad-structure': 0}\n",
      "\n",
      "Story: as a user, i want to be able to delete a todo so that i can manage my tasks better\n",
      "Tags : []\n",
      "Flags: {'duplicate': 0, 'irrelevant': 0, 'vague': 0, 'oversized': 0, 'role-mismatch': 0, 'ui-polish': 0, 'typo': 0, 'bad-structure': 0}\n",
      "\n",
      "Story: as a user, i want to be able to delete a todo\n",
      "Tags : ['bad-structure']\n",
      "Flags: {'duplicate': 0, 'irrelevant': 0, 'vague': 0, 'oversized': 0, 'role-mismatch': 0, 'ui-polish': 0, 'typo': 0, 'bad-structure': 1}\n",
      "\n",
      "Story: as a user, i want to be able to delete a todo so that i can manage my tasks better\n",
      "Tags : []\n",
      "Flags: {'duplicate': 0, 'irrelevant': 0, 'vague': 0, 'oversized': 0, 'role-mismatch': 0, 'ui-polish': 0, 'typo': 0, 'bad-structure': 0}\n",
      "\n",
      "Story: i want to be able to delete a todo so that i can manage my tasks better\n",
      "Tags : ['bad-structure']\n",
      "Flags: {'duplicate': 0, 'irrelevant': 0, 'vague': 0, 'oversized': 0, 'role-mismatch': 0, 'ui-polish': 0, 'typo': 0, 'bad-structure': 1}\n"
     ]
    },
    {
     "name": "stderr",
     "output_type": "stream",
     "text": [
      "\n"
     ]
    }
   ],
   "source": [
    "# --- Multi-check user story grader (boolean tags) with early-exit + progress ---\n",
    "import os, time, random, re, json\n",
    "from typing import Dict, Any, List, Tuple, Union\n",
    "from dataclasses import dataclass\n",
    "from concurrent.futures import ThreadPoolExecutor, as_completed\n",
    "from tqdm import tqdm  # pip install tqdm\n",
    "\n",
    "# ====================== CONFIG ======================\n",
    "MODEL = \"gpt-4o\"\n",
    "TEMPERATURE = 0.0\n",
    "\n",
    "# Allow small JSON outputs\n",
    "JSON_MAX_TOKENS = 120\n",
    "\n",
    "RETRIES = 5\n",
    "BASE_DELAY = 2.0  # Increased base delay\n",
    "GLOBAL_CALL_DELAY = 1.0  # Much longer delay between requests\n",
    "\n",
    "# Paste your ALREADY_DONE exactly as you have it:\n",
    "ALREADY_DONE = \"\"\"\n",
    "The app ALREADY implements these 5 user stories. Any new story that duplicates or trivially rephrases one of these should be considered a duplicate (grade low and say it is already implemented).\n",
    "\n",
    "1) Sign-in / Login\n",
    "   As a user, I want to sign up and log into the app, so that my ToDos are kept across devices.\n",
    "\n",
    "2) Create / Add a ToDo\n",
    "   As a user, I want to create a new ToDo, so that I can add new tasks to my list.\n",
    "\n",
    "3) List of ToDos\n",
    "   As a user, I want to view a list of my ToDos, so that I can easily see all my pending tasks at once.\n",
    "\n",
    "4) Edit a ToDo\n",
    "   As a user, I want to edit and view details of my ToDos, so that I can update tasks or review their detailed descriptions.\n",
    "\n",
    "5) Location-based ToDos\n",
    "   As a user, I want to add locations to my ToDos and see them on a map, so that I can plan my work based on where tasks are.\n",
    "\"\"\"\n",
    "\n",
    "# Enable/disable specific checks if needed\n",
    "ENABLED_CHECKS = {\n",
    "    \"duplicate\": True,\n",
    "    \"irrelevant\": True,\n",
    "    \"vague\": True,\n",
    "    \"oversized\": True,\n",
    "    \"role-mismatch\": True,\n",
    "    \"ui-polish\": True,\n",
    "    \"typo\": True,\n",
    "    \"bad-structure\": True,   # NEW CRITERION\n",
    "}\n",
    "\n",
    "# Checks are prioritized so we can early-exit on duplicate/irrelevant\n",
    "PRIORITY_CHECKS = [\"duplicate\", \"irrelevant\"]\n",
    "OTHER_CHECKS_ORDER = [\"typo\", \"oversized\", \"role-mismatch\", \"ui-polish\", \"bad-structure\", \"vague\"]\n",
    "\n",
    "# ================== PROMPT FRAMING (updated) ==================\n",
    "SYSTEM_HEADER = (\n",
    "    \"You are acting as a teacher grading a user story for a ToDo app.\\n\"\n",
    "    \"The app ALREADY IMPLEMENTS the following 5 user stories. If a student repeats any of these or trivially rephrases them, that is a DUPLICATE:\\n\\n\"\n",
    "    + ALREADY_DONE +\n",
    "    \"\\nYou will be given a single criterion to check.\\n\"\n",
    "    \"Return ONLY the word true or false (lowercase), with no punctuation or explanation.\"\n",
    ")\n",
    "\n",
    "# ================== CHECK DEFINITIONS (your wording preserved) ==================\n",
    "CHECK_DEFS: Dict[str, str] = {\n",
    "    \"duplicate\": (\n",
    "        \"DUPLICATE: Return true ONLY if the user story is the SAME AS or a TRIVIAL REPHRASING of one of the 5 ALREADY IMPLEMENTED stories listed in the system prompt. \"\n",
    "        \"Count as duplicate if the story asks for any of these same outcomes even with different wording.\"\n",
    "        \"Do NOT mark as duplicate features like reminders/notifications, tags/categories, priorities, search/filter/sort, recurring tasks, subtasks/checklists, \"\n",
    "        \"attachments, archive, snooze, collaboration/sharing, timers/time-tracking, UI themes/dark mode, onboarding, or similar new capabilities.\\n\"\n",
    "        \"Minor typos or synonyms do not change the essence. If uncertain, return false.\"\n",
    "    ),\n",
    "    \"irrelevant\": (\n",
    "        \"IRRELEVANT: Return true ONLY if the story is completely outside the scope of a ToDo/task management application \"\n",
    "        \"(e.g., booking flights, ordering food, running a business). \"\n",
    "        \"Return false if the story is related to tasks/ToDos OR the application’s user experience (UI, themes, dark mode, accessibility, navigation). \"\n",
    "    ),\n",
    "    \"vague\": (\n",
    "        \"VAGUE: Return true ONLY if the story is missing essential details in role, action, or benefit \"\n",
    "        \"(e.g., 'As a user, I want to do things so that stuff works'). \"\n",
    "        \"Return false if the story gives a clear action and benefit, even if subjective (e.g., dark mode for eye comfort). \"\n",
    "        \"UI or polish-related stories with a stated benefit are NEVER vague.\"\n",
    "    ),\n",
    "    \"oversized\": (\n",
    "        \"OVERSIZED: Return true ONLY if the story requests multiple distinct, unrelated features.\\n\"\n",
    "        \"Consider these as SINGLE features (return false):\\n\"\n",
    "        \"- Related actions for one goal: 'create groups and assign tasks' (team management)\\n\"\n",
    "        \"- Sequential steps: 'add task and set reminder' (task creation workflow)\\n\"\n",
    "        \"- Feature with configuration: 'dark mode and custom colors' (theming)\\n\"\n",
    "        \"- Natural complements: 'search and filter tasks' (finding tasks)\\n\"\n",
    "        \"Return true ONLY for clearly separate features:\\n\"\n",
    "        \"- 'add tasks and book flights' (unrelated domains)\\n\"\n",
    "        \"- 'create todos and play music and send emails' (multiple distinct features)\\n\"\n",
    "        \"If actions work together toward one user goal, it's one feature.\"\n",
    "    ),\n",
    "    \"role-mismatch\": (\n",
    "    \"ROLE-MISMATCH: Return true ONLY if the role is completely inappropriate for a ToDo app user.\\n\"\n",
    "    \"Accept these types of roles:\\n\"\n",
    "    \"- Individual users: user, student, grandpa, parent, teacher, employee, etc.\\n\"\n",
    "    \"- Organizational roles: manager, team leader, supervisor, coordinator, etc.\\n\"\n",
    "    \"- Users with characteristics: busy user, old user, blind user, etc.\\n\"\n",
    "    \"Return true ONLY for roles that make no sense in a ToDo context:\\n\"\n",
    "    \"- Non-human: dog, cat, robot, AI, system\\n\"\n",
    "    \"- Completely unrelated: customer buying groceries, patient in hospital\\n\"\n",
    "    \"If no role is present, return false (bad-structure handles missing roles).\"\n",
    "),\n",
    "    \"ui-polish\": (\n",
    "        \"UI-POLISH: Return true if the story is mainly a UI/visual tweak or comfort feature without adding core ToDo functionality \"\n",
    "        \"(e.g., themes, animations, onboarding tour, dark mode). Return false otherwise.\"\n",
    "    ),\n",
    "    \"typo\": (\n",
    "        \"TYPO: Return true if the user story contains obvious spelling/grammar typos (e.g., misspelled words, malformed sentences). \"\n",
    "        \"Return false if the text is clean.\"\n",
    "    ),\n",
    "    \"bad-structure\": (\n",
    "    \"BAD-STRUCTURE: Follow these exact steps:\\n\"\n",
    "    \"Step 1: Look for 'as a' or 'as an' anywhere in the text (case insensitive)\\n\"\n",
    "    \"Step 2: Look for 'i want' anywhere in the text (case insensitive)\\n\"\n",
    "    \"Step 3: Look for 'so that' anywhere in the text (case insensitive)\\n\"\n",
    "    \"If ALL THREE are found, return false. If ANY is missing, return true.\\n\"\n",
    "    \"Example: 'as a user, i want to delete a todo so that i can manage' - all three found = FALSE\"\n",
    ")\n",
    "}\n",
    "\n",
    "# ================== JSON CALL ==================\n",
    "def _extract_json_obj(text: str) -> dict:\n",
    "    text = (text or \"\").strip()\n",
    "    try:\n",
    "        obj = json.loads(text)\n",
    "        if isinstance(obj, dict):\n",
    "            return obj\n",
    "    except Exception:\n",
    "        pass\n",
    "    m = re.search(r\"\\{.*\\}\", text, flags=re.DOTALL)\n",
    "    if not m:\n",
    "        raise ValueError(f\"Expected JSON object, got: {text!r}\")\n",
    "    return json.loads(m.group(0))\n",
    "\n",
    "def _ask_all_checks(story: str, enabled_keys: List[str]) -> Dict[str, bool]:\n",
    "    criteria_lines = [f\"{key}: {CHECK_DEFS[key]}\" for key in enabled_keys]\n",
    "    example_pairs = \", \".join([f\"\\\"{k}\\\": false\" for k in enabled_keys])\n",
    "\n",
    "    schema_hint = (\n",
    "        \"Return ONLY a strict JSON object with each requested key set to true or false.\\n\"\n",
    "        f\"Example: {{{example_pairs}}}\\n\"\n",
    "        \"No prose, no comments, no trailing text.\"\n",
    "    )\n",
    "\n",
    "    user_msg = (\n",
    "        \"Criterion bundle (evaluate ALL independently and set booleans):\\n\"\n",
    "        + \"\\n\\n\".join(criteria_lines)\n",
    "        + f\"\\n\\nUser story:\\n\\\"\\\"\\\"\\n{story}\\n\\\"\\\"\\\"\\n\\n{schema_hint}\"\n",
    "    )\n",
    "\n",
    "    last_err = None\n",
    "    for attempt in range(1, RETRIES + 1):\n",
    "        try:\n",
    "            time.sleep(GLOBAL_CALL_DELAY)\n",
    "            resp = client.chat.completions.create(\n",
    "                model=MODEL,\n",
    "                temperature=TEMPERATURE,\n",
    "                max_tokens=JSON_MAX_TOKENS,\n",
    "                messages=[\n",
    "                    {\"role\": \"system\", \"content\": SYSTEM_HEADER},\n",
    "                    {\"role\": \"user\", \"content\": user_msg},\n",
    "                ],\n",
    "            )\n",
    "            raw = resp.choices[0].message.content\n",
    "            obj = _extract_json_obj(raw)\n",
    "\n",
    "            out: Dict[str, bool] = {}\n",
    "            for k in enabled_keys:\n",
    "                v = obj.get(k, False)\n",
    "                out[k] = bool(v) if isinstance(v, (bool, int)) else str(v).strip().lower() == \"true\"\n",
    "            return out\n",
    "        except Exception as e:\n",
    "            last_err = e\n",
    "            # Check if it's a rate limit error and wait longer\n",
    "            if \"rate_limit_exceeded\" in str(e) or \"429\" in str(e):\n",
    "                sleep_s = 1 + random.uniform(0, 2)  # Wait 60-90 seconds for rate limits\n",
    "                print(f\"Rate limit hit, waiting {sleep_s:.1f}s...\")\n",
    "            else:\n",
    "                sleep_s = BASE_DELAY * (2 ** (attempt - 1)) + random.uniform(0, 0.3)\n",
    "            time.sleep(sleep_s)\n",
    "    raise RuntimeError(f\"JSON check failed after {RETRIES} attempts: {last_err}\")\n",
    "\n",
    "# ================== STORY CHECK ==================\n",
    "@dataclass\n",
    "class StoryChecks:\n",
    "    story: str\n",
    "    booleans: Dict[str, bool]\n",
    "    tags: List[str]\n",
    "\n",
    "def run_checks_for_story(story: str, enabled: Dict[str, bool] = ENABLED_CHECKS) -> StoryChecks:\n",
    "    enabled_keys = [k for k, on in enabled.items() if on]\n",
    "    bools = _ask_all_checks(story, enabled_keys)\n",
    "\n",
    "    # Early exit\n",
    "    # early = []\n",
    "    # if bools.get(\"duplicate\", False):\n",
    "    #     early.append(\"duplicate\")\n",
    "    # if bools.get(\"irrelevant\", False):\n",
    "    #     early.append(\"irrelevant\")\n",
    "    # if early:\n",
    "    #     for k in bools.keys():\n",
    "    #         if k not in (\"duplicate\", \"irrelevant\", \"bad-structure\"):\n",
    "    #             bools[k] = False\n",
    "    #     return StoryChecks(story, bools, early)\n",
    "\n",
    "    tags = [k for k, v in bools.items() if v]\n",
    "    return StoryChecks(story, bools, tags)\n",
    "\n",
    "# ================== BATCH RUN ==================\n",
    "def run_checks_batch(stories: List[str], concurrency: int = 6) -> List[StoryChecks]:\n",
    "    results: List[Union[StoryChecks, None]] = [None] * len(stories)\n",
    "\n",
    "    def _worker(i: int, s: str):\n",
    "        return i, run_checks_for_story(s)\n",
    "\n",
    "    with ThreadPoolExecutor(max_workers=concurrency) as ex, \\\n",
    "         tqdm(total=len(stories), desc=\"Checking stories\", unit=\"story\") as pbar:\n",
    "        futures = [ex.submit(_worker, i, s) for i, s in enumerate(stories)]\n",
    "        for fut in as_completed(futures):\n",
    "            i, sc = fut.result()\n",
    "            results[i] = sc\n",
    "            pbar.update(1)\n",
    "\n",
    "    return results  # type: ignore\n",
    "\n",
    "# ================== EXAMPLES ==================\n",
    "EXAMPLES = [\n",
    "\"as a user, i want to be able to delete a todo so that i can manage my tasks better\",\n",
    "\"as a user, i want to be able to delete a todo so that i can manage my tasks better\",\n",
    "\"as a user, i want to be able to delete a todo so that i can manage my tasks better\",\n",
    "\"as a user, i want to be able to delete a todo\",\n",
    "\"as a user, i want to be able to delete a todo so that i can manage my tasks better\",\n",
    "\"i want to be able to delete a todo so that i can manage my tasks better\",\n",
    "\"as a user, i want to be able to delete a todo so that i can manage my tasks better\",\n",
    "\"as a user, i want to be able to delete a todo so that i can manage my tasks better\",\n",
    "\"as a user, i want to be able to delete a todo so that i can manage my tasks better\",\n",
    "\"as a user, i want to be able to delete a todo\",\n",
    "\"as a user, i want to be able to delete a todo so that i can manage my tasks better\",\n",
    "\"i want to be able to delete a todo so that i can manage my tasks better\",\n",
    "\n",
    "]\n",
    "\n",
    "if __name__ == \"__main__\":\n",
    "    out = run_checks_batch(EXAMPLES, concurrency=4)\n",
    "    for r in out:\n",
    "        print(\"\\nStory:\", r.story)\n",
    "        print(\"Tags :\", r.tags)\n",
    "        print(\"Flags:\", {k: int(v) for k, v in r.booleans.items()})"
   ]
  },
  {
   "cell_type": "code",
   "execution_count": 16,
   "id": "20dd0e58",
   "metadata": {},
   "outputs": [
    {
     "name": "stderr",
     "output_type": "stream",
     "text": [
      "Checking stories: 100%|██████████| 20/20 [00:08<00:00,  2.28story/s]\n",
      "Checking stories: 100%|██████████| 3/3 [00:03<00:00,  1.05s/story]"
     ]
    },
    {
     "name": "stdout",
     "output_type": "stream",
     "text": [
      "\n",
      "Accuracy (exact tag-set match): 60.9%  (14/23)\n",
      "\n",
      "Per-tag precision / recall:\n",
      "  duplicate      P=100.0%  R= 60.9%   TP= 14  FP=  0  FN=  9\n",
      "  irrelevant     P=  0.0%  R=  0.0%   TP=  0  FP=  0  FN=  0\n",
      "  ui-polish      P=  0.0%  R=  0.0%   TP=  0  FP=  1  FN=  0\n",
      "  vague          P=  0.0%  R=  0.0%   TP=  0  FP=  0  FN=  0\n",
      "  oversized      P=  0.0%  R=  0.0%   TP=  0  FP=  0  FN=  0\n",
      "  role-mismatch  P=  0.0%  R=  0.0%   TP=  0  FP=  0  FN=  0\n",
      "  typo           P=  0.0%  R=  0.0%   TP=  0  FP=  0  FN=  0\n",
      "\n",
      "Sample mismatches:\n",
      "- Story: As a user, I want to log in with Google so that my ToDos sync across devices.\n",
      "  expected=['duplicate']\n",
      "  predicted=['duplicate']\n",
      "\n",
      "- Story: As a user, I want to sign up and log in so that my tasks persist between sessions.\n",
      "  expected=['duplicate']\n",
      "  predicted=['duplicate']\n",
      "\n",
      "- Story: As a user, I want to create a ToDo with title and due date so that I can track work.\n",
      "  expected=['duplicate']\n",
      "  predicted=['duplicate']\n",
      "\n",
      "- Story: As a user, I want to add a new task with description and assignee so that I can assign work.\n",
      "  expected=['duplicate']\n",
      "  predicted=[]\n",
      "\n",
      "- Story: As a user, I want to view a list of my ToDos so that I can see pending tasks.\n",
      "  expected=['duplicate']\n",
      "  predicted=['duplicate']\n",
      "\n",
      "- Story: As a user, I want the list of ToDos to update automatically after edits.\n",
      "  expected=['duplicate']\n",
      "  predicted=['duplicate']\n",
      "\n",
      "- Story: As a user, I want to edit a ToDo’s details so that I can correct info.\n",
      "  expected=['duplicate']\n",
      "  predicted=['duplicate']\n",
      "\n",
      "- Story: As a user, I want to delete a ToDo from its detail screen.\n",
      "  expected=['duplicate']\n",
      "  predicted=['bad-structure']\n",
      "\n",
      "- Story: As a user, I want to mark a ToDo as completed so that I can track progress.\n",
      "  expected=['duplicate']\n",
      "  predicted=[]\n",
      "\n",
      "- Story: As a user, I want to set a location on a ToDo so that I can see it on a map.\n",
      "  expected=['duplicate']\n",
      "  predicted=['duplicate']\n",
      "\n",
      "- Story: As a user, I want to view my ToDos on a map with pins.\n",
      "  expected=['duplicate']\n",
      "  predicted=['duplicate']\n",
      "\n",
      "- Story: As a user, I want to reverse-geocode locations for my ToDos.\n",
      "  expected=['duplicate']\n",
      "  predicted=[]\n",
      "\n",
      "- Story: As a user, I want the map view to use Google Maps so that I can see my ToDos.\n",
      "  expected=['duplicate']\n",
      "  predicted=['duplicate']\n",
      "\n",
      "- Story: As a user, I want to go back from the ToDo editor to the list after saving.\n",
      "  expected=['duplicate']\n",
      "  predicted=['ui-polish']\n",
      "\n",
      "- Story: As a user, I want to create a new task so that I can track my work.\n",
      "  expected=['duplicate']\n",
      "  predicted=['duplicate']\n",
      "\n",
      "- Story: As a user, I want to set a due date so that I finish tasks on time.\n",
      "  expected=['duplicate']\n",
      "  predicted=[]\n",
      "\n",
      "- Story: As a user, I want to mark tasks as complete so that I see my progress.\n",
      "  expected=['duplicate']\n",
      "  predicted=[]\n",
      "\n",
      "- Story: As a user, I want to add a description to a task so that I remember details.\n",
      "  expected=['duplicate']\n",
      "  predicted=['duplicate']\n",
      "\n",
      "- Story: As a user, I want to assign a task to someone so that responsibilities are clear.\n",
      "  expected=['duplicate']\n",
      "  predicted=[]\n",
      "\n",
      "- Story: As a user, I want to delete tasks so that I remove things I no longer need.\n",
      "  expected=['duplicate']\n",
      "  predicted=[]\n",
      "\n",
      "- Story: As a user, I want to view my tasks in a list so that I know what I need to do.\n",
      "  expected=['duplicate']\n",
      "  predicted=['duplicate']\n",
      "\n",
      "- Story: As a user, I want to edit a task so that I can update its details.\n",
      "  expected=['duplicate']\n",
      "  predicted=['duplicate']\n",
      "\n",
      "- Story: As a user, I want to see my ToDos on a map so that I can plan by location.\n",
      "  expected=['duplicate']\n",
      "  predicted=['duplicate']\n",
      "\n"
     ]
    },
    {
     "name": "stderr",
     "output_type": "stream",
     "text": [
      "\n"
     ]
    }
   ],
   "source": [
    "# ==================== 100 Mixed User Stories Test Suite =====================\n",
    "from collections import Counter, defaultdict\n",
    "from tqdm import tqdm\n",
    "\n",
    "def _t(story, *tags):\n",
    "    # tags must match your checker names: duplicate, irrelevant, vague, oversized, role-mismatch, ui-polish, typo\n",
    "    # if no flaw is expected, pass None\n",
    "    clean_tags = [t for t in tags if t is not None]\n",
    "    return {\"story\": story, \"expected\": clean_tags}\n",
    "\n",
    "TESTS = []\n",
    "\n",
    "# ---- [duplicate] ----\n",
    "TESTS += [\n",
    "    _t(\"As a user, I want to log in with Google so that my ToDos sync across devices.\", \"duplicate\"),\n",
    "    _t(\"As a user, I want to sign up and log in so that my tasks persist between sessions.\", \"duplicate\"),\n",
    "    _t(\"As a user, I want to create a ToDo with title and due date so that I can track work.\", \"duplicate\"),\n",
    "    _t(\"As a user, I want to add a new task with description and assignee so that I can assign work.\", \"duplicate\"),\n",
    "    _t(\"As a user, I want to view a list of my ToDos so that I can see pending tasks.\", \"duplicate\"),\n",
    "    _t(\"As a user, I want the list of ToDos to update automatically after edits.\", \"duplicate\"),\n",
    "    _t(\"As a user, I want to edit a ToDo’s details so that I can correct info.\", \"duplicate\"),\n",
    "    _t(\"As a user, I want to delete a ToDo from its detail screen.\", \"duplicate\"),\n",
    "    _t(\"As a user, I want to mark a ToDo as completed so that I can track progress.\", \"duplicate\"),\n",
    "    _t(\"As a user, I want to set a location on a ToDo so that I can see it on a map.\", \"duplicate\"),\n",
    "    _t(\"As a user, I want to view my ToDos on a map with pins.\", \"duplicate\"),\n",
    "    _t(\"As a user, I want to reverse-geocode locations for my ToDos.\", \"duplicate\"),\n",
    "    _t(\"As a user, I want the map view to use Google Maps so that I can see my ToDos.\", \"duplicate\"),\n",
    "    _t(\"As a user, I want to go back from the ToDo editor to the list after saving.\", \"duplicate\"),\n",
    "    _t(\"As a user, I want to create a new task so that I can track my work.\", \"duplicate\"),\n",
    "    _t(\"As a user, I want to set a due date so that I finish tasks on time.\", \"duplicate\"),\n",
    "    _t(\"As a user, I want to mark tasks as complete so that I see my progress.\", \"duplicate\"),\n",
    "    _t(\"As a user, I want to add a description to a task so that I remember details.\", \"duplicate\"),\n",
    "    _t(\"As a user, I want to assign a task to someone so that responsibilities are clear.\", \"duplicate\"),\n",
    "    _t(\"As a user, I want to delete tasks so that I remove things I no longer need.\", \"duplicate\"),\n",
    "    _t(\"As a user, I want to view my tasks in a list so that I know what I need to do.\", \"duplicate\"),\n",
    "    _t(\"As a user, I want to edit a task so that I can update its details.\", \"duplicate\"),\n",
    "    _t(\"As a user, I want to see my ToDos on a map so that I can plan by location.\", \"duplicate\"),\n",
    "]\n",
    "\n",
    "# # ---- [irrelevant] ----\n",
    "# TESTS += [\n",
    "#     _t(\"As a traveler, I want to book flights so that I can plan my trips.\", \"irrelevant\"),\n",
    "#     _t(\"As a gamer, I want to save high scores so that I can track my performance.\", \"irrelevant\"),\n",
    "#     _t(\"As a shopper, I want to track discounts so that I buy at lower prices.\", \"irrelevant\"),\n",
    "#     _t(\"As a viewer, I want to stream movies so that I can watch new releases.\", \"irrelevant\"),\n",
    "#     _t(\"As a foodie, I want to order meals so that I can eat at home.\", \"irrelevant\"),\n",
    "#     _t(\"As a banker, I want to trade stocks so that I grow my portfolio.\", \"irrelevant\"),\n",
    "#     _t(\"As a student, I want to view exam results so that I know my grades.\", \"irrelevant\"),\n",
    "#     _t(\"As a driver, I want traffic alerts so that I avoid delays.\", \"irrelevant\"),\n",
    "#     _t(\"As a patient, I want to book doctor appointments so that I can see a specialist.\", \"irrelevant\"),\n",
    "#     _t(\"As a tourist, I want museum tickets so that I can enter quickly.\", \"irrelevant\"),\n",
    "#     _t(\"As a reader, I want book recommendations so that I can discover novels.\", \"irrelevant\"),\n",
    "#     _t(\"As a music fan, I want to create playlists so that I can listen to songs.\", \"irrelevant\"),\n",
    "#     _t(\"As a customer, I want product reviews so that I can choose better items.\", \"irrelevant\"),\n",
    "#     _t(\"As a sports fan, I want live match stats so that I can follow my team.\", \"irrelevant\"),\n",
    "# ]\n",
    "\n",
    "# # ---- [ui-polish] ----\n",
    "# TESTS += [\n",
    "#     _t(\"As a user, I want dark mode so that my eyes don’t hurt at night.\", \"ui-polish\"),\n",
    "#     _t(\"As a user, I want custom themes so that the app matches my taste.\", \"ui-polish\"),\n",
    "#     _t(\"As a user, I want adjustable font size so that text is easier to read.\", \"ui-polish\"),\n",
    "#     _t(\"As a user, I want subtle animations so that the app feels smooth.\", \"ui-polish\"),\n",
    "#     _t(\"As a user, I want compact list density so that I see more tasks at once.\", \"ui-polish\"),\n",
    "#     _t(\"As a user, I want a minimalist mode so that the UI feels less cluttered.\", \"ui-polish\"),\n",
    "#     _t(\"As a user, I want a welcome tour so that I can learn the app quickly.\", \"ui-polish\"),\n",
    "#     _t(\"As a user, I want an icon badge with task counts so that I see pending work.\", \"ui-polish\"),\n",
    "#     _t(\"As a user, I want customizable swipe gestures so that I act quickly.\", \"ui-polish\"),\n",
    "#     _t(\"As a user, I want haptic feedback on actions so that interactions feel responsive.\", \"ui-polish\"),\n",
    "#     _t(\"As a user, I want high-contrast mode so that content is legible.\", \"ui-polish\"),\n",
    "#     _t(\"As a user, I want larger tap targets so that actions are easier on mobile.\", \"ui-polish\"),\n",
    "#     _t(\"As a user, I want a cleaner task card layout so that information is scannable.\", \"ui-polish\"),\n",
    "#     _t(\"As a user, I want color-blind friendly palettes so that I can distinguish states.\", \"ui-polish\"),\n",
    "# ]\n",
    "\n",
    "# ---- [vague] ----\n",
    "# TESTS += [\n",
    "#     _t(\"As a user, I want improvements so that it is better.\", \"vague\"),\n",
    "#     _t(\"As a user, I want more options so that I have flexibility.\", \"vague\"),\n",
    "#     _t(\"As a user, I want enhancements so that I am productive.\", \"vague\"),\n",
    "#     _t(\"As a user, I want to do things so that it is useful.\", \"vague\"),\n",
    "#     _t(\"As a user, I want support so that I’m satisfied.\", \"vague\"),\n",
    "#     _t(\"As a user, I want efficiency so that I save time.\", \"vague\"),\n",
    "#     _t(\"As a user, I want features so that I can benefit.\", \"vague\"),\n",
    "#     _t(\"As a user, I want changes so that the app improves.\", \"vague\"),\n",
    "#     _t(\"As a user, I want it to be faster so that it’s good.\", \"vague\"),\n",
    "#     _t(\"As a user, I want everything so that life is easier.\", \"vague\"),\n",
    "#     _t(\"As a user, I want enhancements to tasks so that it helps.\", \"vague\"),\n",
    "# ]\n",
    "\n",
    "# # ---- [oversized] ----\n",
    "# TESTS += [\n",
    "#     _t(\"As a user, I want to have reminders and recurring tasks so that I never forget things.\", \"oversized\"),\n",
    "#     _t(\"As a user, I want to add tags and priorities so that I can organize my tasks better.\", \"oversized\"),\n",
    "#     _t(\"As a user, I want subtasks and notifications so that I can break work into steps and track progress.\", \"oversized\"),\n",
    "#     _t(\"As a user, I want to filter tasks and share them with others so that collaboration is easier.\", \"oversized\"),\n",
    "#     _t(\"As a user, I want offline support and syncing across devices so that I always have my tasks.\", \"oversized\"),\n",
    "# ]\n",
    "\n",
    "# # ---- [role-mismatch] ----\n",
    "# TESTS += [\n",
    "#     _t(\"As an admin, I want to delete any user’s tasks so that the system stays clean.\", \"role-mismatch\"),\n",
    "#     _t(\"As a moderator, I want to edit others’ tasks so that rules are enforced.\", \"role-mismatch\"),\n",
    "#     _t(\"As a superuser, I want to view all private tasks so that I can audit activity.\", \"role-mismatch\"),\n",
    "#     _t(\"As HR, I want to see employees’ personal tasks so that I can assess productivity.\", \"role-mismatch\"),\n",
    "#     _t(\"As a reviewer, I want to approve other users’ tasks so that quality is ensured.\", \"role-mismatch\"),\n",
    "#     _t(\"As an auditor, I want access to all task histories so that compliance is verified.\", \"role-mismatch\"),\n",
    "#     _t(\"As a manager, I want to reassign anyone’s tasks so that workload is controlled.\", \"role-mismatch\"),\n",
    "#     _t(\"As a super admin, I want to reset users’ accounts so that they start fresh.\", \"role-mismatch\"),\n",
    "# ]\n",
    "\n",
    "# # ---- [typo] ----\n",
    "# TESTS += [\n",
    "#     _t(\"As a usr, I wnt dark mode so that my eys don’t hurt at nite.\", \"typo\", \"ui-polish\"),\n",
    "#     _t(\"As a user, I want recuring ToDos so that I dont need to re-enter taks.\", \"typo\"),\n",
    "#     _t(\"As a user, I want a srch bar so that I can find tasks fst.\", \"typo\"),\n",
    "#     _t(\"As a user, I want subtasks so that big tasx are split.\", \"typo\"),\n",
    "#     _t(\"As a user, I want filtres so that I can focs on what matters.\", \"typo\"),\n",
    "#     _t(\"As a user, I want setting a tag so that tasks are organzed.\", \"typo\"),\n",
    "#     _t(\"As a user, I want snooze tasks so that I can dely them.\", \"typo\"),\n",
    "#     _t(\"As a user, I want archive ToDos so that my list stays cleen.\", \"typo\"),\n",
    "#     _t(\"As a user, I want attach fils so that docs stay togther.\", \"typo\"),\n",
    "#     _t(\"As a user, I want overdue vew so that I can act quikly.\", \"typo\"),\n",
    "# ]\n",
    "\n",
    "# # ---- [perfect] ----\n",
    "# TESTS += [\n",
    "#     _t(\"As a user, I want to tag my tasks so that I can organize them by topic.\", None),\n",
    "#     _t(\"As a user, I want to set priority on tasks so that I focus on the most important ones first.\", None),\n",
    "#     _t(\"As a user, I want recurring tasks so that I don’t have to re-create repeating work.\", None),\n",
    "#     _t(\"As a user, I want reminders for tasks so that I don’t miss deadlines.\", None),\n",
    "#     _t(\"As a user, I want to search tasks by keyword so that I can quickly find what I need.\", None),\n",
    "#     _t(\"As a user, I want to filter tasks by tag or assignee so that I can focus on a subset.\", None),\n",
    "#     _t(\"As a user, I want to sort tasks by due date or priority so that I see what matters first.\", None),\n",
    "#     _t(\"As a user, I want to add subtasks to a task so that I can break work into steps.\", None),\n",
    "#     _t(\"As a user, I want to attach files to a task so that related documents stay together.\", None),\n",
    "#     _t(\"As a user, I want an Overdue view so that I can quickly act on late tasks.\", None),\n",
    "# ]\n",
    "\n",
    "# --------------------- Run and Compare ---------------------\n",
    "stories = [t[\"story\"] for t in TESTS]\n",
    "\n",
    "# run model in batches\n",
    "all_results = []\n",
    "for i in range(0, len(stories), 20):\n",
    "    batch = stories[i:i+20]\n",
    "    batch_results = run_checks_batch(batch, concurrency=5)\n",
    "    all_results.extend(batch_results)\n",
    "\n",
    "pred = all_results  # <--- FIX: now pred is defined\n",
    "\n",
    "# Convert predictions to sets; apply early-exit expectation for duplicate/irrelevant\n",
    "pred_sets = []\n",
    "for r in pred:\n",
    "    pred_sets.append(set(r.tags))\n",
    "\n",
    "exp_sets = []\n",
    "for t in TESTS:\n",
    "    exp = set(t[\"expected\"])\n",
    "    # If expected contains duplicate or irrelevant, assume ONLY that tag (early-exit semantics)\n",
    "    if \"duplicate\" in exp:\n",
    "        exp = {\"duplicate\"}\n",
    "    elif \"irrelevant\" in exp:\n",
    "        exp = {\"irrelevant\"}\n",
    "    exp_sets.append(exp)\n",
    "\n",
    "# Overall exact set-match accuracy\n",
    "matches = [int(p == e) for p, e in zip(pred_sets, exp_sets)]\n",
    "overall_acc = sum(matches) / len(matches)\n",
    "\n",
    "# Per-tag precision/recall\n",
    "all_tags = [\"duplicate\",\"irrelevant\",\"ui-polish\",\"vague\",\"oversized\",\"role-mismatch\",\"typo\"]\n",
    "per_tag = {}\n",
    "for tag in all_tags:\n",
    "    tp = sum(1 for p,e in zip(pred_sets, exp_sets) if (tag in p and tag in e))\n",
    "    fp = sum(1 for p,e in zip(pred_sets, exp_sets) if (tag in p and tag not in e))\n",
    "    fn = sum(1 for p,e in zip(pred_sets, exp_sets) if (tag not in p and tag in e))\n",
    "    prec = tp / (tp + fp) if (tp + fp) else 0.0\n",
    "    rec  = tp / (tp + fn) if (tp + fn) else 0.0\n",
    "    per_tag[tag] = (prec, rec, tp, fp, fn)\n",
    "\n",
    "print(f\"\\nAccuracy (exact tag-set match): {overall_acc*100:.1f}%  ({sum(matches)}/{len(matches)})\")\n",
    "\n",
    "print(\"\\nPer-tag precision / recall:\")\n",
    "for tag in all_tags:\n",
    "    prec, rec, tp, fp, fn = per_tag[tag]\n",
    "    print(f\"  {tag:<14} P={prec*100:5.1f}%  R={rec*100:5.1f}%   TP={tp:3}  FP={fp:3}  FN={fn:3}\")\n",
    "\n",
    "print(\"\\nSample mismatches:\")\n",
    "shown = 0\n",
    "for (t, pset, eset) in zip(TESTS, pred_sets, exp_sets):\n",
    "    # if pset != eset:\n",
    "        print(f\"- Story: {t['story']}\\n  expected={sorted(list(eset))}\\n  predicted={sorted(list(pset))}\\n\")\n",
    "        shown += 1\n",
    "        # if shown >= 12:\n",
    "        #     break"
   ]
  },
  {
   "cell_type": "code",
   "execution_count": 29,
   "id": "7118182f",
   "metadata": {},
   "outputs": [
    {
     "name": "stderr",
     "output_type": "stream",
     "text": [
      "Grading stories: 100%|██████████| 4/4 [00:04<00:00,  1.18s/it]"
     ]
    },
    {
     "name": "stdout",
     "output_type": "stream",
     "text": [
      "\n",
      "Story: As a user, I want to create a new task so that I can track my work.\n",
      "Tags: ['duplicate']\n",
      "Grade: 0/5\n",
      "Feedback: This user story repeats an existing feature of creating tasks, which is already covered in the app's functionality. Please provide a unique story to avoid duplication. (-5)\n",
      "\n",
      "Story: As a gamer, I want to save high scores so that I can track my performance.\n",
      "Tags: ['irrelevant']\n",
      "Grade: 0/5\n",
      "Feedback: This story is outside the app's scope, as it focuses on saving high scores for gaming rather than managing tasks. Please align your user story with the app's intended features. (-5)\n",
      "\n",
      "Story: As a user, I want improvements so that it is better.\n",
      "Tags: ['vague']\n",
      "Grade: 3/5\n",
      "Feedback: Your story is too vague. Please specify the improvements you want and how they will enhance the app's functionality. This will help clarify your goals and make the story more actionable. (-2)\n",
      "\n",
      "Story: As a usr, I wnt dark mode so that my eys don’t hurt at nite.\n",
      "Tags: ['typo', 'ui-polish']\n",
      "Grade: 2/5\n",
      "Feedback: Your story has spelling errors that reduce clarity, such as \"usr\" and \"wnt\" (-1). Additionally, dark mode is a cosmetic feature and not essential functionality for the app (-2).\n"
     ]
    },
    {
     "name": "stderr",
     "output_type": "stream",
     "text": [
      "\n"
     ]
    }
   ],
   "source": [
    "from openai import OpenAI\n",
    "from tqdm import tqdm\n",
    "\n",
    "\n",
    "# ----------------- Tag penalties -----------------\n",
    "TAG_PENALTIES = {\n",
    "    \"duplicate\": -5,\n",
    "    \"irrelevant\": -5,\n",
    "    \"vague\": -2,\n",
    "    \"oversized\": -2,\n",
    "    \"role-mismatch\": -3,\n",
    "    \"ui-polish\": -2,\n",
    "    \"typo\": -1,\n",
    "    \"bad-structure\": -3,\n",
    "}\n",
    "\n",
    "# ----------------- Grade computation -----------------\n",
    "def compute_grade(tags):\n",
    "    score = 5\n",
    "    for t in tags:\n",
    "        score += TAG_PENALTIES.get(t, 0)\n",
    "    return max(score, 0)\n",
    "\n",
    "# ----------------- Feedback generation -----------------\n",
    "def generate_feedback(story, tags, grade):\n",
    "    if not tags:\n",
    "        prompt = f\"\"\"\n",
    "Story: \"{story}\"\n",
    "Grade: {grade}/5 (no issues found)\n",
    "\n",
    "Write brief feedback (max 25 words) praising the story's clarity, relevance, and appropriate scope for the ToDo app.\n",
    "Return only the feedback.\n",
    "        \"\"\"\n",
    "    else:\n",
    "        # Sort tags by priority: duplicate/irrelevant first, then others\n",
    "        priority_tags = [\"duplicate\", \"irrelevant\"]\n",
    "        sorted_tags = [t for t in priority_tags if t in tags] + [t for t in tags if t not in priority_tags]\n",
    "        \n",
    "        # Create penalty information for each tag\n",
    "        tag_penalties = [f\"{tag} ({TAG_PENALTIES[tag]})\" for tag in sorted_tags]\n",
    "        penalties_text = \", \".join(tag_penalties)\n",
    "        \n",
    "        prompt = f\"\"\"\n",
    "You are grading a user story for a mobile ToDo app that supports login, creating tasks, listing tasks, editing tasks, and viewing them on a map.\n",
    "\n",
    "Story: \"{story}\"\n",
    "Tags: {sorted_tags}\n",
    "Grade: {grade}/5\n",
    "\n",
    "Write feedback that addresses ONLY the specific tags provided: {sorted_tags}\n",
    "Include the point penalty in parentheses after mentioning each issue.\n",
    "Use student-friendly language, not technical tag names.\n",
    "\n",
    "Tag penalties: {penalties_text}\n",
    "\n",
    "Guidelines for each tag (use natural language, not tag names):\n",
    "- If duplicate: note it repeats an existing feature (-5)\n",
    "- If irrelevant: say it is outside the app's scope (-5)\n",
    "- If vague: request clearer, task-related actions/outcomes (-2)\n",
    "- If oversized: say it combines too many features at once (-2)\n",
    "- If role-mismatch: say the role is not appropriate for the app (-3)\n",
    "- If ui-polish: describe as \"cosmetic feature, not essential functionality\" (-2)\n",
    "- If typo: mention spelling/grammar errors reduce clarity (-1)\n",
    "- If bad-structure: note it doesn't follow proper user story format (-3)\n",
    "\n",
    "Be concise (max 35 words). Use natural descriptions, not tag names.\n",
    "Return only the feedback.\n",
    "        \"\"\"\n",
    "    \n",
    "    response = client.chat.completions.create(\n",
    "        model=\"gpt-4o-mini\",\n",
    "        messages=[{\"role\": \"user\", \"content\": prompt}],\n",
    "        temperature=0.2,\n",
    "    )\n",
    "    return response.choices[0].message.content.strip()\n",
    "\n",
    "# ----------------- Example usage -----------------\n",
    "if __name__ == \"__main__\":\n",
    "    # Example user stories\n",
    "    stories = [\n",
    "        \"As a user, I want to create a new task so that I can track my work.\", # duplicate\n",
    "        \"As a gamer, I want to save high scores so that I can track my performance.\", # irrelevant\n",
    "        \"As a user, I want improvements so that it is better.\", # vague\n",
    "        \"As a usr, I wnt dark mode so that my eys don’t hurt at nite.\" # typo + ui-polish\n",
    "    ]\n",
    "\n",
    "    # Replace this with your real checker:\n",
    "    fake_checker_outputs = [\n",
    "        [\"duplicate\"],\n",
    "        [\"irrelevant\"],\n",
    "        [\"vague\"],\n",
    "        [\"typo\", \"ui-polish\"],\n",
    "    ]\n",
    "\n",
    "    results = []\n",
    "    for story, tags in tqdm(zip(stories, fake_checker_outputs), total=len(stories), desc=\"Grading stories\"):\n",
    "        grade = compute_grade(tags)\n",
    "        feedback = generate_feedback(story, tags, grade)\n",
    "        results.append((story, tags, grade, feedback))\n",
    "\n",
    "    # Print results\n",
    "    for story, tags, grade, feedback in results:\n",
    "        print(f\"\\nStory: {story}\")\n",
    "        print(f\"Tags: {tags}\")\n",
    "        print(f\"Grade: {grade}/5\")\n",
    "        print(f\"Feedback: {feedback}\")"
   ]
  },
  {
   "cell_type": "code",
   "execution_count": 34,
   "id": "3d04bca6",
   "metadata": {},
   "outputs": [
    {
     "name": "stdout",
     "output_type": "stream",
     "text": [
      "Single Student User Story Grader\n",
      "========================================\n",
      "Input file: userStories.txt\n",
      "Output file: graded_user_stories_indiv.json\n",
      "\n",
      "Reading user stories from 'userStories.txt'...\n",
      "Processing first 2 user stories\n"
     ]
    },
    {
     "name": "stderr",
     "output_type": "stream",
     "text": [
      "Grading stories:   0%|          | 0/2 [00:00<?, ?it/s]"
     ]
    },
    {
     "name": "stdout",
     "output_type": "stream",
     "text": [
      "\n",
      "Processing story 1: As a student, I want to see how long a study room ...\n"
     ]
    },
    {
     "name": "stderr",
     "output_type": "stream",
     "text": [
      "Grading stories:  50%|█████     | 1/2 [00:02<00:02,  2.78s/it]"
     ]
    },
    {
     "name": "stdout",
     "output_type": "stream",
     "text": [
      "  Tags: ['irrelevant']\n",
      "  Grade: 0/5\n",
      "  Feedback: This story is outside the app's scope, as it focuses on stud...\n",
      "\n",
      "Processing story 2: As a user, I want to filter products in a price ra...\n"
     ]
    },
    {
     "name": "stderr",
     "output_type": "stream",
     "text": [
      "Grading stories: 100%|██████████| 2/2 [00:05<00:00,  2.95s/it]"
     ]
    },
    {
     "name": "stdout",
     "output_type": "stream",
     "text": [
      "  Tags: ['irrelevant']\n",
      "  Grade: 0/5\n",
      "  Feedback: This story is outside the app's scope, as it focuses on filt...\n",
      "\n",
      "Results saved to 'graded_user_stories_indiv.json'\n",
      "Graded 2 user stories\n",
      "\n",
      "Grading Summary:\n",
      "--------------------\n",
      "Story 1: Grade 0/5, Tags: ['irrelevant']\n",
      "Story 2: Grade 0/5, Tags: ['irrelevant']\n"
     ]
    },
    {
     "name": "stderr",
     "output_type": "stream",
     "text": [
      "\n"
     ]
    }
   ],
   "source": [
    "# ----------------- Read user stories from txt file -----------------\n",
    "def read_user_stories(txt_file=\"userStories.txt\"):\n",
    "    \"\"\"\n",
    "    Read user stories from userStories.txt file.\n",
    "    Takes first 2 lines as the user stories and cleans them.\n",
    "    \"\"\"\n",
    "    try:\n",
    "        with open(txt_file, 'r', encoding='utf-8') as f:\n",
    "            lines = f.readlines()\n",
    "        \n",
    "        # Clean up lines (remove newlines, whitespace, and line numbers)\n",
    "        stories = []\n",
    "        for line in lines:\n",
    "            line = line.strip()\n",
    "            if line:\n",
    "                # Remove leading numbers and whitespace (e.g., \"1   \" or \"2.\")\n",
    "                import re\n",
    "                cleaned_line = re.sub(r'^\\d+\\s*\\.?\\s*', '', line)\n",
    "                stories.append(cleaned_line)\n",
    "        \n",
    "        # Always take first 2 lines only\n",
    "        stories = stories[:2]\n",
    "        \n",
    "        if len(stories) < 2:\n",
    "            print(f\"Warning: Found only {len(stories)} user stories, expected 2\")\n",
    "            # Pad with empty stories if needed\n",
    "            while len(stories) < 2:\n",
    "                stories.append(\"\")\n",
    "        \n",
    "        return stories\n",
    "        \n",
    "    except FileNotFoundError:\n",
    "        print(f\"Error: File '{txt_file}' not found!\")\n",
    "        sys.exit(1)\n",
    "    except Exception as e:\n",
    "        print(f\"Error reading file: {e}\")\n",
    "        sys.exit(1)\n",
    "\n",
    "# ----------------- Grade single student -----------------\n",
    "def grade_single_student(output_file=\"graded_user_stories.json\"):\n",
    "    \"\"\"\n",
    "    Grade a single student's user stories from userStories.txt and save to JSON\n",
    "    \"\"\"\n",
    "    # Initialize OpenAI client\n",
    "    global client\n",
    "    client = OpenAI()  # Make sure OPENAI_API_KEY environment variable is set\n",
    "    \n",
    "    txt_file = \"userStories.txt\"\n",
    "    \n",
    "    print(f\"Reading user stories from '{txt_file}'...\")\n",
    "    stories = read_user_stories(txt_file)\n",
    "    \n",
    "    print(f\"Processing first 2 user stories\")\n",
    "    \n",
    "    results = []\n",
    "    \n",
    "    for i, story in enumerate(tqdm(stories, desc=\"Grading stories\"), 1):\n",
    "        if not story:\n",
    "            print(f\"Warning: Story {i} is empty, creating placeholder...\")\n",
    "            story_result = {\n",
    "                \"userStory\": \"\",\n",
    "                \"tags\": [],\n",
    "                \"grade\": 0,\n",
    "                \"feedback\": \"No user story provided\"\n",
    "            }\n",
    "            results.append(story_result)\n",
    "            continue\n",
    "            \n",
    "        print(f\"\\nProcessing story {i}: {story[:50]}...\")\n",
    "        \n",
    "        story_checks = run_checks_for_story(story)\n",
    "        tags = story_checks.tags\n",
    "        \n",
    "        grade = compute_grade(tags)\n",
    "        feedback = generate_feedback(story, tags, grade)\n",
    "        \n",
    "        story_result = {\n",
    "            \"userStory\": story,\n",
    "            \"tags\": tags,\n",
    "            \"grade\": grade,\n",
    "            \"feedback\": feedback\n",
    "        }\n",
    "        \n",
    "        results.append(story_result)\n",
    "        \n",
    "        print(f\"  Tags: {tags}\")\n",
    "        print(f\"  Grade: {grade}/5\")\n",
    "        print(f\"  Feedback: {feedback[:60]}...\")\n",
    "    \n",
    "    # Save results to JSON\n",
    "    try:\n",
    "        with open(output_file, 'w', encoding='utf-8') as f:\n",
    "            json.dump(results, f, indent=2, ensure_ascii=False)\n",
    "        \n",
    "        print(f\"\\nResults saved to '{output_file}'\")\n",
    "        print(f\"Graded {len(results)} user stories\")\n",
    "        \n",
    "        return results\n",
    "        \n",
    "    except Exception as e:\n",
    "        print(f\"Error saving results: {e}\")\n",
    "        sys.exit(1)\n",
    "\n",
    "# ----------------- Main execution -----------------\n",
    "if __name__ == \"__main__\":\n",
    "    # Filter out Jupyter kernel arguments that start with --\n",
    "    valid_args = [arg for arg in sys.argv[1:] if not arg.startswith('--')]\n",
    "    \n",
    "    # Check for optional output file argument\n",
    "    if len(valid_args) > 0:\n",
    "        output_file = valid_args[0]\n",
    "    else:\n",
    "        output_file = \"graded_user_stories_indiv.json\"\n",
    "    \n",
    "    txt_file = \"userStories.txt\"\n",
    "    \n",
    "    print(\"Single Student User Story Grader\")\n",
    "    print(\"=\" * 40)\n",
    "    print(f\"Input file: {txt_file}\")\n",
    "    print(f\"Output file: {output_file}\")\n",
    "    print()\n",
    "    \n",
    "    # Check if input file exists and has content\n",
    "    if not os.path.exists(txt_file):\n",
    "        print(f\"Creating example input file '{txt_file}'...\")\n",
    "        example_content = \"\"\"As a student, I want to see how long a study room is available so that I can choose one and study accordingly.\n",
    "As a user, I want to filter products in a price range, so that I can find one within my budget.\"\"\"\n",
    "        \n",
    "        with open(txt_file, 'w', encoding='utf-8') as f:\n",
    "            f.write(example_content)\n",
    "        \n",
    "        print(f\"Created '{txt_file}' with example user stories.\")\n",
    "        print(\"Please edit the file with your actual user stories and run again.\")\n",
    "        sys.exit(0)\n",
    "    \n",
    "    # Check if file has content\n",
    "    with open(txt_file, 'r', encoding='utf-8') as f:\n",
    "        content = f.read().strip()\n",
    "    \n",
    "    if not content:\n",
    "        print(f\"Warning: '{txt_file}' is empty!\")\n",
    "        print(\"Please add your user stories to the file (one per line) and run again.\")\n",
    "        print(\"Expected format:\")\n",
    "        print(\"Line 1: First user story\")\n",
    "        print(\"Line 2: Second user story\")\n",
    "        sys.exit(1)\n",
    "    \n",
    "    # Grade the stories\n",
    "    results = grade_single_student(output_file)\n",
    "    \n",
    "    print(\"\\nGrading Summary:\")\n",
    "    print(\"-\" * 20)\n",
    "    for i, result in enumerate(results, 1):\n",
    "        print(f\"Story {i}: Grade {result['grade']}/5, Tags: {result['tags']}\")"
   ]
  },
  {
   "cell_type": "code",
   "execution_count": 36,
   "id": "afa8c521",
   "metadata": {},
   "outputs": [
    {
     "name": "stdout",
     "output_type": "stream",
     "text": [
      "Processing 351 stories in batches of 1\n",
      "Estimated time: 5.8 minutes\n"
     ]
    },
    {
     "name": "stderr",
     "output_type": "stream",
     "text": [
      "Grading stories:   0%|          | 0/351 [00:00<?, ?story/s]"
     ]
    },
    {
     "name": "stdout",
     "output_type": "stream",
     "text": [
      "\n",
      "Processing story 1/351\n"
     ]
    },
    {
     "name": "stderr",
     "output_type": "stream",
     "text": [
      "Grading stories:   0%|          | 1/351 [00:03<23:19,  4.00s/story]"
     ]
    },
    {
     "name": "stdout",
     "output_type": "stream",
     "text": [
      "Story 1 completed: Grade 0/5, Tags: ['irrelevant']\n",
      "Waiting 1s before next story...\n",
      "\n",
      "Processing story 2/351\n"
     ]
    },
    {
     "name": "stderr",
     "output_type": "stream",
     "text": [
      "Grading stories:   1%|          | 2/351 [00:08<25:00,  4.30s/story]"
     ]
    },
    {
     "name": "stdout",
     "output_type": "stream",
     "text": [
      "Story 2 completed: Grade 0/5, Tags: ['irrelevant']\n",
      "Waiting 1s before next story...\n",
      "\n",
      "Processing story 3/351\n"
     ]
    },
    {
     "name": "stderr",
     "output_type": "stream",
     "text": [
      "Grading stories:   1%|          | 3/351 [00:12<24:12,  4.17s/story]"
     ]
    },
    {
     "name": "stdout",
     "output_type": "stream",
     "text": [
      "Story 3 completed: Grade 3/5, Tags: ['ui-polish']\n",
      "Waiting 1s before next story...\n",
      "\n",
      "Processing story 4/351\n"
     ]
    },
    {
     "name": "stderr",
     "output_type": "stream",
     "text": [
      "Grading stories:   1%|          | 4/351 [00:16<23:24,  4.05s/story]"
     ]
    },
    {
     "name": "stdout",
     "output_type": "stream",
     "text": [
      "Story 4 completed: Grade 5/5, Tags: []\n",
      "Waiting 1s before next story...\n",
      "\n",
      "Processing story 5/351\n"
     ]
    },
    {
     "name": "stderr",
     "output_type": "stream",
     "text": [
      "Grading stories:   1%|▏         | 5/351 [00:20<23:15,  4.03s/story]"
     ]
    },
    {
     "name": "stdout",
     "output_type": "stream",
     "text": [
      "Story 5 completed: Grade 5/5, Tags: []\n",
      "Waiting 1s before next story...\n",
      "\n",
      "Processing story 6/351\n"
     ]
    },
    {
     "name": "stderr",
     "output_type": "stream",
     "text": [
      "Grading stories:   2%|▏         | 6/351 [00:24<23:10,  4.03s/story]"
     ]
    },
    {
     "name": "stdout",
     "output_type": "stream",
     "text": [
      "Story 6 completed: Grade 5/5, Tags: []\n",
      "Waiting 1s before next story...\n",
      "\n",
      "Processing story 7/351\n"
     ]
    },
    {
     "name": "stderr",
     "output_type": "stream",
     "text": [
      "Grading stories:   2%|▏         | 7/351 [00:28<23:43,  4.14s/story]"
     ]
    },
    {
     "name": "stdout",
     "output_type": "stream",
     "text": [
      "Story 7 completed: Grade 5/5, Tags: []\n",
      "Waiting 1s before next story...\n",
      "\n",
      "Processing story 8/351\n"
     ]
    },
    {
     "name": "stderr",
     "output_type": "stream",
     "text": [
      "Grading stories:   2%|▏         | 8/351 [00:33<24:23,  4.27s/story]"
     ]
    },
    {
     "name": "stdout",
     "output_type": "stream",
     "text": [
      "Story 8 completed: Grade 5/5, Tags: []\n",
      "Waiting 1s before next story...\n",
      "\n",
      "Processing story 9/351\n"
     ]
    },
    {
     "name": "stderr",
     "output_type": "stream",
     "text": [
      "Grading stories:   3%|▎         | 9/351 [00:37<23:36,  4.14s/story]"
     ]
    },
    {
     "name": "stdout",
     "output_type": "stream",
     "text": [
      "Story 9 completed: Grade 0/5, Tags: ['duplicate']\n",
      "Waiting 1s before next story...\n",
      "\n",
      "Processing story 10/351\n"
     ]
    },
    {
     "name": "stderr",
     "output_type": "stream",
     "text": [
      "Grading stories:   3%|▎         | 10/351 [00:41<23:35,  4.15s/story]"
     ]
    },
    {
     "name": "stdout",
     "output_type": "stream",
     "text": [
      "Story 10 completed: Grade 5/5, Tags: []\n",
      "Waiting 1s before next story...\n",
      "\n",
      "Processing story 11/351\n"
     ]
    },
    {
     "name": "stderr",
     "output_type": "stream",
     "text": [
      "Grading stories:   3%|▎         | 11/351 [00:45<23:15,  4.10s/story]"
     ]
    },
    {
     "name": "stdout",
     "output_type": "stream",
     "text": [
      "Story 11 completed: Grade 5/5, Tags: []\n",
      "Waiting 1s before next story...\n",
      "\n",
      "Processing story 12/351\n"
     ]
    },
    {
     "name": "stderr",
     "output_type": "stream",
     "text": [
      "Grading stories:   3%|▎         | 12/351 [00:49<23:43,  4.20s/story]"
     ]
    },
    {
     "name": "stdout",
     "output_type": "stream",
     "text": [
      "Story 12 completed: Grade 3/5, Tags: ['ui-polish']\n",
      "Waiting 1s before next story...\n",
      "\n",
      "Processing story 13/351\n"
     ]
    },
    {
     "name": "stderr",
     "output_type": "stream",
     "text": [
      "Grading stories:   4%|▎         | 13/351 [00:55<26:35,  4.72s/story]"
     ]
    },
    {
     "name": "stdout",
     "output_type": "stream",
     "text": [
      "Story 13 completed: Grade 0/5, Tags: ['duplicate']\n",
      "Waiting 1s before next story...\n",
      "\n",
      "Processing story 14/351\n"
     ]
    },
    {
     "name": "stderr",
     "output_type": "stream",
     "text": [
      "Grading stories:   4%|▍         | 14/351 [00:59<24:54,  4.44s/story]"
     ]
    },
    {
     "name": "stdout",
     "output_type": "stream",
     "text": [
      "Story 14 completed: Grade 0/5, Tags: ['duplicate']\n",
      "Waiting 1s before next story...\n",
      "\n",
      "Processing story 15/351\n"
     ]
    },
    {
     "name": "stderr",
     "output_type": "stream",
     "text": [
      "Grading stories:   4%|▍         | 15/351 [01:03<24:48,  4.43s/story]"
     ]
    },
    {
     "name": "stdout",
     "output_type": "stream",
     "text": [
      "Story 15 completed: Grade 5/5, Tags: []\n",
      "Waiting 1s before next story...\n",
      "\n",
      "Processing story 16/351\n"
     ]
    },
    {
     "name": "stderr",
     "output_type": "stream",
     "text": [
      "Grading stories:   5%|▍         | 16/351 [01:09<26:43,  4.79s/story]"
     ]
    },
    {
     "name": "stdout",
     "output_type": "stream",
     "text": [
      "Story 16 completed: Grade 5/5, Tags: []\n",
      "Waiting 1s before next story...\n",
      "\n",
      "Processing story 17/351\n"
     ]
    },
    {
     "name": "stderr",
     "output_type": "stream",
     "text": [
      "Grading stories:   5%|▍         | 17/351 [01:14<26:47,  4.81s/story]"
     ]
    },
    {
     "name": "stdout",
     "output_type": "stream",
     "text": [
      "Story 17 completed: Grade 5/5, Tags: []\n",
      "Waiting 1s before next story...\n",
      "\n",
      "Processing story 18/351\n"
     ]
    },
    {
     "name": "stderr",
     "output_type": "stream",
     "text": [
      "Grading stories:   5%|▌         | 18/351 [01:19<26:41,  4.81s/story]"
     ]
    },
    {
     "name": "stdout",
     "output_type": "stream",
     "text": [
      "Story 18 completed: Grade 4/5, Tags: ['typo']\n",
      "Waiting 1s before next story...\n",
      "\n",
      "Processing story 19/351\n"
     ]
    },
    {
     "name": "stderr",
     "output_type": "stream",
     "text": [
      "Grading stories:   5%|▌         | 19/351 [01:22<24:53,  4.50s/story]"
     ]
    },
    {
     "name": "stdout",
     "output_type": "stream",
     "text": [
      "Story 19 completed: Grade 5/5, Tags: []\n",
      "Waiting 1s before next story...\n",
      "\n",
      "Processing story 20/351\n"
     ]
    },
    {
     "name": "stderr",
     "output_type": "stream",
     "text": [
      "Grading stories:   6%|▌         | 20/351 [01:26<23:11,  4.20s/story]"
     ]
    },
    {
     "name": "stdout",
     "output_type": "stream",
     "text": [
      "Story 20 completed: Grade 5/5, Tags: []\n",
      "Waiting 1s before next story...\n",
      "\n",
      "Processing story 21/351\n"
     ]
    },
    {
     "name": "stderr",
     "output_type": "stream",
     "text": [
      "Grading stories:   6%|▌         | 21/351 [01:30<23:22,  4.25s/story]"
     ]
    },
    {
     "name": "stdout",
     "output_type": "stream",
     "text": [
      "Story 21 completed: Grade 0/5, Tags: ['duplicate', 'vague', 'bad-structure']\n",
      "Waiting 1s before next story...\n",
      "\n",
      "Processing story 22/351\n"
     ]
    },
    {
     "name": "stderr",
     "output_type": "stream",
     "text": [
      "Grading stories:   6%|▋         | 22/351 [01:34<22:26,  4.09s/story]"
     ]
    },
    {
     "name": "stdout",
     "output_type": "stream",
     "text": [
      "Story 22 completed: Grade 5/5, Tags: []\n",
      "Waiting 1s before next story...\n",
      "\n",
      "Processing story 23/351\n"
     ]
    },
    {
     "name": "stderr",
     "output_type": "stream",
     "text": [
      "Grading stories:   7%|▋         | 23/351 [01:38<22:11,  4.06s/story]"
     ]
    },
    {
     "name": "stdout",
     "output_type": "stream",
     "text": [
      "Story 23 completed: Grade 5/5, Tags: []\n",
      "Waiting 1s before next story...\n",
      "\n",
      "Processing story 24/351\n"
     ]
    },
    {
     "name": "stderr",
     "output_type": "stream",
     "text": [
      "Grading stories:   7%|▋         | 24/351 [01:42<22:02,  4.04s/story]"
     ]
    },
    {
     "name": "stdout",
     "output_type": "stream",
     "text": [
      "Story 24 completed: Grade 5/5, Tags: []\n",
      "Waiting 1s before next story...\n",
      "\n",
      "Processing story 25/351\n"
     ]
    },
    {
     "name": "stderr",
     "output_type": "stream",
     "text": [
      "Grading stories:   7%|▋         | 25/351 [01:47<22:46,  4.19s/story]"
     ]
    },
    {
     "name": "stdout",
     "output_type": "stream",
     "text": [
      "Story 25 completed: Grade 5/5, Tags: []\n",
      "Waiting 1s before next story...\n",
      "\n",
      "Processing story 26/351\n"
     ]
    },
    {
     "name": "stderr",
     "output_type": "stream",
     "text": [
      "Grading stories:   7%|▋         | 26/351 [01:51<22:48,  4.21s/story]"
     ]
    },
    {
     "name": "stdout",
     "output_type": "stream",
     "text": [
      "Story 26 completed: Grade 5/5, Tags: []\n",
      "Waiting 1s before next story...\n",
      "\n",
      "Processing story 27/351\n"
     ]
    },
    {
     "name": "stderr",
     "output_type": "stream",
     "text": [
      "Grading stories:   8%|▊         | 27/351 [01:55<22:37,  4.19s/story]"
     ]
    },
    {
     "name": "stdout",
     "output_type": "stream",
     "text": [
      "Story 27 completed: Grade 5/5, Tags: []\n",
      "Waiting 1s before next story...\n",
      "\n",
      "Processing story 28/351\n"
     ]
    },
    {
     "name": "stderr",
     "output_type": "stream",
     "text": [
      "Grading stories:   8%|▊         | 28/351 [01:59<21:42,  4.03s/story]"
     ]
    },
    {
     "name": "stdout",
     "output_type": "stream",
     "text": [
      "Story 28 completed: Grade 5/5, Tags: []\n",
      "Waiting 1s before next story...\n",
      "\n",
      "Processing story 29/351\n"
     ]
    },
    {
     "name": "stderr",
     "output_type": "stream",
     "text": [
      "Grading stories:   8%|▊         | 29/351 [02:03<21:55,  4.08s/story]"
     ]
    },
    {
     "name": "stdout",
     "output_type": "stream",
     "text": [
      "Story 29 completed: Grade 5/5, Tags: []\n",
      "Waiting 1s before next story...\n",
      "\n",
      "Processing story 30/351\n"
     ]
    },
    {
     "name": "stderr",
     "output_type": "stream",
     "text": [
      "Grading stories:   9%|▊         | 30/351 [02:07<21:45,  4.07s/story]"
     ]
    },
    {
     "name": "stdout",
     "output_type": "stream",
     "text": [
      "Story 30 completed: Grade 0/5, Tags: ['duplicate', 'ui-polish']\n",
      "Waiting 1s before next story...\n",
      "\n",
      "Processing story 31/351\n"
     ]
    },
    {
     "name": "stderr",
     "output_type": "stream",
     "text": [
      "Grading stories:   9%|▉         | 31/351 [02:12<22:41,  4.25s/story]"
     ]
    },
    {
     "name": "stdout",
     "output_type": "stream",
     "text": [
      "Story 31 completed: Grade 0/5, Tags: ['duplicate']\n",
      "Waiting 1s before next story...\n",
      "\n",
      "Processing story 32/351\n"
     ]
    },
    {
     "name": "stderr",
     "output_type": "stream",
     "text": [
      "Grading stories:   9%|▉         | 32/351 [02:16<22:35,  4.25s/story]"
     ]
    },
    {
     "name": "stdout",
     "output_type": "stream",
     "text": [
      "Story 32 completed: Grade 5/5, Tags: []\n",
      "Waiting 1s before next story...\n",
      "\n",
      "Processing story 33/351\n"
     ]
    },
    {
     "name": "stderr",
     "output_type": "stream",
     "text": [
      "Grading stories:   9%|▉         | 33/351 [02:20<21:57,  4.14s/story]"
     ]
    },
    {
     "name": "stdout",
     "output_type": "stream",
     "text": [
      "Story 33 completed: Grade 5/5, Tags: []\n",
      "Waiting 1s before next story...\n",
      "\n",
      "Processing story 34/351\n"
     ]
    },
    {
     "name": "stderr",
     "output_type": "stream",
     "text": [
      "Grading stories:  10%|▉         | 34/351 [02:26<25:04,  4.75s/story]"
     ]
    },
    {
     "name": "stdout",
     "output_type": "stream",
     "text": [
      "Story 34 completed: Grade 5/5, Tags: []\n",
      "Waiting 1s before next story...\n",
      "\n",
      "Processing story 35/351\n"
     ]
    },
    {
     "name": "stderr",
     "output_type": "stream",
     "text": [
      "Grading stories:  10%|▉         | 35/351 [02:30<23:33,  4.47s/story]"
     ]
    },
    {
     "name": "stdout",
     "output_type": "stream",
     "text": [
      "Story 35 completed: Grade 5/5, Tags: []\n",
      "Waiting 1s before next story...\n",
      "\n",
      "Processing story 36/351\n"
     ]
    },
    {
     "name": "stderr",
     "output_type": "stream",
     "text": [
      "Grading stories:  10%|█         | 36/351 [02:34<22:39,  4.32s/story]"
     ]
    },
    {
     "name": "stdout",
     "output_type": "stream",
     "text": [
      "Story 36 completed: Grade 5/5, Tags: []\n",
      "Waiting 1s before next story...\n",
      "\n",
      "Processing story 37/351\n"
     ]
    },
    {
     "name": "stderr",
     "output_type": "stream",
     "text": [
      "Grading stories:  11%|█         | 37/351 [02:38<22:24,  4.28s/story]"
     ]
    },
    {
     "name": "stdout",
     "output_type": "stream",
     "text": [
      "Story 37 completed: Grade 2/5, Tags: ['bad-structure']\n",
      "Waiting 1s before next story...\n",
      "\n",
      "Processing story 38/351\n"
     ]
    },
    {
     "name": "stderr",
     "output_type": "stream",
     "text": [
      "Grading stories:  11%|█         | 38/351 [02:41<20:55,  4.01s/story]"
     ]
    },
    {
     "name": "stdout",
     "output_type": "stream",
     "text": [
      "Story 38 completed: Grade 5/5, Tags: []\n",
      "Waiting 1s before next story...\n",
      "\n",
      "Processing story 39/351\n"
     ]
    },
    {
     "name": "stderr",
     "output_type": "stream",
     "text": [
      "Grading stories:  11%|█         | 39/351 [02:45<20:51,  4.01s/story]"
     ]
    },
    {
     "name": "stdout",
     "output_type": "stream",
     "text": [
      "Story 39 completed: Grade 3/5, Tags: ['ui-polish']\n",
      "Waiting 1s before next story...\n",
      "\n",
      "Processing story 40/351\n"
     ]
    },
    {
     "name": "stderr",
     "output_type": "stream",
     "text": [
      "Grading stories:  11%|█▏        | 40/351 [02:49<20:17,  3.91s/story]"
     ]
    },
    {
     "name": "stdout",
     "output_type": "stream",
     "text": [
      "Story 40 completed: Grade 5/5, Tags: []\n",
      "Waiting 1s before next story...\n",
      "\n",
      "Processing story 41/351\n"
     ]
    },
    {
     "name": "stderr",
     "output_type": "stream",
     "text": [
      "Grading stories:  12%|█▏        | 41/351 [02:53<19:43,  3.82s/story]"
     ]
    },
    {
     "name": "stdout",
     "output_type": "stream",
     "text": [
      "Story 41 completed: Grade 5/5, Tags: []\n",
      "Waiting 1s before next story...\n",
      "\n",
      "Processing story 42/351\n"
     ]
    },
    {
     "name": "stderr",
     "output_type": "stream",
     "text": [
      "Grading stories:  12%|█▏        | 42/351 [02:57<20:10,  3.92s/story]"
     ]
    },
    {
     "name": "stdout",
     "output_type": "stream",
     "text": [
      "Story 42 completed: Grade 5/5, Tags: []\n",
      "Waiting 1s before next story...\n",
      "\n",
      "Processing story 43/351\n"
     ]
    },
    {
     "name": "stderr",
     "output_type": "stream",
     "text": [
      "Grading stories:  12%|█▏        | 43/351 [03:01<20:16,  3.95s/story]"
     ]
    },
    {
     "name": "stdout",
     "output_type": "stream",
     "text": [
      "Story 43 completed: Grade 5/5, Tags: []\n",
      "Waiting 1s before next story...\n",
      "\n",
      "Processing story 44/351\n"
     ]
    },
    {
     "name": "stderr",
     "output_type": "stream",
     "text": [
      "Grading stories:  13%|█▎        | 44/351 [03:05<20:15,  3.96s/story]"
     ]
    },
    {
     "name": "stdout",
     "output_type": "stream",
     "text": [
      "Story 44 completed: Grade 4/5, Tags: ['typo']\n",
      "Waiting 1s before next story...\n",
      "\n",
      "Processing story 45/351\n"
     ]
    },
    {
     "name": "stderr",
     "output_type": "stream",
     "text": [
      "Grading stories:  13%|█▎        | 45/351 [03:09<20:47,  4.08s/story]"
     ]
    },
    {
     "name": "stdout",
     "output_type": "stream",
     "text": [
      "Story 45 completed: Grade 4/5, Tags: ['typo']\n",
      "Waiting 1s before next story...\n",
      "\n",
      "Processing story 46/351\n"
     ]
    },
    {
     "name": "stderr",
     "output_type": "stream",
     "text": [
      "Grading stories:  13%|█▎        | 46/351 [03:13<20:44,  4.08s/story]"
     ]
    },
    {
     "name": "stdout",
     "output_type": "stream",
     "text": [
      "Story 46 completed: Grade 5/5, Tags: []\n",
      "Waiting 1s before next story...\n",
      "\n",
      "Processing story 47/351\n"
     ]
    },
    {
     "name": "stderr",
     "output_type": "stream",
     "text": [
      "Grading stories:  13%|█▎        | 47/351 [03:17<21:06,  4.17s/story]"
     ]
    },
    {
     "name": "stdout",
     "output_type": "stream",
     "text": [
      "Story 47 completed: Grade 5/5, Tags: []\n",
      "Waiting 1s before next story...\n",
      "\n",
      "Processing story 48/351\n"
     ]
    },
    {
     "name": "stderr",
     "output_type": "stream",
     "text": [
      "Grading stories:  14%|█▎        | 48/351 [03:21<20:41,  4.10s/story]"
     ]
    },
    {
     "name": "stdout",
     "output_type": "stream",
     "text": [
      "Story 48 completed: Grade 5/5, Tags: []\n",
      "Waiting 1s before next story...\n",
      "\n",
      "Processing story 49/351\n"
     ]
    },
    {
     "name": "stderr",
     "output_type": "stream",
     "text": [
      "Grading stories:  14%|█▍        | 49/351 [03:25<20:13,  4.02s/story]"
     ]
    },
    {
     "name": "stdout",
     "output_type": "stream",
     "text": [
      "Story 49 completed: Grade 5/5, Tags: []\n",
      "Waiting 1s before next story...\n",
      "\n",
      "Processing story 50/351\n"
     ]
    },
    {
     "name": "stderr",
     "output_type": "stream",
     "text": [
      "Grading stories:  14%|█▍        | 50/351 [03:29<19:38,  3.92s/story]"
     ]
    },
    {
     "name": "stdout",
     "output_type": "stream",
     "text": [
      "Story 50 completed: Grade 5/5, Tags: []\n",
      "Waiting 1s before next story...\n",
      "\n",
      "Processing story 51/351\n"
     ]
    },
    {
     "name": "stderr",
     "output_type": "stream",
     "text": [
      "Grading stories:  15%|█▍        | 51/351 [03:33<19:08,  3.83s/story]"
     ]
    },
    {
     "name": "stdout",
     "output_type": "stream",
     "text": [
      "Story 51 completed: Grade 5/5, Tags: []\n",
      "Waiting 1s before next story...\n",
      "\n",
      "Processing story 52/351\n"
     ]
    },
    {
     "name": "stderr",
     "output_type": "stream",
     "text": [
      "Grading stories:  15%|█▍        | 52/351 [03:36<19:04,  3.83s/story]"
     ]
    },
    {
     "name": "stdout",
     "output_type": "stream",
     "text": [
      "Story 52 completed: Grade 5/5, Tags: []\n",
      "Waiting 1s before next story...\n",
      "\n",
      "Processing story 53/351\n"
     ]
    },
    {
     "name": "stderr",
     "output_type": "stream",
     "text": [
      "Grading stories:  15%|█▌        | 53/351 [03:41<19:48,  3.99s/story]"
     ]
    },
    {
     "name": "stdout",
     "output_type": "stream",
     "text": [
      "Story 53 completed: Grade 5/5, Tags: []\n",
      "Waiting 1s before next story...\n",
      "\n",
      "Processing story 54/351\n"
     ]
    },
    {
     "name": "stderr",
     "output_type": "stream",
     "text": [
      "Grading stories:  15%|█▌        | 54/351 [03:45<19:33,  3.95s/story]"
     ]
    },
    {
     "name": "stdout",
     "output_type": "stream",
     "text": [
      "Story 54 completed: Grade 5/5, Tags: []\n",
      "Waiting 1s before next story...\n",
      "\n",
      "Processing story 55/351\n"
     ]
    },
    {
     "name": "stderr",
     "output_type": "stream",
     "text": [
      "Grading stories:  16%|█▌        | 55/351 [03:49<20:18,  4.12s/story]"
     ]
    },
    {
     "name": "stdout",
     "output_type": "stream",
     "text": [
      "Story 55 completed: Grade 5/5, Tags: []\n",
      "Waiting 1s before next story...\n",
      "\n",
      "Processing story 56/351\n"
     ]
    },
    {
     "name": "stderr",
     "output_type": "stream",
     "text": [
      "Grading stories:  16%|█▌        | 56/351 [03:53<19:43,  4.01s/story]"
     ]
    },
    {
     "name": "stdout",
     "output_type": "stream",
     "text": [
      "Story 56 completed: Grade 5/5, Tags: []\n",
      "Waiting 1s before next story...\n",
      "\n",
      "Processing story 57/351\n"
     ]
    },
    {
     "name": "stderr",
     "output_type": "stream",
     "text": [
      "Grading stories:  16%|█▌        | 57/351 [03:57<19:31,  3.98s/story]"
     ]
    },
    {
     "name": "stdout",
     "output_type": "stream",
     "text": [
      "Story 57 completed: Grade 5/5, Tags: []\n",
      "Waiting 1s before next story...\n",
      "\n",
      "Processing story 58/351\n"
     ]
    },
    {
     "name": "stderr",
     "output_type": "stream",
     "text": [
      "Grading stories:  17%|█▋        | 58/351 [04:01<20:03,  4.11s/story]"
     ]
    },
    {
     "name": "stdout",
     "output_type": "stream",
     "text": [
      "Story 58 completed: Grade 5/5, Tags: []\n",
      "Waiting 1s before next story...\n",
      "\n",
      "Processing story 59/351\n"
     ]
    },
    {
     "name": "stderr",
     "output_type": "stream",
     "text": [
      "Grading stories:  17%|█▋        | 59/351 [04:06<20:27,  4.21s/story]"
     ]
    },
    {
     "name": "stdout",
     "output_type": "stream",
     "text": [
      "Story 59 completed: Grade 5/5, Tags: []\n",
      "Waiting 1s before next story...\n",
      "\n",
      "Processing story 60/351\n"
     ]
    },
    {
     "name": "stderr",
     "output_type": "stream",
     "text": [
      "Grading stories:  17%|█▋        | 60/351 [04:09<19:35,  4.04s/story]"
     ]
    },
    {
     "name": "stdout",
     "output_type": "stream",
     "text": [
      "Story 60 completed: Grade 5/5, Tags: []\n",
      "Waiting 1s before next story...\n",
      "\n",
      "Processing story 61/351\n"
     ]
    },
    {
     "name": "stderr",
     "output_type": "stream",
     "text": [
      "Grading stories:  17%|█▋        | 61/351 [04:14<21:04,  4.36s/story]"
     ]
    },
    {
     "name": "stdout",
     "output_type": "stream",
     "text": [
      "Story 61 completed: Grade 5/5, Tags: []\n",
      "Waiting 1s before next story...\n",
      "\n",
      "Processing story 62/351\n"
     ]
    },
    {
     "name": "stderr",
     "output_type": "stream",
     "text": [
      "Grading stories:  18%|█▊        | 62/351 [04:19<21:09,  4.39s/story]"
     ]
    },
    {
     "name": "stdout",
     "output_type": "stream",
     "text": [
      "Story 62 completed: Grade 5/5, Tags: []\n",
      "Waiting 1s before next story...\n",
      "\n",
      "Processing story 63/351\n"
     ]
    },
    {
     "name": "stderr",
     "output_type": "stream",
     "text": [
      "Grading stories:  18%|█▊        | 63/351 [04:23<20:30,  4.27s/story]"
     ]
    },
    {
     "name": "stdout",
     "output_type": "stream",
     "text": [
      "Story 63 completed: Grade 4/5, Tags: ['typo']\n",
      "Waiting 1s before next story...\n",
      "\n",
      "Processing story 64/351\n"
     ]
    },
    {
     "name": "stderr",
     "output_type": "stream",
     "text": [
      "Grading stories:  18%|█▊        | 64/351 [04:27<20:18,  4.24s/story]"
     ]
    },
    {
     "name": "stdout",
     "output_type": "stream",
     "text": [
      "Story 64 completed: Grade 5/5, Tags: []\n",
      "Waiting 1s before next story...\n",
      "\n",
      "Processing story 65/351\n"
     ]
    },
    {
     "name": "stderr",
     "output_type": "stream",
     "text": [
      "Grading stories:  19%|█▊        | 65/351 [04:31<20:25,  4.28s/story]"
     ]
    },
    {
     "name": "stdout",
     "output_type": "stream",
     "text": [
      "Story 65 completed: Grade 4/5, Tags: ['typo']\n",
      "Waiting 1s before next story...\n",
      "\n",
      "Processing story 66/351\n"
     ]
    },
    {
     "name": "stderr",
     "output_type": "stream",
     "text": [
      "Grading stories:  19%|█▉        | 66/351 [04:36<20:31,  4.32s/story]"
     ]
    },
    {
     "name": "stdout",
     "output_type": "stream",
     "text": [
      "Story 66 completed: Grade 5/5, Tags: []\n",
      "Waiting 1s before next story...\n",
      "\n",
      "Processing story 67/351\n"
     ]
    },
    {
     "name": "stderr",
     "output_type": "stream",
     "text": [
      "Grading stories:  19%|█▉        | 67/351 [04:40<20:16,  4.28s/story]"
     ]
    },
    {
     "name": "stdout",
     "output_type": "stream",
     "text": [
      "Story 67 completed: Grade 5/5, Tags: []\n",
      "Waiting 1s before next story...\n",
      "\n",
      "Processing story 68/351\n"
     ]
    },
    {
     "name": "stderr",
     "output_type": "stream",
     "text": [
      "Grading stories:  19%|█▉        | 68/351 [04:44<19:49,  4.20s/story]"
     ]
    },
    {
     "name": "stdout",
     "output_type": "stream",
     "text": [
      "Story 68 completed: Grade 5/5, Tags: []\n",
      "Waiting 1s before next story...\n",
      "\n",
      "Processing story 69/351\n"
     ]
    },
    {
     "name": "stderr",
     "output_type": "stream",
     "text": [
      "Grading stories:  20%|█▉        | 69/351 [04:48<20:03,  4.27s/story]"
     ]
    },
    {
     "name": "stdout",
     "output_type": "stream",
     "text": [
      "Story 69 completed: Grade 5/5, Tags: []\n",
      "Waiting 1s before next story...\n",
      "\n",
      "Processing story 70/351\n"
     ]
    },
    {
     "name": "stderr",
     "output_type": "stream",
     "text": [
      "Grading stories:  20%|█▉        | 70/351 [04:53<19:46,  4.22s/story]"
     ]
    },
    {
     "name": "stdout",
     "output_type": "stream",
     "text": [
      "Story 70 completed: Grade 5/5, Tags: []\n",
      "Waiting 1s before next story...\n",
      "\n",
      "Processing story 71/351\n"
     ]
    },
    {
     "name": "stderr",
     "output_type": "stream",
     "text": [
      "Grading stories:  20%|██        | 71/351 [04:56<18:56,  4.06s/story]"
     ]
    },
    {
     "name": "stdout",
     "output_type": "stream",
     "text": [
      "Story 71 completed: Grade 5/5, Tags: []\n",
      "Waiting 1s before next story...\n",
      "\n",
      "Processing story 72/351\n"
     ]
    },
    {
     "name": "stderr",
     "output_type": "stream",
     "text": [
      "Grading stories:  21%|██        | 72/351 [05:01<19:30,  4.20s/story]"
     ]
    },
    {
     "name": "stdout",
     "output_type": "stream",
     "text": [
      "Story 72 completed: Grade 5/5, Tags: []\n",
      "Waiting 1s before next story...\n",
      "\n",
      "Processing story 73/351\n"
     ]
    },
    {
     "name": "stderr",
     "output_type": "stream",
     "text": [
      "Grading stories:  21%|██        | 73/351 [05:05<19:30,  4.21s/story]"
     ]
    },
    {
     "name": "stdout",
     "output_type": "stream",
     "text": [
      "Story 73 completed: Grade 5/5, Tags: []\n",
      "Waiting 1s before next story...\n",
      "\n",
      "Processing story 74/351\n"
     ]
    },
    {
     "name": "stderr",
     "output_type": "stream",
     "text": [
      "Grading stories:  21%|██        | 74/351 [05:09<18:54,  4.10s/story]"
     ]
    },
    {
     "name": "stdout",
     "output_type": "stream",
     "text": [
      "Story 74 completed: Grade 5/5, Tags: []\n",
      "Waiting 1s before next story...\n",
      "\n",
      "Processing story 75/351\n"
     ]
    },
    {
     "name": "stderr",
     "output_type": "stream",
     "text": [
      "Grading stories:  21%|██▏       | 75/351 [05:13<18:32,  4.03s/story]"
     ]
    },
    {
     "name": "stdout",
     "output_type": "stream",
     "text": [
      "Story 75 completed: Grade 5/5, Tags: []\n",
      "Waiting 1s before next story...\n",
      "\n",
      "Processing story 76/351\n"
     ]
    },
    {
     "name": "stderr",
     "output_type": "stream",
     "text": [
      "Grading stories:  22%|██▏       | 76/351 [05:17<18:43,  4.09s/story]"
     ]
    },
    {
     "name": "stdout",
     "output_type": "stream",
     "text": [
      "Story 76 completed: Grade 3/5, Tags: ['ui-polish']\n",
      "Waiting 1s before next story...\n",
      "\n",
      "Processing story 77/351\n"
     ]
    },
    {
     "name": "stderr",
     "output_type": "stream",
     "text": [
      "Grading stories:  22%|██▏       | 77/351 [05:21<18:45,  4.11s/story]"
     ]
    },
    {
     "name": "stdout",
     "output_type": "stream",
     "text": [
      "Story 77 completed: Grade 4/5, Tags: ['typo']\n",
      "Waiting 1s before next story...\n",
      "\n",
      "Processing story 78/351\n"
     ]
    },
    {
     "name": "stderr",
     "output_type": "stream",
     "text": [
      "Grading stories:  22%|██▏       | 78/351 [05:25<18:32,  4.08s/story]"
     ]
    },
    {
     "name": "stdout",
     "output_type": "stream",
     "text": [
      "Story 78 completed: Grade 5/5, Tags: []\n",
      "Waiting 1s before next story...\n",
      "\n",
      "Processing story 79/351\n"
     ]
    },
    {
     "name": "stderr",
     "output_type": "stream",
     "text": [
      "Grading stories:  23%|██▎       | 79/351 [05:29<18:45,  4.14s/story]"
     ]
    },
    {
     "name": "stdout",
     "output_type": "stream",
     "text": [
      "Story 79 completed: Grade 5/5, Tags: []\n",
      "Waiting 1s before next story...\n",
      "\n",
      "Processing story 80/351\n"
     ]
    },
    {
     "name": "stderr",
     "output_type": "stream",
     "text": [
      "Grading stories:  23%|██▎       | 80/351 [05:34<19:27,  4.31s/story]"
     ]
    },
    {
     "name": "stdout",
     "output_type": "stream",
     "text": [
      "Story 80 completed: Grade 5/5, Tags: []\n",
      "Waiting 1s before next story...\n",
      "\n",
      "Processing story 81/351\n"
     ]
    },
    {
     "name": "stderr",
     "output_type": "stream",
     "text": [
      "Grading stories:  23%|██▎       | 81/351 [05:39<20:05,  4.46s/story]"
     ]
    },
    {
     "name": "stdout",
     "output_type": "stream",
     "text": [
      "Story 81 completed: Grade 3/5, Tags: ['ui-polish']\n",
      "Waiting 1s before next story...\n",
      "\n",
      "Processing story 82/351\n"
     ]
    },
    {
     "name": "stderr",
     "output_type": "stream",
     "text": [
      "Grading stories:  23%|██▎       | 82/351 [05:44<20:32,  4.58s/story]"
     ]
    },
    {
     "name": "stdout",
     "output_type": "stream",
     "text": [
      "Story 82 completed: Grade 5/5, Tags: []\n",
      "Waiting 1s before next story...\n",
      "\n",
      "Processing story 83/351\n"
     ]
    },
    {
     "name": "stderr",
     "output_type": "stream",
     "text": [
      "Grading stories:  24%|██▎       | 83/351 [05:48<19:45,  4.42s/story]"
     ]
    },
    {
     "name": "stdout",
     "output_type": "stream",
     "text": [
      "Story 83 completed: Grade 5/5, Tags: []\n",
      "Waiting 1s before next story...\n",
      "\n",
      "Processing story 84/351\n"
     ]
    },
    {
     "name": "stderr",
     "output_type": "stream",
     "text": [
      "Grading stories:  24%|██▍       | 84/351 [05:52<18:59,  4.27s/story]"
     ]
    },
    {
     "name": "stdout",
     "output_type": "stream",
     "text": [
      "Story 84 completed: Grade 5/5, Tags: []\n",
      "Waiting 1s before next story...\n",
      "\n",
      "Processing story 85/351\n"
     ]
    },
    {
     "name": "stderr",
     "output_type": "stream",
     "text": [
      "Grading stories:  24%|██▍       | 85/351 [05:55<18:03,  4.07s/story]"
     ]
    },
    {
     "name": "stdout",
     "output_type": "stream",
     "text": [
      "Story 85 completed: Grade 5/5, Tags: []\n",
      "Waiting 1s before next story...\n",
      "\n",
      "Processing story 86/351\n"
     ]
    },
    {
     "name": "stderr",
     "output_type": "stream",
     "text": [
      "Grading stories:  25%|██▍       | 86/351 [05:59<17:56,  4.06s/story]"
     ]
    },
    {
     "name": "stdout",
     "output_type": "stream",
     "text": [
      "Story 86 completed: Grade 5/5, Tags: []\n",
      "Waiting 1s before next story...\n",
      "\n",
      "Processing story 87/351\n"
     ]
    },
    {
     "name": "stderr",
     "output_type": "stream",
     "text": [
      "Grading stories:  25%|██▍       | 87/351 [06:03<17:38,  4.01s/story]"
     ]
    },
    {
     "name": "stdout",
     "output_type": "stream",
     "text": [
      "Story 87 completed: Grade 5/5, Tags: []\n",
      "Waiting 1s before next story...\n",
      "\n",
      "Processing story 88/351\n"
     ]
    },
    {
     "name": "stderr",
     "output_type": "stream",
     "text": [
      "Grading stories:  25%|██▌       | 88/351 [06:07<17:31,  4.00s/story]"
     ]
    },
    {
     "name": "stdout",
     "output_type": "stream",
     "text": [
      "Story 88 completed: Grade 5/5, Tags: []\n",
      "Waiting 1s before next story...\n",
      "\n",
      "Processing story 89/351\n"
     ]
    },
    {
     "name": "stderr",
     "output_type": "stream",
     "text": [
      "Grading stories:  25%|██▌       | 89/351 [06:11<17:43,  4.06s/story]"
     ]
    },
    {
     "name": "stdout",
     "output_type": "stream",
     "text": [
      "Story 89 completed: Grade 5/5, Tags: []\n",
      "Waiting 1s before next story...\n",
      "\n",
      "Processing story 90/351\n"
     ]
    },
    {
     "name": "stderr",
     "output_type": "stream",
     "text": [
      "Grading stories:  26%|██▌       | 90/351 [06:16<18:00,  4.14s/story]"
     ]
    },
    {
     "name": "stdout",
     "output_type": "stream",
     "text": [
      "Story 90 completed: Grade 0/5, Tags: ['irrelevant', 'oversized']\n",
      "Waiting 1s before next story...\n",
      "\n",
      "Processing story 91/351\n"
     ]
    },
    {
     "name": "stderr",
     "output_type": "stream",
     "text": [
      "Grading stories:  26%|██▌       | 91/351 [06:20<18:16,  4.22s/story]"
     ]
    },
    {
     "name": "stdout",
     "output_type": "stream",
     "text": [
      "Story 91 completed: Grade 0/5, Tags: ['duplicate']\n",
      "Waiting 1s before next story...\n",
      "\n",
      "Processing story 92/351\n"
     ]
    },
    {
     "name": "stderr",
     "output_type": "stream",
     "text": [
      "Grading stories:  26%|██▌       | 92/351 [06:25<18:51,  4.37s/story]"
     ]
    },
    {
     "name": "stdout",
     "output_type": "stream",
     "text": [
      "Story 92 completed: Grade 5/5, Tags: []\n",
      "Waiting 1s before next story...\n",
      "\n",
      "Processing story 93/351\n"
     ]
    },
    {
     "name": "stderr",
     "output_type": "stream",
     "text": [
      "Grading stories:  26%|██▋       | 93/351 [06:29<18:25,  4.28s/story]"
     ]
    },
    {
     "name": "stdout",
     "output_type": "stream",
     "text": [
      "Story 93 completed: Grade 5/5, Tags: []\n",
      "Waiting 1s before next story...\n",
      "\n",
      "Processing story 94/351\n"
     ]
    },
    {
     "name": "stderr",
     "output_type": "stream",
     "text": [
      "Grading stories:  27%|██▋       | 94/351 [06:34<19:06,  4.46s/story]"
     ]
    },
    {
     "name": "stdout",
     "output_type": "stream",
     "text": [
      "Story 94 completed: Grade 5/5, Tags: []\n",
      "Waiting 1s before next story...\n",
      "\n",
      "Processing story 95/351\n"
     ]
    },
    {
     "name": "stderr",
     "output_type": "stream",
     "text": [
      "Grading stories:  27%|██▋       | 95/351 [06:38<19:07,  4.48s/story]"
     ]
    },
    {
     "name": "stdout",
     "output_type": "stream",
     "text": [
      "Story 95 completed: Grade 5/5, Tags: []\n",
      "Waiting 1s before next story...\n",
      "\n",
      "Processing story 96/351\n"
     ]
    },
    {
     "name": "stderr",
     "output_type": "stream",
     "text": [
      "Grading stories:  27%|██▋       | 96/351 [06:42<18:37,  4.38s/story]"
     ]
    },
    {
     "name": "stdout",
     "output_type": "stream",
     "text": [
      "Story 96 completed: Grade 5/5, Tags: []\n",
      "Waiting 1s before next story...\n",
      "\n",
      "Processing story 97/351\n"
     ]
    },
    {
     "name": "stderr",
     "output_type": "stream",
     "text": [
      "Grading stories:  28%|██▊       | 97/351 [06:49<21:03,  4.98s/story]"
     ]
    },
    {
     "name": "stdout",
     "output_type": "stream",
     "text": [
      "Story 97 completed: Grade 5/5, Tags: []\n",
      "Waiting 1s before next story...\n",
      "\n",
      "Processing story 98/351\n"
     ]
    },
    {
     "name": "stderr",
     "output_type": "stream",
     "text": [
      "Grading stories:  28%|██▊       | 98/351 [06:53<19:56,  4.73s/story]"
     ]
    },
    {
     "name": "stdout",
     "output_type": "stream",
     "text": [
      "Story 98 completed: Grade 5/5, Tags: []\n",
      "Waiting 1s before next story...\n",
      "\n",
      "Processing story 99/351\n"
     ]
    },
    {
     "name": "stderr",
     "output_type": "stream",
     "text": [
      "Grading stories:  28%|██▊       | 99/351 [06:57<18:30,  4.41s/story]"
     ]
    },
    {
     "name": "stdout",
     "output_type": "stream",
     "text": [
      "Story 99 completed: Grade 5/5, Tags: []\n",
      "Waiting 1s before next story...\n",
      "\n",
      "Processing story 100/351\n"
     ]
    },
    {
     "name": "stderr",
     "output_type": "stream",
     "text": [
      "Grading stories:  28%|██▊       | 100/351 [07:01<18:12,  4.35s/story]"
     ]
    },
    {
     "name": "stdout",
     "output_type": "stream",
     "text": [
      "Story 100 completed: Grade 5/5, Tags: []\n",
      "Waiting 1s before next story...\n",
      "\n",
      "Processing story 101/351\n"
     ]
    },
    {
     "name": "stderr",
     "output_type": "stream",
     "text": [
      "Grading stories:  29%|██▉       | 101/351 [07:05<17:42,  4.25s/story]"
     ]
    },
    {
     "name": "stdout",
     "output_type": "stream",
     "text": [
      "Story 101 completed: Grade 5/5, Tags: []\n",
      "Waiting 1s before next story...\n",
      "\n",
      "Processing story 102/351\n"
     ]
    },
    {
     "name": "stderr",
     "output_type": "stream",
     "text": [
      "Grading stories:  29%|██▉       | 102/351 [07:09<17:21,  4.18s/story]"
     ]
    },
    {
     "name": "stdout",
     "output_type": "stream",
     "text": [
      "Story 102 completed: Grade 5/5, Tags: []\n",
      "Waiting 1s before next story...\n",
      "\n",
      "Processing story 103/351\n"
     ]
    },
    {
     "name": "stderr",
     "output_type": "stream",
     "text": [
      "Grading stories:  29%|██▉       | 103/351 [07:13<16:54,  4.09s/story]"
     ]
    },
    {
     "name": "stdout",
     "output_type": "stream",
     "text": [
      "Story 103 completed: Grade 3/5, Tags: ['oversized']\n",
      "Waiting 1s before next story...\n",
      "\n",
      "Processing story 104/351\n"
     ]
    },
    {
     "name": "stderr",
     "output_type": "stream",
     "text": [
      "Grading stories:  30%|██▉       | 104/351 [07:17<16:54,  4.11s/story]"
     ]
    },
    {
     "name": "stdout",
     "output_type": "stream",
     "text": [
      "Story 104 completed: Grade 5/5, Tags: []\n",
      "Waiting 1s before next story...\n",
      "\n",
      "Processing story 105/351\n"
     ]
    },
    {
     "name": "stderr",
     "output_type": "stream",
     "text": [
      "Grading stories:  30%|██▉       | 105/351 [07:21<16:57,  4.14s/story]"
     ]
    },
    {
     "name": "stdout",
     "output_type": "stream",
     "text": [
      "Story 105 completed: Grade 5/5, Tags: []\n",
      "Waiting 1s before next story...\n",
      "\n",
      "Processing story 106/351\n"
     ]
    },
    {
     "name": "stderr",
     "output_type": "stream",
     "text": [
      "Grading stories:  30%|███       | 106/351 [07:25<16:45,  4.10s/story]"
     ]
    },
    {
     "name": "stdout",
     "output_type": "stream",
     "text": [
      "Story 106 completed: Grade 5/5, Tags: []\n",
      "Waiting 1s before next story...\n",
      "\n",
      "Processing story 107/351\n"
     ]
    },
    {
     "name": "stderr",
     "output_type": "stream",
     "text": [
      "Grading stories:  30%|███       | 107/351 [07:29<16:38,  4.09s/story]"
     ]
    },
    {
     "name": "stdout",
     "output_type": "stream",
     "text": [
      "Story 107 completed: Grade 5/5, Tags: []\n",
      "Waiting 1s before next story...\n",
      "\n",
      "Processing story 108/351\n"
     ]
    },
    {
     "name": "stderr",
     "output_type": "stream",
     "text": [
      "Grading stories:  31%|███       | 108/351 [07:34<17:15,  4.26s/story]"
     ]
    },
    {
     "name": "stdout",
     "output_type": "stream",
     "text": [
      "Story 108 completed: Grade 5/5, Tags: []\n",
      "Waiting 1s before next story...\n",
      "\n",
      "Processing story 109/351\n"
     ]
    },
    {
     "name": "stderr",
     "output_type": "stream",
     "text": [
      "Grading stories:  31%|███       | 109/351 [07:38<16:33,  4.11s/story]"
     ]
    },
    {
     "name": "stdout",
     "output_type": "stream",
     "text": [
      "Story 109 completed: Grade 5/5, Tags: []\n",
      "Waiting 1s before next story...\n",
      "\n",
      "Processing story 110/351\n"
     ]
    },
    {
     "name": "stderr",
     "output_type": "stream",
     "text": [
      "Grading stories:  31%|███▏      | 110/351 [07:42<16:18,  4.06s/story]"
     ]
    },
    {
     "name": "stdout",
     "output_type": "stream",
     "text": [
      "Story 110 completed: Grade 5/5, Tags: []\n",
      "Waiting 1s before next story...\n",
      "\n",
      "Processing story 111/351\n"
     ]
    },
    {
     "name": "stderr",
     "output_type": "stream",
     "text": [
      "Grading stories:  32%|███▏      | 111/351 [07:46<16:27,  4.11s/story]"
     ]
    },
    {
     "name": "stdout",
     "output_type": "stream",
     "text": [
      "Story 111 completed: Grade 5/5, Tags: []\n",
      "Waiting 1s before next story...\n",
      "\n",
      "Processing story 112/351\n"
     ]
    },
    {
     "name": "stderr",
     "output_type": "stream",
     "text": [
      "Grading stories:  32%|███▏      | 112/351 [07:50<16:12,  4.07s/story]"
     ]
    },
    {
     "name": "stdout",
     "output_type": "stream",
     "text": [
      "Story 112 completed: Grade 5/5, Tags: []\n",
      "Waiting 1s before next story...\n",
      "\n",
      "Processing story 113/351\n"
     ]
    },
    {
     "name": "stderr",
     "output_type": "stream",
     "text": [
      "Grading stories:  32%|███▏      | 113/351 [07:54<15:44,  3.97s/story]"
     ]
    },
    {
     "name": "stdout",
     "output_type": "stream",
     "text": [
      "Story 113 completed: Grade 5/5, Tags: []\n",
      "Waiting 1s before next story...\n",
      "\n",
      "Processing story 114/351\n"
     ]
    },
    {
     "name": "stderr",
     "output_type": "stream",
     "text": [
      "Grading stories:  32%|███▏      | 114/351 [07:57<15:24,  3.90s/story]"
     ]
    },
    {
     "name": "stdout",
     "output_type": "stream",
     "text": [
      "Story 114 completed: Grade 5/5, Tags: []\n",
      "Waiting 1s before next story...\n",
      "\n",
      "Processing story 115/351\n"
     ]
    },
    {
     "name": "stderr",
     "output_type": "stream",
     "text": [
      "Grading stories:  33%|███▎      | 115/351 [08:01<15:05,  3.84s/story]"
     ]
    },
    {
     "name": "stdout",
     "output_type": "stream",
     "text": [
      "Story 115 completed: Grade 5/5, Tags: []\n",
      "Waiting 1s before next story...\n",
      "\n",
      "Processing story 116/351\n"
     ]
    },
    {
     "name": "stderr",
     "output_type": "stream",
     "text": [
      "Grading stories:  33%|███▎      | 116/351 [08:05<15:45,  4.02s/story]"
     ]
    },
    {
     "name": "stdout",
     "output_type": "stream",
     "text": [
      "Story 116 completed: Grade 5/5, Tags: []\n",
      "Waiting 1s before next story...\n",
      "\n",
      "Processing story 117/351\n"
     ]
    },
    {
     "name": "stderr",
     "output_type": "stream",
     "text": [
      "Grading stories:  33%|███▎      | 117/351 [08:10<16:01,  4.11s/story]"
     ]
    },
    {
     "name": "stdout",
     "output_type": "stream",
     "text": [
      "Story 117 completed: Grade 5/5, Tags: []\n",
      "Waiting 1s before next story...\n",
      "\n",
      "Processing story 118/351\n"
     ]
    },
    {
     "name": "stderr",
     "output_type": "stream",
     "text": [
      "Grading stories:  34%|███▎      | 118/351 [08:14<16:03,  4.14s/story]"
     ]
    },
    {
     "name": "stdout",
     "output_type": "stream",
     "text": [
      "Story 118 completed: Grade 5/5, Tags: []\n",
      "Waiting 1s before next story...\n",
      "\n",
      "Processing story 119/351\n"
     ]
    },
    {
     "name": "stderr",
     "output_type": "stream",
     "text": [
      "Grading stories:  34%|███▍      | 119/351 [08:18<15:31,  4.02s/story]"
     ]
    },
    {
     "name": "stdout",
     "output_type": "stream",
     "text": [
      "Story 119 completed: Grade 5/5, Tags: []\n",
      "Waiting 1s before next story...\n",
      "\n",
      "Processing story 120/351\n"
     ]
    },
    {
     "name": "stderr",
     "output_type": "stream",
     "text": [
      "Grading stories:  34%|███▍      | 120/351 [08:22<15:42,  4.08s/story]"
     ]
    },
    {
     "name": "stdout",
     "output_type": "stream",
     "text": [
      "Story 120 completed: Grade 5/5, Tags: []\n",
      "Waiting 1s before next story...\n",
      "\n",
      "Processing story 121/351\n"
     ]
    },
    {
     "name": "stderr",
     "output_type": "stream",
     "text": [
      "Grading stories:  34%|███▍      | 121/351 [08:26<15:39,  4.08s/story]"
     ]
    },
    {
     "name": "stdout",
     "output_type": "stream",
     "text": [
      "Story 121 completed: Grade 5/5, Tags: []\n",
      "Waiting 1s before next story...\n",
      "\n",
      "Processing story 122/351\n"
     ]
    },
    {
     "name": "stderr",
     "output_type": "stream",
     "text": [
      "Grading stories:  35%|███▍      | 122/351 [08:30<15:06,  3.96s/story]"
     ]
    },
    {
     "name": "stdout",
     "output_type": "stream",
     "text": [
      "Story 122 completed: Grade 5/5, Tags: []\n",
      "Waiting 1s before next story...\n",
      "\n",
      "Processing story 123/351\n"
     ]
    },
    {
     "name": "stderr",
     "output_type": "stream",
     "text": [
      "Grading stories:  35%|███▌      | 123/351 [08:34<15:32,  4.09s/story]"
     ]
    },
    {
     "name": "stdout",
     "output_type": "stream",
     "text": [
      "Story 123 completed: Grade 0/5, Tags: ['duplicate']\n",
      "Waiting 1s before next story...\n",
      "\n",
      "Processing story 124/351\n"
     ]
    },
    {
     "name": "stderr",
     "output_type": "stream",
     "text": [
      "Grading stories:  35%|███▌      | 124/351 [08:38<15:07,  4.00s/story]"
     ]
    },
    {
     "name": "stdout",
     "output_type": "stream",
     "text": [
      "Story 124 completed: Grade 5/5, Tags: []\n",
      "Waiting 1s before next story...\n",
      "\n",
      "Processing story 125/351\n"
     ]
    },
    {
     "name": "stderr",
     "output_type": "stream",
     "text": [
      "Grading stories:  36%|███▌      | 125/351 [08:42<14:56,  3.97s/story]"
     ]
    },
    {
     "name": "stdout",
     "output_type": "stream",
     "text": [
      "Story 125 completed: Grade 5/5, Tags: []\n",
      "Waiting 1s before next story...\n",
      "\n",
      "Processing story 126/351\n"
     ]
    },
    {
     "name": "stderr",
     "output_type": "stream",
     "text": [
      "Grading stories:  36%|███▌      | 126/351 [08:46<14:44,  3.93s/story]"
     ]
    },
    {
     "name": "stdout",
     "output_type": "stream",
     "text": [
      "Story 126 completed: Grade 5/5, Tags: []\n",
      "Waiting 1s before next story...\n",
      "\n",
      "Processing story 127/351\n"
     ]
    },
    {
     "name": "stderr",
     "output_type": "stream",
     "text": [
      "Grading stories:  36%|███▌      | 127/351 [08:49<14:34,  3.90s/story]"
     ]
    },
    {
     "name": "stdout",
     "output_type": "stream",
     "text": [
      "Story 127 completed: Grade 5/5, Tags: []\n",
      "Waiting 1s before next story...\n",
      "\n",
      "Processing story 128/351\n"
     ]
    },
    {
     "name": "stderr",
     "output_type": "stream",
     "text": [
      "Grading stories:  36%|███▋      | 128/351 [08:53<14:38,  3.94s/story]"
     ]
    },
    {
     "name": "stdout",
     "output_type": "stream",
     "text": [
      "Story 128 completed: Grade 5/5, Tags: []\n",
      "Waiting 1s before next story...\n",
      "\n",
      "Processing story 129/351\n"
     ]
    },
    {
     "name": "stderr",
     "output_type": "stream",
     "text": [
      "Grading stories:  37%|███▋      | 129/351 [08:58<14:56,  4.04s/story]"
     ]
    },
    {
     "name": "stdout",
     "output_type": "stream",
     "text": [
      "Story 129 completed: Grade 5/5, Tags: []\n",
      "Waiting 1s before next story...\n",
      "\n",
      "Processing story 130/351\n"
     ]
    },
    {
     "name": "stderr",
     "output_type": "stream",
     "text": [
      "Grading stories:  37%|███▋      | 130/351 [09:02<14:57,  4.06s/story]"
     ]
    },
    {
     "name": "stdout",
     "output_type": "stream",
     "text": [
      "Story 130 completed: Grade 5/5, Tags: []\n",
      "Waiting 1s before next story...\n",
      "\n",
      "Processing story 131/351\n"
     ]
    },
    {
     "name": "stderr",
     "output_type": "stream",
     "text": [
      "Grading stories:  37%|███▋      | 131/351 [09:06<14:54,  4.06s/story]"
     ]
    },
    {
     "name": "stdout",
     "output_type": "stream",
     "text": [
      "Story 131 completed: Grade 5/5, Tags: []\n",
      "Waiting 1s before next story...\n",
      "\n",
      "Processing story 132/351\n"
     ]
    },
    {
     "name": "stderr",
     "output_type": "stream",
     "text": [
      "Grading stories:  38%|███▊      | 132/351 [09:10<15:20,  4.20s/story]"
     ]
    },
    {
     "name": "stdout",
     "output_type": "stream",
     "text": [
      "Story 132 completed: Grade 5/5, Tags: []\n",
      "Waiting 1s before next story...\n",
      "\n",
      "Processing story 133/351\n"
     ]
    },
    {
     "name": "stderr",
     "output_type": "stream",
     "text": [
      "Grading stories:  38%|███▊      | 133/351 [09:15<15:36,  4.30s/story]"
     ]
    },
    {
     "name": "stdout",
     "output_type": "stream",
     "text": [
      "Story 133 completed: Grade 5/5, Tags: []\n",
      "Waiting 1s before next story...\n",
      "\n",
      "Processing story 134/351\n"
     ]
    },
    {
     "name": "stderr",
     "output_type": "stream",
     "text": [
      "Grading stories:  38%|███▊      | 134/351 [09:18<14:42,  4.07s/story]"
     ]
    },
    {
     "name": "stdout",
     "output_type": "stream",
     "text": [
      "Story 134 completed: Grade 5/5, Tags: []\n",
      "Waiting 1s before next story...\n",
      "\n",
      "Processing story 135/351\n"
     ]
    },
    {
     "name": "stderr",
     "output_type": "stream",
     "text": [
      "Grading stories:  38%|███▊      | 135/351 [09:22<14:21,  3.99s/story]"
     ]
    },
    {
     "name": "stdout",
     "output_type": "stream",
     "text": [
      "Story 135 completed: Grade 5/5, Tags: []\n",
      "Waiting 1s before next story...\n",
      "\n",
      "Processing story 136/351\n"
     ]
    },
    {
     "name": "stderr",
     "output_type": "stream",
     "text": [
      "Grading stories:  39%|███▊      | 136/351 [09:27<14:45,  4.12s/story]"
     ]
    },
    {
     "name": "stdout",
     "output_type": "stream",
     "text": [
      "Story 136 completed: Grade 5/5, Tags: []\n",
      "Waiting 1s before next story...\n",
      "\n",
      "Processing story 137/351\n"
     ]
    },
    {
     "name": "stderr",
     "output_type": "stream",
     "text": [
      "Grading stories:  39%|███▉      | 137/351 [09:31<14:47,  4.15s/story]"
     ]
    },
    {
     "name": "stdout",
     "output_type": "stream",
     "text": [
      "Story 137 completed: Grade 4/5, Tags: ['typo']\n",
      "Waiting 1s before next story...\n",
      "\n",
      "Processing story 138/351\n"
     ]
    },
    {
     "name": "stderr",
     "output_type": "stream",
     "text": [
      "Grading stories:  39%|███▉      | 138/351 [09:35<14:12,  4.00s/story]"
     ]
    },
    {
     "name": "stdout",
     "output_type": "stream",
     "text": [
      "Story 138 completed: Grade 5/5, Tags: []\n",
      "Waiting 1s before next story...\n",
      "\n",
      "Processing story 139/351\n"
     ]
    },
    {
     "name": "stderr",
     "output_type": "stream",
     "text": [
      "Grading stories:  40%|███▉      | 139/351 [09:39<15:05,  4.27s/story]"
     ]
    },
    {
     "name": "stdout",
     "output_type": "stream",
     "text": [
      "Story 139 completed: Grade 0/5, Tags: ['duplicate']\n",
      "Waiting 1s before next story...\n",
      "\n",
      "Processing story 140/351\n"
     ]
    },
    {
     "name": "stderr",
     "output_type": "stream",
     "text": [
      "Grading stories:  40%|███▉      | 140/351 [09:44<14:56,  4.25s/story]"
     ]
    },
    {
     "name": "stdout",
     "output_type": "stream",
     "text": [
      "Story 140 completed: Grade 5/5, Tags: []\n",
      "Waiting 1s before next story...\n",
      "\n",
      "Processing story 141/351\n"
     ]
    },
    {
     "name": "stderr",
     "output_type": "stream",
     "text": [
      "Grading stories:  40%|████      | 141/351 [09:47<14:20,  4.10s/story]"
     ]
    },
    {
     "name": "stdout",
     "output_type": "stream",
     "text": [
      "Story 141 completed: Grade 5/5, Tags: []\n",
      "Waiting 1s before next story...\n",
      "\n",
      "Processing story 142/351\n"
     ]
    },
    {
     "name": "stderr",
     "output_type": "stream",
     "text": [
      "Grading stories:  40%|████      | 142/351 [09:51<13:44,  3.95s/story]"
     ]
    },
    {
     "name": "stdout",
     "output_type": "stream",
     "text": [
      "Story 142 completed: Grade 5/5, Tags: []\n",
      "Waiting 1s before next story...\n",
      "\n",
      "Processing story 143/351\n"
     ]
    },
    {
     "name": "stderr",
     "output_type": "stream",
     "text": [
      "Grading stories:  41%|████      | 143/351 [09:55<13:56,  4.02s/story]"
     ]
    },
    {
     "name": "stdout",
     "output_type": "stream",
     "text": [
      "Story 143 completed: Grade 5/5, Tags: []\n",
      "Waiting 1s before next story...\n",
      "\n",
      "Processing story 144/351\n"
     ]
    },
    {
     "name": "stderr",
     "output_type": "stream",
     "text": [
      "Grading stories:  41%|████      | 144/351 [09:59<13:41,  3.97s/story]"
     ]
    },
    {
     "name": "stdout",
     "output_type": "stream",
     "text": [
      "Story 144 completed: Grade 4/5, Tags: ['typo']\n",
      "Waiting 1s before next story...\n",
      "\n",
      "Processing story 145/351\n"
     ]
    },
    {
     "name": "stderr",
     "output_type": "stream",
     "text": [
      "Grading stories:  41%|████▏     | 145/351 [10:03<14:01,  4.08s/story]"
     ]
    },
    {
     "name": "stdout",
     "output_type": "stream",
     "text": [
      "Story 145 completed: Grade 4/5, Tags: ['typo']\n",
      "Waiting 1s before next story...\n",
      "\n",
      "Processing story 146/351\n"
     ]
    },
    {
     "name": "stderr",
     "output_type": "stream",
     "text": [
      "Grading stories:  42%|████▏     | 146/351 [10:08<14:29,  4.24s/story]"
     ]
    },
    {
     "name": "stdout",
     "output_type": "stream",
     "text": [
      "Story 146 completed: Grade 2/5, Tags: ['bad-structure']\n",
      "Waiting 1s before next story...\n",
      "\n",
      "Processing story 147/351\n"
     ]
    },
    {
     "name": "stderr",
     "output_type": "stream",
     "text": [
      "Grading stories:  42%|████▏     | 147/351 [10:12<14:15,  4.20s/story]"
     ]
    },
    {
     "name": "stdout",
     "output_type": "stream",
     "text": [
      "Story 147 completed: Grade 5/5, Tags: []\n",
      "Waiting 1s before next story...\n",
      "\n",
      "Processing story 148/351\n"
     ]
    },
    {
     "name": "stderr",
     "output_type": "stream",
     "text": [
      "Grading stories:  42%|████▏     | 148/351 [10:16<13:24,  3.96s/story]"
     ]
    },
    {
     "name": "stdout",
     "output_type": "stream",
     "text": [
      "Story 148 completed: Grade 5/5, Tags: []\n",
      "Waiting 1s before next story...\n",
      "\n",
      "Processing story 149/351\n"
     ]
    },
    {
     "name": "stderr",
     "output_type": "stream",
     "text": [
      "Grading stories:  42%|████▏     | 149/351 [10:20<13:31,  4.02s/story]"
     ]
    },
    {
     "name": "stdout",
     "output_type": "stream",
     "text": [
      "Story 149 completed: Grade 5/5, Tags: []\n",
      "Waiting 1s before next story...\n",
      "\n",
      "Processing story 150/351\n"
     ]
    },
    {
     "name": "stderr",
     "output_type": "stream",
     "text": [
      "Grading stories:  43%|████▎     | 150/351 [10:24<13:18,  3.97s/story]"
     ]
    },
    {
     "name": "stdout",
     "output_type": "stream",
     "text": [
      "Story 150 completed: Grade 3/5, Tags: ['ui-polish']\n",
      "Waiting 1s before next story...\n",
      "\n",
      "Processing story 151/351\n"
     ]
    },
    {
     "name": "stderr",
     "output_type": "stream",
     "text": [
      "Grading stories:  43%|████▎     | 151/351 [10:28<13:38,  4.09s/story]"
     ]
    },
    {
     "name": "stdout",
     "output_type": "stream",
     "text": [
      "Story 151 completed: Grade 5/5, Tags: []\n",
      "Waiting 1s before next story...\n",
      "\n",
      "Processing story 152/351\n"
     ]
    },
    {
     "name": "stderr",
     "output_type": "stream",
     "text": [
      "Grading stories:  43%|████▎     | 152/351 [10:32<13:49,  4.17s/story]"
     ]
    },
    {
     "name": "stdout",
     "output_type": "stream",
     "text": [
      "Story 152 completed: Grade 3/5, Tags: ['ui-polish']\n",
      "Waiting 1s before next story...\n",
      "\n",
      "Processing story 153/351\n"
     ]
    },
    {
     "name": "stderr",
     "output_type": "stream",
     "text": [
      "Grading stories:  44%|████▎     | 153/351 [10:36<13:07,  3.98s/story]"
     ]
    },
    {
     "name": "stdout",
     "output_type": "stream",
     "text": [
      "Story 153 completed: Grade 5/5, Tags: []\n",
      "Waiting 1s before next story...\n",
      "\n",
      "Processing story 154/351\n"
     ]
    },
    {
     "name": "stderr",
     "output_type": "stream",
     "text": [
      "Grading stories:  44%|████▍     | 154/351 [10:40<13:25,  4.09s/story]"
     ]
    },
    {
     "name": "stdout",
     "output_type": "stream",
     "text": [
      "Story 154 completed: Grade 5/5, Tags: []\n",
      "Waiting 1s before next story...\n",
      "\n",
      "Processing story 155/351\n"
     ]
    },
    {
     "name": "stderr",
     "output_type": "stream",
     "text": [
      "Grading stories:  44%|████▍     | 155/351 [10:44<13:35,  4.16s/story]"
     ]
    },
    {
     "name": "stdout",
     "output_type": "stream",
     "text": [
      "Story 155 completed: Grade 3/5, Tags: ['ui-polish']\n",
      "Waiting 1s before next story...\n",
      "\n",
      "Processing story 156/351\n"
     ]
    },
    {
     "name": "stderr",
     "output_type": "stream",
     "text": [
      "Grading stories:  44%|████▍     | 156/351 [10:48<13:10,  4.06s/story]"
     ]
    },
    {
     "name": "stdout",
     "output_type": "stream",
     "text": [
      "Story 156 completed: Grade 5/5, Tags: []\n",
      "Waiting 1s before next story...\n",
      "\n",
      "Processing story 157/351\n"
     ]
    },
    {
     "name": "stderr",
     "output_type": "stream",
     "text": [
      "Grading stories:  45%|████▍     | 157/351 [10:53<13:28,  4.17s/story]"
     ]
    },
    {
     "name": "stdout",
     "output_type": "stream",
     "text": [
      "Story 157 completed: Grade 2/5, Tags: ['ui-polish', 'typo']\n",
      "Waiting 1s before next story...\n",
      "\n",
      "Processing story 158/351\n"
     ]
    },
    {
     "name": "stderr",
     "output_type": "stream",
     "text": [
      "Grading stories:  45%|████▌     | 158/351 [10:57<13:06,  4.08s/story]"
     ]
    },
    {
     "name": "stdout",
     "output_type": "stream",
     "text": [
      "Story 158 completed: Grade 5/5, Tags: []\n",
      "Waiting 1s before next story...\n",
      "\n",
      "Processing story 159/351\n"
     ]
    },
    {
     "name": "stderr",
     "output_type": "stream",
     "text": [
      "Grading stories:  45%|████▌     | 159/351 [11:01<13:22,  4.18s/story]"
     ]
    },
    {
     "name": "stdout",
     "output_type": "stream",
     "text": [
      "Story 159 completed: Grade 5/5, Tags: []\n",
      "Waiting 1s before next story...\n",
      "\n",
      "Processing story 160/351\n"
     ]
    },
    {
     "name": "stderr",
     "output_type": "stream",
     "text": [
      "Grading stories:  46%|████▌     | 160/351 [11:06<14:12,  4.46s/story]"
     ]
    },
    {
     "name": "stdout",
     "output_type": "stream",
     "text": [
      "Story 160 completed: Grade 5/5, Tags: []\n",
      "Waiting 1s before next story...\n",
      "\n",
      "Processing story 161/351\n"
     ]
    },
    {
     "name": "stderr",
     "output_type": "stream",
     "text": [
      "Grading stories:  46%|████▌     | 161/351 [11:11<14:23,  4.55s/story]"
     ]
    },
    {
     "name": "stdout",
     "output_type": "stream",
     "text": [
      "Story 161 completed: Grade 5/5, Tags: []\n",
      "Waiting 1s before next story...\n",
      "\n",
      "Processing story 162/351\n"
     ]
    },
    {
     "name": "stderr",
     "output_type": "stream",
     "text": [
      "Grading stories:  46%|████▌     | 162/351 [11:16<14:33,  4.62s/story]"
     ]
    },
    {
     "name": "stdout",
     "output_type": "stream",
     "text": [
      "Story 162 completed: Grade 5/5, Tags: []\n",
      "Waiting 1s before next story...\n",
      "\n",
      "Processing story 163/351\n"
     ]
    },
    {
     "name": "stderr",
     "output_type": "stream",
     "text": [
      "Grading stories:  46%|████▋     | 163/351 [11:20<14:04,  4.49s/story]"
     ]
    },
    {
     "name": "stdout",
     "output_type": "stream",
     "text": [
      "Story 163 completed: Grade 5/5, Tags: []\n",
      "Waiting 1s before next story...\n",
      "\n",
      "Processing story 164/351\n"
     ]
    },
    {
     "name": "stderr",
     "output_type": "stream",
     "text": [
      "Grading stories:  47%|████▋     | 164/351 [11:24<13:50,  4.44s/story]"
     ]
    },
    {
     "name": "stdout",
     "output_type": "stream",
     "text": [
      "Story 164 completed: Grade 5/5, Tags: []\n",
      "Waiting 1s before next story...\n",
      "\n",
      "Processing story 165/351\n"
     ]
    },
    {
     "name": "stderr",
     "output_type": "stream",
     "text": [
      "Grading stories:  47%|████▋     | 165/351 [11:28<13:18,  4.29s/story]"
     ]
    },
    {
     "name": "stdout",
     "output_type": "stream",
     "text": [
      "Story 165 completed: Grade 5/5, Tags: []\n",
      "Waiting 1s before next story...\n",
      "\n",
      "Processing story 166/351\n"
     ]
    },
    {
     "name": "stderr",
     "output_type": "stream",
     "text": [
      "Grading stories:  47%|████▋     | 166/351 [11:32<12:39,  4.11s/story]"
     ]
    },
    {
     "name": "stdout",
     "output_type": "stream",
     "text": [
      "Story 166 completed: Grade 5/5, Tags: []\n",
      "Waiting 1s before next story...\n",
      "\n",
      "Processing story 167/351\n"
     ]
    },
    {
     "name": "stderr",
     "output_type": "stream",
     "text": [
      "Grading stories:  48%|████▊     | 167/351 [11:36<12:25,  4.05s/story]"
     ]
    },
    {
     "name": "stdout",
     "output_type": "stream",
     "text": [
      "Story 167 completed: Grade 5/5, Tags: []\n",
      "Waiting 1s before next story...\n",
      "\n",
      "Processing story 168/351\n"
     ]
    },
    {
     "name": "stderr",
     "output_type": "stream",
     "text": [
      "Grading stories:  48%|████▊     | 168/351 [11:39<12:00,  3.94s/story]"
     ]
    },
    {
     "name": "stdout",
     "output_type": "stream",
     "text": [
      "Story 168 completed: Grade 5/5, Tags: []\n",
      "Waiting 1s before next story...\n",
      "\n",
      "Processing story 169/351\n"
     ]
    },
    {
     "name": "stderr",
     "output_type": "stream",
     "text": [
      "Grading stories:  48%|████▊     | 169/351 [11:44<12:11,  4.02s/story]"
     ]
    },
    {
     "name": "stdout",
     "output_type": "stream",
     "text": [
      "Story 169 completed: Grade 0/5, Tags: ['irrelevant']\n",
      "Waiting 1s before next story...\n",
      "\n",
      "Processing story 170/351\n"
     ]
    },
    {
     "name": "stderr",
     "output_type": "stream",
     "text": [
      "Grading stories:  48%|████▊     | 170/351 [11:48<12:33,  4.16s/story]"
     ]
    },
    {
     "name": "stdout",
     "output_type": "stream",
     "text": [
      "Story 170 completed: Grade 5/5, Tags: []\n",
      "Waiting 1s before next story...\n",
      "\n",
      "Processing story 171/351\n"
     ]
    },
    {
     "name": "stderr",
     "output_type": "stream",
     "text": [
      "Grading stories:  49%|████▊     | 171/351 [11:53<13:00,  4.34s/story]"
     ]
    },
    {
     "name": "stdout",
     "output_type": "stream",
     "text": [
      "Story 171 completed: Grade 3/5, Tags: ['ui-polish']\n",
      "Waiting 1s before next story...\n",
      "\n",
      "Processing story 172/351\n"
     ]
    },
    {
     "name": "stderr",
     "output_type": "stream",
     "text": [
      "Grading stories:  49%|████▉     | 172/351 [11:57<12:31,  4.20s/story]"
     ]
    },
    {
     "name": "stdout",
     "output_type": "stream",
     "text": [
      "Story 172 completed: Grade 0/5, Tags: ['duplicate']\n",
      "Waiting 1s before next story...\n",
      "\n",
      "Processing story 173/351\n"
     ]
    },
    {
     "name": "stderr",
     "output_type": "stream",
     "text": [
      "Grading stories:  49%|████▉     | 173/351 [12:01<12:38,  4.26s/story]"
     ]
    },
    {
     "name": "stdout",
     "output_type": "stream",
     "text": [
      "Story 173 completed: Grade 5/5, Tags: []\n",
      "Waiting 1s before next story...\n",
      "\n",
      "Processing story 174/351\n"
     ]
    },
    {
     "name": "stderr",
     "output_type": "stream",
     "text": [
      "Grading stories:  50%|████▉     | 174/351 [12:05<12:21,  4.19s/story]"
     ]
    },
    {
     "name": "stdout",
     "output_type": "stream",
     "text": [
      "Story 174 completed: Grade 5/5, Tags: []\n",
      "Waiting 1s before next story...\n",
      "\n",
      "Processing story 175/351\n"
     ]
    },
    {
     "name": "stderr",
     "output_type": "stream",
     "text": [
      "Grading stories:  50%|████▉     | 175/351 [12:09<12:26,  4.24s/story]"
     ]
    },
    {
     "name": "stdout",
     "output_type": "stream",
     "text": [
      "Story 175 completed: Grade 5/5, Tags: []\n",
      "Waiting 1s before next story...\n",
      "\n",
      "Processing story 176/351\n"
     ]
    },
    {
     "name": "stderr",
     "output_type": "stream",
     "text": [
      "Grading stories:  50%|█████     | 176/351 [12:13<12:09,  4.17s/story]"
     ]
    },
    {
     "name": "stdout",
     "output_type": "stream",
     "text": [
      "Story 176 completed: Grade 4/5, Tags: ['typo']\n",
      "Waiting 1s before next story...\n",
      "\n",
      "Processing story 177/351\n"
     ]
    },
    {
     "name": "stderr",
     "output_type": "stream",
     "text": [
      "Grading stories:  50%|█████     | 177/351 [12:17<11:38,  4.01s/story]"
     ]
    },
    {
     "name": "stdout",
     "output_type": "stream",
     "text": [
      "Story 177 completed: Grade 5/5, Tags: []\n",
      "Waiting 1s before next story...\n",
      "\n",
      "Processing story 178/351\n"
     ]
    },
    {
     "name": "stderr",
     "output_type": "stream",
     "text": [
      "Grading stories:  51%|█████     | 178/351 [12:21<11:28,  3.98s/story]"
     ]
    },
    {
     "name": "stdout",
     "output_type": "stream",
     "text": [
      "Story 178 completed: Grade 4/5, Tags: ['typo']\n",
      "Waiting 1s before next story...\n",
      "\n",
      "Processing story 179/351\n"
     ]
    },
    {
     "name": "stderr",
     "output_type": "stream",
     "text": [
      "Grading stories:  51%|█████     | 179/351 [12:25<11:09,  3.89s/story]"
     ]
    },
    {
     "name": "stdout",
     "output_type": "stream",
     "text": [
      "Story 179 completed: Grade 5/5, Tags: []\n",
      "Waiting 1s before next story...\n",
      "\n",
      "Processing story 180/351\n"
     ]
    },
    {
     "name": "stderr",
     "output_type": "stream",
     "text": [
      "Grading stories:  51%|█████▏    | 180/351 [12:29<11:23,  4.00s/story]"
     ]
    },
    {
     "name": "stdout",
     "output_type": "stream",
     "text": [
      "Story 180 completed: Grade 5/5, Tags: []\n",
      "Waiting 1s before next story...\n",
      "\n",
      "Processing story 181/351\n"
     ]
    },
    {
     "name": "stderr",
     "output_type": "stream",
     "text": [
      "Grading stories:  52%|█████▏    | 181/351 [12:33<11:11,  3.95s/story]"
     ]
    },
    {
     "name": "stdout",
     "output_type": "stream",
     "text": [
      "Story 181 completed: Grade 5/5, Tags: []\n",
      "Waiting 1s before next story...\n",
      "\n",
      "Processing story 182/351\n"
     ]
    },
    {
     "name": "stderr",
     "output_type": "stream",
     "text": [
      "Grading stories:  52%|█████▏    | 182/351 [12:37<11:02,  3.92s/story]"
     ]
    },
    {
     "name": "stdout",
     "output_type": "stream",
     "text": [
      "Story 182 completed: Grade 5/5, Tags: []\n",
      "Waiting 1s before next story...\n",
      "\n",
      "Processing story 183/351\n"
     ]
    },
    {
     "name": "stderr",
     "output_type": "stream",
     "text": [
      "Grading stories:  52%|█████▏    | 183/351 [12:41<10:55,  3.90s/story]"
     ]
    },
    {
     "name": "stdout",
     "output_type": "stream",
     "text": [
      "Story 183 completed: Grade 5/5, Tags: []\n",
      "Waiting 1s before next story...\n",
      "\n",
      "Processing story 184/351\n"
     ]
    },
    {
     "name": "stderr",
     "output_type": "stream",
     "text": [
      "Grading stories:  52%|█████▏    | 184/351 [12:44<10:52,  3.91s/story]"
     ]
    },
    {
     "name": "stdout",
     "output_type": "stream",
     "text": [
      "Story 184 completed: Grade 5/5, Tags: []\n",
      "Waiting 1s before next story...\n",
      "\n",
      "Processing story 185/351\n"
     ]
    },
    {
     "name": "stderr",
     "output_type": "stream",
     "text": [
      "Grading stories:  53%|█████▎    | 185/351 [12:48<10:46,  3.89s/story]"
     ]
    },
    {
     "name": "stdout",
     "output_type": "stream",
     "text": [
      "Story 185 completed: Grade 5/5, Tags: []\n",
      "Waiting 1s before next story...\n",
      "\n",
      "Processing story 186/351\n"
     ]
    },
    {
     "name": "stderr",
     "output_type": "stream",
     "text": [
      "Grading stories:  53%|█████▎    | 186/351 [12:52<10:39,  3.87s/story]"
     ]
    },
    {
     "name": "stdout",
     "output_type": "stream",
     "text": [
      "Story 186 completed: Grade 5/5, Tags: []\n",
      "Waiting 1s before next story...\n",
      "\n",
      "Processing story 187/351\n"
     ]
    },
    {
     "name": "stderr",
     "output_type": "stream",
     "text": [
      "Grading stories:  53%|█████▎    | 187/351 [12:56<10:31,  3.85s/story]"
     ]
    },
    {
     "name": "stdout",
     "output_type": "stream",
     "text": [
      "Story 187 completed: Grade 5/5, Tags: []\n",
      "Waiting 1s before next story...\n",
      "\n",
      "Processing story 188/351\n"
     ]
    },
    {
     "name": "stderr",
     "output_type": "stream",
     "text": [
      "Grading stories:  54%|█████▎    | 188/351 [13:00<10:30,  3.87s/story]"
     ]
    },
    {
     "name": "stdout",
     "output_type": "stream",
     "text": [
      "Story 188 completed: Grade 5/5, Tags: []\n",
      "Waiting 1s before next story...\n",
      "\n",
      "Processing story 189/351\n"
     ]
    },
    {
     "name": "stderr",
     "output_type": "stream",
     "text": [
      "Grading stories:  54%|█████▍    | 189/351 [13:03<10:14,  3.80s/story]"
     ]
    },
    {
     "name": "stdout",
     "output_type": "stream",
     "text": [
      "Story 189 completed: Grade 5/5, Tags: []\n",
      "Waiting 1s before next story...\n",
      "\n",
      "Processing story 190/351\n"
     ]
    },
    {
     "name": "stderr",
     "output_type": "stream",
     "text": [
      "Grading stories:  54%|█████▍    | 190/351 [13:07<10:04,  3.76s/story]"
     ]
    },
    {
     "name": "stdout",
     "output_type": "stream",
     "text": [
      "Story 190 completed: Grade 5/5, Tags: []\n",
      "Waiting 1s before next story...\n",
      "\n",
      "Processing story 191/351\n"
     ]
    },
    {
     "name": "stderr",
     "output_type": "stream",
     "text": [
      "Grading stories:  54%|█████▍    | 191/351 [13:11<09:57,  3.73s/story]"
     ]
    },
    {
     "name": "stdout",
     "output_type": "stream",
     "text": [
      "Story 191 completed: Grade 5/5, Tags: []\n",
      "Waiting 1s before next story...\n",
      "\n",
      "Processing story 192/351\n"
     ]
    },
    {
     "name": "stderr",
     "output_type": "stream",
     "text": [
      "Grading stories:  55%|█████▍    | 192/351 [13:15<09:56,  3.75s/story]"
     ]
    },
    {
     "name": "stdout",
     "output_type": "stream",
     "text": [
      "Story 192 completed: Grade 5/5, Tags: []\n",
      "Waiting 1s before next story...\n",
      "\n",
      "Processing story 193/351\n"
     ]
    },
    {
     "name": "stderr",
     "output_type": "stream",
     "text": [
      "Grading stories:  55%|█████▍    | 193/351 [13:18<09:47,  3.72s/story]"
     ]
    },
    {
     "name": "stdout",
     "output_type": "stream",
     "text": [
      "Story 193 completed: Grade 5/5, Tags: []\n",
      "Waiting 1s before next story...\n",
      "\n",
      "Processing story 194/351\n"
     ]
    },
    {
     "name": "stderr",
     "output_type": "stream",
     "text": [
      "Grading stories:  55%|█████▌    | 194/351 [13:22<10:07,  3.87s/story]"
     ]
    },
    {
     "name": "stdout",
     "output_type": "stream",
     "text": [
      "Story 194 completed: Grade 5/5, Tags: []\n",
      "Waiting 1s before next story...\n",
      "\n",
      "Processing story 195/351\n"
     ]
    },
    {
     "name": "stderr",
     "output_type": "stream",
     "text": [
      "Grading stories:  56%|█████▌    | 195/351 [13:26<09:40,  3.72s/story]"
     ]
    },
    {
     "name": "stdout",
     "output_type": "stream",
     "text": [
      "Story 195 completed: Grade 5/5, Tags: []\n",
      "Waiting 1s before next story...\n",
      "\n",
      "Processing story 196/351\n"
     ]
    },
    {
     "name": "stderr",
     "output_type": "stream",
     "text": [
      "Grading stories:  56%|█████▌    | 196/351 [13:30<09:38,  3.73s/story]"
     ]
    },
    {
     "name": "stdout",
     "output_type": "stream",
     "text": [
      "Story 196 completed: Grade 5/5, Tags: []\n",
      "Waiting 1s before next story...\n",
      "\n",
      "Processing story 197/351\n"
     ]
    },
    {
     "name": "stderr",
     "output_type": "stream",
     "text": [
      "Grading stories:  56%|█████▌    | 197/351 [13:33<09:38,  3.75s/story]"
     ]
    },
    {
     "name": "stdout",
     "output_type": "stream",
     "text": [
      "Story 197 completed: Grade 5/5, Tags: []\n",
      "Waiting 1s before next story...\n",
      "\n",
      "Processing story 198/351\n"
     ]
    },
    {
     "name": "stderr",
     "output_type": "stream",
     "text": [
      "Grading stories:  56%|█████▋    | 198/351 [13:37<09:33,  3.75s/story]"
     ]
    },
    {
     "name": "stdout",
     "output_type": "stream",
     "text": [
      "Story 198 completed: Grade 5/5, Tags: []\n",
      "Waiting 1s before next story...\n",
      "\n",
      "Processing story 199/351\n"
     ]
    },
    {
     "name": "stderr",
     "output_type": "stream",
     "text": [
      "Grading stories:  57%|█████▋    | 199/351 [13:43<11:00,  4.35s/story]"
     ]
    },
    {
     "name": "stdout",
     "output_type": "stream",
     "text": [
      "Story 199 completed: Grade 5/5, Tags: []\n",
      "Waiting 1s before next story...\n",
      "\n",
      "Processing story 200/351\n"
     ]
    },
    {
     "name": "stderr",
     "output_type": "stream",
     "text": [
      "Grading stories:  57%|█████▋    | 200/351 [13:47<10:46,  4.28s/story]"
     ]
    },
    {
     "name": "stdout",
     "output_type": "stream",
     "text": [
      "Story 200 completed: Grade 5/5, Tags: []\n",
      "Waiting 1s before next story...\n",
      "\n",
      "Processing story 201/351\n"
     ]
    },
    {
     "name": "stderr",
     "output_type": "stream",
     "text": [
      "Grading stories:  57%|█████▋    | 201/351 [13:51<10:29,  4.20s/story]"
     ]
    },
    {
     "name": "stdout",
     "output_type": "stream",
     "text": [
      "Story 201 completed: Grade 0/5, Tags: ['irrelevant', 'role-mismatch']\n",
      "Waiting 1s before next story...\n",
      "\n",
      "Processing story 202/351\n"
     ]
    },
    {
     "name": "stderr",
     "output_type": "stream",
     "text": [
      "Grading stories:  58%|█████▊    | 202/351 [13:55<10:36,  4.27s/story]"
     ]
    },
    {
     "name": "stdout",
     "output_type": "stream",
     "text": [
      "Story 202 completed: Grade 3/5, Tags: ['ui-polish']\n",
      "Waiting 1s before next story...\n",
      "\n",
      "Processing story 203/351\n"
     ]
    },
    {
     "name": "stderr",
     "output_type": "stream",
     "text": [
      "Grading stories:  58%|█████▊    | 203/351 [14:00<10:51,  4.40s/story]"
     ]
    },
    {
     "name": "stdout",
     "output_type": "stream",
     "text": [
      "Story 203 completed: Grade 4/5, Tags: ['typo']\n",
      "Waiting 1s before next story...\n",
      "\n",
      "Processing story 204/351\n"
     ]
    },
    {
     "name": "stderr",
     "output_type": "stream",
     "text": [
      "Grading stories:  58%|█████▊    | 204/351 [14:04<10:24,  4.25s/story]"
     ]
    },
    {
     "name": "stdout",
     "output_type": "stream",
     "text": [
      "Story 204 completed: Grade 5/5, Tags: []\n",
      "Waiting 1s before next story...\n",
      "\n",
      "Processing story 205/351\n"
     ]
    },
    {
     "name": "stderr",
     "output_type": "stream",
     "text": [
      "Grading stories:  58%|█████▊    | 205/351 [14:09<10:43,  4.41s/story]"
     ]
    },
    {
     "name": "stdout",
     "output_type": "stream",
     "text": [
      "Story 205 completed: Grade 5/5, Tags: []\n",
      "Waiting 1s before next story...\n",
      "\n",
      "Processing story 206/351\n"
     ]
    },
    {
     "name": "stderr",
     "output_type": "stream",
     "text": [
      "Grading stories:  59%|█████▊    | 206/351 [14:13<10:34,  4.38s/story]"
     ]
    },
    {
     "name": "stdout",
     "output_type": "stream",
     "text": [
      "Story 206 completed: Grade 5/5, Tags: []\n",
      "Waiting 1s before next story...\n",
      "\n",
      "Processing story 207/351\n"
     ]
    },
    {
     "name": "stderr",
     "output_type": "stream",
     "text": [
      "Grading stories:  59%|█████▉    | 207/351 [14:19<11:34,  4.83s/story]"
     ]
    },
    {
     "name": "stdout",
     "output_type": "stream",
     "text": [
      "Story 207 completed: Grade 5/5, Tags: []\n",
      "Waiting 1s before next story...\n",
      "\n",
      "Processing story 208/351\n"
     ]
    },
    {
     "name": "stderr",
     "output_type": "stream",
     "text": [
      "Grading stories:  59%|█████▉    | 208/351 [14:23<10:39,  4.47s/story]"
     ]
    },
    {
     "name": "stdout",
     "output_type": "stream",
     "text": [
      "Story 208 completed: Grade 5/5, Tags: []\n",
      "Waiting 1s before next story...\n",
      "\n",
      "Processing story 209/351\n"
     ]
    },
    {
     "name": "stderr",
     "output_type": "stream",
     "text": [
      "Grading stories:  60%|█████▉    | 209/351 [14:27<10:09,  4.29s/story]"
     ]
    },
    {
     "name": "stdout",
     "output_type": "stream",
     "text": [
      "Story 209 completed: Grade 5/5, Tags: []\n",
      "Waiting 1s before next story...\n",
      "\n",
      "Processing story 210/351\n"
     ]
    },
    {
     "name": "stderr",
     "output_type": "stream",
     "text": [
      "Grading stories:  60%|█████▉    | 210/351 [14:30<09:45,  4.16s/story]"
     ]
    },
    {
     "name": "stdout",
     "output_type": "stream",
     "text": [
      "Story 210 completed: Grade 5/5, Tags: []\n",
      "Waiting 1s before next story...\n",
      "\n",
      "Processing story 211/351\n"
     ]
    },
    {
     "name": "stderr",
     "output_type": "stream",
     "text": [
      "Grading stories:  60%|██████    | 211/351 [14:35<09:49,  4.21s/story]"
     ]
    },
    {
     "name": "stdout",
     "output_type": "stream",
     "text": [
      "Story 211 completed: Grade 5/5, Tags: []\n",
      "Waiting 1s before next story...\n",
      "\n",
      "Processing story 212/351\n"
     ]
    },
    {
     "name": "stderr",
     "output_type": "stream",
     "text": [
      "Grading stories:  60%|██████    | 212/351 [14:39<09:50,  4.25s/story]"
     ]
    },
    {
     "name": "stdout",
     "output_type": "stream",
     "text": [
      "Story 212 completed: Grade 5/5, Tags: []\n",
      "Waiting 1s before next story...\n",
      "\n",
      "Processing story 213/351\n"
     ]
    },
    {
     "name": "stderr",
     "output_type": "stream",
     "text": [
      "Grading stories:  61%|██████    | 213/351 [14:44<10:01,  4.36s/story]"
     ]
    },
    {
     "name": "stdout",
     "output_type": "stream",
     "text": [
      "Story 213 completed: Grade 5/5, Tags: []\n",
      "Waiting 1s before next story...\n",
      "\n",
      "Processing story 214/351\n"
     ]
    },
    {
     "name": "stderr",
     "output_type": "stream",
     "text": [
      "Grading stories:  61%|██████    | 214/351 [14:48<09:42,  4.25s/story]"
     ]
    },
    {
     "name": "stdout",
     "output_type": "stream",
     "text": [
      "Story 214 completed: Grade 5/5, Tags: []\n",
      "Waiting 1s before next story...\n",
      "\n",
      "Processing story 215/351\n"
     ]
    },
    {
     "name": "stderr",
     "output_type": "stream",
     "text": [
      "Grading stories:  61%|██████▏   | 215/351 [14:51<09:17,  4.10s/story]"
     ]
    },
    {
     "name": "stdout",
     "output_type": "stream",
     "text": [
      "Story 215 completed: Grade 5/5, Tags: []\n",
      "Waiting 1s before next story...\n",
      "\n",
      "Processing story 216/351\n"
     ]
    },
    {
     "name": "stderr",
     "output_type": "stream",
     "text": [
      "Grading stories:  62%|██████▏   | 216/351 [14:56<09:17,  4.13s/story]"
     ]
    },
    {
     "name": "stdout",
     "output_type": "stream",
     "text": [
      "Story 216 completed: Grade 5/5, Tags: []\n",
      "Waiting 1s before next story...\n",
      "\n",
      "Processing story 217/351\n"
     ]
    },
    {
     "name": "stderr",
     "output_type": "stream",
     "text": [
      "Grading stories:  62%|██████▏   | 217/351 [15:00<09:17,  4.16s/story]"
     ]
    },
    {
     "name": "stdout",
     "output_type": "stream",
     "text": [
      "Story 217 completed: Grade 5/5, Tags: []\n",
      "Waiting 1s before next story...\n",
      "\n",
      "Processing story 218/351\n"
     ]
    },
    {
     "name": "stderr",
     "output_type": "stream",
     "text": [
      "Grading stories:  62%|██████▏   | 218/351 [15:04<09:13,  4.16s/story]"
     ]
    },
    {
     "name": "stdout",
     "output_type": "stream",
     "text": [
      "Story 218 completed: Grade 0/5, Tags: ['irrelevant', 'role-mismatch']\n",
      "Waiting 1s before next story...\n",
      "\n",
      "Processing story 219/351\n"
     ]
    },
    {
     "name": "stderr",
     "output_type": "stream",
     "text": [
      "Grading stories:  62%|██████▏   | 219/351 [15:09<09:23,  4.27s/story]"
     ]
    },
    {
     "name": "stdout",
     "output_type": "stream",
     "text": [
      "Story 219 completed: Grade 0/5, Tags: ['irrelevant', 'role-mismatch']\n",
      "Waiting 1s before next story...\n",
      "\n",
      "Processing story 220/351\n"
     ]
    },
    {
     "name": "stderr",
     "output_type": "stream",
     "text": [
      "Grading stories:  63%|██████▎   | 220/351 [15:13<09:26,  4.32s/story]"
     ]
    },
    {
     "name": "stdout",
     "output_type": "stream",
     "text": [
      "Story 220 completed: Grade 5/5, Tags: []\n",
      "Waiting 1s before next story...\n",
      "\n",
      "Processing story 221/351\n"
     ]
    },
    {
     "name": "stderr",
     "output_type": "stream",
     "text": [
      "Grading stories:  63%|██████▎   | 221/351 [15:17<09:21,  4.32s/story]"
     ]
    },
    {
     "name": "stdout",
     "output_type": "stream",
     "text": [
      "Story 221 completed: Grade 3/5, Tags: ['ui-polish']\n",
      "Waiting 1s before next story...\n",
      "\n",
      "Processing story 222/351\n"
     ]
    },
    {
     "name": "stderr",
     "output_type": "stream",
     "text": [
      "Grading stories:  63%|██████▎   | 222/351 [15:21<09:05,  4.23s/story]"
     ]
    },
    {
     "name": "stdout",
     "output_type": "stream",
     "text": [
      "Story 222 completed: Grade 0/5, Tags: ['duplicate']\n",
      "Waiting 1s before next story...\n",
      "\n",
      "Processing story 223/351\n"
     ]
    },
    {
     "name": "stderr",
     "output_type": "stream",
     "text": [
      "Grading stories:  64%|██████▎   | 223/351 [15:26<09:00,  4.23s/story]"
     ]
    },
    {
     "name": "stdout",
     "output_type": "stream",
     "text": [
      "Story 223 completed: Grade 5/5, Tags: []\n",
      "Waiting 1s before next story...\n",
      "\n",
      "Processing story 224/351\n"
     ]
    },
    {
     "name": "stderr",
     "output_type": "stream",
     "text": [
      "Grading stories:  64%|██████▍   | 224/351 [15:29<08:31,  4.03s/story]"
     ]
    },
    {
     "name": "stdout",
     "output_type": "stream",
     "text": [
      "Story 224 completed: Grade 0/5, Tags: ['duplicate']\n",
      "Waiting 1s before next story...\n",
      "\n",
      "Processing story 225/351\n"
     ]
    },
    {
     "name": "stderr",
     "output_type": "stream",
     "text": [
      "Grading stories:  64%|██████▍   | 225/351 [15:33<08:21,  3.98s/story]"
     ]
    },
    {
     "name": "stdout",
     "output_type": "stream",
     "text": [
      "Story 225 completed: Grade 5/5, Tags: []\n",
      "Waiting 1s before next story...\n",
      "\n",
      "Processing story 226/351\n"
     ]
    },
    {
     "name": "stderr",
     "output_type": "stream",
     "text": [
      "Grading stories:  64%|██████▍   | 226/351 [15:40<10:16,  4.93s/story]"
     ]
    },
    {
     "name": "stdout",
     "output_type": "stream",
     "text": [
      "Story 226 completed: Grade 5/5, Tags: []\n",
      "Waiting 1s before next story...\n",
      "\n",
      "Processing story 227/351\n"
     ]
    },
    {
     "name": "stderr",
     "output_type": "stream",
     "text": [
      "Grading stories:  65%|██████▍   | 227/351 [15:44<09:36,  4.65s/story]"
     ]
    },
    {
     "name": "stdout",
     "output_type": "stream",
     "text": [
      "Story 227 completed: Grade 5/5, Tags: []\n",
      "Waiting 1s before next story...\n",
      "\n",
      "Processing story 228/351\n"
     ]
    },
    {
     "name": "stderr",
     "output_type": "stream",
     "text": [
      "Grading stories:  65%|██████▍   | 228/351 [15:49<09:45,  4.76s/story]"
     ]
    },
    {
     "name": "stdout",
     "output_type": "stream",
     "text": [
      "Story 228 completed: Grade 5/5, Tags: []\n",
      "Waiting 1s before next story...\n",
      "\n",
      "Processing story 229/351\n"
     ]
    },
    {
     "name": "stderr",
     "output_type": "stream",
     "text": [
      "Grading stories:  65%|██████▌   | 229/351 [15:55<10:09,  4.99s/story]"
     ]
    },
    {
     "name": "stdout",
     "output_type": "stream",
     "text": [
      "Story 229 completed: Grade 5/5, Tags: []\n",
      "Waiting 1s before next story...\n",
      "\n",
      "Processing story 230/351\n"
     ]
    },
    {
     "name": "stderr",
     "output_type": "stream",
     "text": [
      "Grading stories:  66%|██████▌   | 230/351 [15:59<09:29,  4.71s/story]"
     ]
    },
    {
     "name": "stdout",
     "output_type": "stream",
     "text": [
      "Story 230 completed: Grade 5/5, Tags: []\n",
      "Waiting 1s before next story...\n",
      "\n",
      "Processing story 231/351\n"
     ]
    },
    {
     "name": "stderr",
     "output_type": "stream",
     "text": [
      "Grading stories:  66%|██████▌   | 231/351 [16:03<09:11,  4.60s/story]"
     ]
    },
    {
     "name": "stdout",
     "output_type": "stream",
     "text": [
      "Story 231 completed: Grade 5/5, Tags: []\n",
      "Waiting 1s before next story...\n",
      "\n",
      "Processing story 232/351\n"
     ]
    },
    {
     "name": "stderr",
     "output_type": "stream",
     "text": [
      "Grading stories:  66%|██████▌   | 232/351 [16:08<09:10,  4.63s/story]"
     ]
    },
    {
     "name": "stdout",
     "output_type": "stream",
     "text": [
      "Story 232 completed: Grade 5/5, Tags: []\n",
      "Waiting 1s before next story...\n",
      "\n",
      "Processing story 233/351\n"
     ]
    },
    {
     "name": "stderr",
     "output_type": "stream",
     "text": [
      "Grading stories:  66%|██████▋   | 233/351 [16:12<08:38,  4.39s/story]"
     ]
    },
    {
     "name": "stdout",
     "output_type": "stream",
     "text": [
      "Story 233 completed: Grade 0/5, Tags: ['duplicate']\n",
      "Waiting 1s before next story...\n",
      "\n",
      "Processing story 234/351\n"
     ]
    },
    {
     "name": "stderr",
     "output_type": "stream",
     "text": [
      "Grading stories:  67%|██████▋   | 234/351 [16:15<08:17,  4.26s/story]"
     ]
    },
    {
     "name": "stdout",
     "output_type": "stream",
     "text": [
      "Story 234 completed: Grade 5/5, Tags: []\n",
      "Waiting 1s before next story...\n",
      "\n",
      "Processing story 235/351\n"
     ]
    },
    {
     "name": "stderr",
     "output_type": "stream",
     "text": [
      "Grading stories:  67%|██████▋   | 235/351 [16:21<09:03,  4.69s/story]"
     ]
    },
    {
     "name": "stdout",
     "output_type": "stream",
     "text": [
      "Story 235 completed: Grade 5/5, Tags: []\n",
      "Waiting 1s before next story...\n",
      "\n",
      "Processing story 236/351\n"
     ]
    },
    {
     "name": "stderr",
     "output_type": "stream",
     "text": [
      "Grading stories:  67%|██████▋   | 236/351 [16:25<08:26,  4.40s/story]"
     ]
    },
    {
     "name": "stdout",
     "output_type": "stream",
     "text": [
      "Story 236 completed: Grade 5/5, Tags: []\n",
      "Waiting 1s before next story...\n",
      "\n",
      "Processing story 237/351\n"
     ]
    },
    {
     "name": "stderr",
     "output_type": "stream",
     "text": [
      "Grading stories:  68%|██████▊   | 237/351 [16:29<07:54,  4.16s/story]"
     ]
    },
    {
     "name": "stdout",
     "output_type": "stream",
     "text": [
      "Story 237 completed: Grade 5/5, Tags: []\n",
      "Waiting 1s before next story...\n",
      "\n",
      "Processing story 238/351\n"
     ]
    },
    {
     "name": "stderr",
     "output_type": "stream",
     "text": [
      "Grading stories:  68%|██████▊   | 238/351 [16:33<07:51,  4.18s/story]"
     ]
    },
    {
     "name": "stdout",
     "output_type": "stream",
     "text": [
      "Story 238 completed: Grade 0/5, Tags: ['duplicate']\n",
      "Waiting 1s before next story...\n",
      "\n",
      "Processing story 239/351\n"
     ]
    },
    {
     "name": "stderr",
     "output_type": "stream",
     "text": [
      "Grading stories:  68%|██████▊   | 239/351 [16:37<07:41,  4.12s/story]"
     ]
    },
    {
     "name": "stdout",
     "output_type": "stream",
     "text": [
      "Story 239 completed: Grade 0/5, Tags: ['duplicate']\n",
      "Waiting 1s before next story...\n",
      "\n",
      "Processing story 240/351\n"
     ]
    },
    {
     "name": "stderr",
     "output_type": "stream",
     "text": [
      "Grading stories:  68%|██████▊   | 240/351 [16:41<07:28,  4.04s/story]"
     ]
    },
    {
     "name": "stdout",
     "output_type": "stream",
     "text": [
      "Story 240 completed: Grade 5/5, Tags: []\n",
      "Waiting 1s before next story...\n",
      "\n",
      "Processing story 241/351\n"
     ]
    },
    {
     "name": "stderr",
     "output_type": "stream",
     "text": [
      "Grading stories:  69%|██████▊   | 241/351 [16:45<07:26,  4.05s/story]"
     ]
    },
    {
     "name": "stdout",
     "output_type": "stream",
     "text": [
      "Story 241 completed: Grade 5/5, Tags: []\n",
      "Waiting 1s before next story...\n",
      "\n",
      "Processing story 242/351\n"
     ]
    },
    {
     "name": "stderr",
     "output_type": "stream",
     "text": [
      "Grading stories:  69%|██████▉   | 242/351 [16:48<07:07,  3.92s/story]"
     ]
    },
    {
     "name": "stdout",
     "output_type": "stream",
     "text": [
      "Story 242 completed: Grade 5/5, Tags: []\n",
      "Waiting 1s before next story...\n",
      "\n",
      "Processing story 243/351\n"
     ]
    },
    {
     "name": "stderr",
     "output_type": "stream",
     "text": [
      "Grading stories:  69%|██████▉   | 243/351 [16:52<07:07,  3.96s/story]"
     ]
    },
    {
     "name": "stdout",
     "output_type": "stream",
     "text": [
      "Story 243 completed: Grade 5/5, Tags: []\n",
      "Waiting 1s before next story...\n",
      "\n",
      "Processing story 244/351\n"
     ]
    },
    {
     "name": "stderr",
     "output_type": "stream",
     "text": [
      "Grading stories:  70%|██████▉   | 244/351 [16:57<07:15,  4.07s/story]"
     ]
    },
    {
     "name": "stdout",
     "output_type": "stream",
     "text": [
      "Story 244 completed: Grade 5/5, Tags: []\n",
      "Waiting 1s before next story...\n",
      "\n",
      "Processing story 245/351\n"
     ]
    },
    {
     "name": "stderr",
     "output_type": "stream",
     "text": [
      "Grading stories:  70%|██████▉   | 245/351 [17:01<07:32,  4.27s/story]"
     ]
    },
    {
     "name": "stdout",
     "output_type": "stream",
     "text": [
      "Story 245 completed: Grade 4/5, Tags: ['typo']\n",
      "Waiting 1s before next story...\n",
      "\n",
      "Processing story 246/351\n"
     ]
    },
    {
     "name": "stderr",
     "output_type": "stream",
     "text": [
      "Grading stories:  70%|███████   | 246/351 [17:05<07:20,  4.19s/story]"
     ]
    },
    {
     "name": "stdout",
     "output_type": "stream",
     "text": [
      "Story 246 completed: Grade 5/5, Tags: []\n",
      "Waiting 1s before next story...\n",
      "\n",
      "Processing story 247/351\n"
     ]
    },
    {
     "name": "stderr",
     "output_type": "stream",
     "text": [
      "Grading stories:  70%|███████   | 247/351 [17:09<07:06,  4.10s/story]"
     ]
    },
    {
     "name": "stdout",
     "output_type": "stream",
     "text": [
      "Story 247 completed: Grade 5/5, Tags: []\n",
      "Waiting 1s before next story...\n",
      "\n",
      "Processing story 248/351\n"
     ]
    },
    {
     "name": "stderr",
     "output_type": "stream",
     "text": [
      "Grading stories:  71%|███████   | 248/351 [17:17<08:42,  5.07s/story]"
     ]
    },
    {
     "name": "stdout",
     "output_type": "stream",
     "text": [
      "Story 248 completed: Grade 5/5, Tags: []\n",
      "Waiting 1s before next story...\n",
      "\n",
      "Processing story 249/351\n"
     ]
    },
    {
     "name": "stderr",
     "output_type": "stream",
     "text": [
      "Grading stories:  71%|███████   | 249/351 [17:20<07:48,  4.60s/story]"
     ]
    },
    {
     "name": "stdout",
     "output_type": "stream",
     "text": [
      "Story 249 completed: Grade 5/5, Tags: []\n",
      "Waiting 1s before next story...\n",
      "\n",
      "Processing story 250/351\n"
     ]
    },
    {
     "name": "stderr",
     "output_type": "stream",
     "text": [
      "Grading stories:  71%|███████   | 250/351 [17:25<08:03,  4.79s/story]"
     ]
    },
    {
     "name": "stdout",
     "output_type": "stream",
     "text": [
      "Story 250 completed: Grade 5/5, Tags: []\n",
      "Waiting 1s before next story...\n",
      "\n",
      "Processing story 251/351\n"
     ]
    },
    {
     "name": "stderr",
     "output_type": "stream",
     "text": [
      "Grading stories:  72%|███████▏  | 251/351 [17:30<07:47,  4.67s/story]"
     ]
    },
    {
     "name": "stdout",
     "output_type": "stream",
     "text": [
      "Story 251 completed: Grade 4/5, Tags: ['typo']\n",
      "Waiting 1s before next story...\n",
      "\n",
      "Processing story 252/351\n"
     ]
    },
    {
     "name": "stderr",
     "output_type": "stream",
     "text": [
      "Grading stories:  72%|███████▏  | 252/351 [17:34<07:26,  4.51s/story]"
     ]
    },
    {
     "name": "stdout",
     "output_type": "stream",
     "text": [
      "Story 252 completed: Grade 5/5, Tags: []\n",
      "Waiting 1s before next story...\n",
      "\n",
      "Processing story 253/351\n"
     ]
    },
    {
     "name": "stderr",
     "output_type": "stream",
     "text": [
      "Grading stories:  72%|███████▏  | 253/351 [17:38<07:06,  4.36s/story]"
     ]
    },
    {
     "name": "stdout",
     "output_type": "stream",
     "text": [
      "Story 253 completed: Grade 5/5, Tags: []\n",
      "Waiting 1s before next story...\n",
      "\n",
      "Processing story 254/351\n"
     ]
    },
    {
     "name": "stderr",
     "output_type": "stream",
     "text": [
      "Grading stories:  72%|███████▏  | 254/351 [17:43<07:24,  4.58s/story]"
     ]
    },
    {
     "name": "stdout",
     "output_type": "stream",
     "text": [
      "Story 254 completed: Grade 4/5, Tags: ['typo']\n",
      "Waiting 1s before next story...\n",
      "\n",
      "Processing story 255/351\n"
     ]
    },
    {
     "name": "stderr",
     "output_type": "stream",
     "text": [
      "Grading stories:  73%|███████▎  | 255/351 [17:47<07:12,  4.50s/story]"
     ]
    },
    {
     "name": "stdout",
     "output_type": "stream",
     "text": [
      "Story 255 completed: Grade 5/5, Tags: []\n",
      "Waiting 1s before next story...\n",
      "\n",
      "Processing story 256/351\n"
     ]
    },
    {
     "name": "stderr",
     "output_type": "stream",
     "text": [
      "Grading stories:  73%|███████▎  | 256/351 [17:54<08:04,  5.10s/story]"
     ]
    },
    {
     "name": "stdout",
     "output_type": "stream",
     "text": [
      "Story 256 completed: Grade 4/5, Tags: ['typo']\n",
      "Waiting 1s before next story...\n",
      "\n",
      "Processing story 257/351\n"
     ]
    },
    {
     "name": "stderr",
     "output_type": "stream",
     "text": [
      "Grading stories:  73%|███████▎  | 257/351 [17:59<08:03,  5.14s/story]"
     ]
    },
    {
     "name": "stdout",
     "output_type": "stream",
     "text": [
      "Story 257 completed: Grade 5/5, Tags: []\n",
      "Waiting 1s before next story...\n",
      "\n",
      "Processing story 258/351\n"
     ]
    },
    {
     "name": "stderr",
     "output_type": "stream",
     "text": [
      "Grading stories:  74%|███████▎  | 258/351 [18:04<07:41,  4.97s/story]"
     ]
    },
    {
     "name": "stdout",
     "output_type": "stream",
     "text": [
      "Story 258 completed: Grade 5/5, Tags: []\n",
      "Waiting 1s before next story...\n",
      "\n",
      "Processing story 259/351\n"
     ]
    },
    {
     "name": "stderr",
     "output_type": "stream",
     "text": [
      "Grading stories:  74%|███████▍  | 259/351 [18:08<07:27,  4.86s/story]"
     ]
    },
    {
     "name": "stdout",
     "output_type": "stream",
     "text": [
      "Story 259 completed: Grade 5/5, Tags: []\n",
      "Waiting 1s before next story...\n",
      "\n",
      "Processing story 260/351\n"
     ]
    },
    {
     "name": "stderr",
     "output_type": "stream",
     "text": [
      "Grading stories:  74%|███████▍  | 260/351 [18:12<06:54,  4.55s/story]"
     ]
    },
    {
     "name": "stdout",
     "output_type": "stream",
     "text": [
      "Story 260 completed: Grade 5/5, Tags: []\n",
      "Waiting 1s before next story...\n",
      "\n",
      "Processing story 261/351\n"
     ]
    },
    {
     "name": "stderr",
     "output_type": "stream",
     "text": [
      "Grading stories:  74%|███████▍  | 261/351 [18:16<06:44,  4.50s/story]"
     ]
    },
    {
     "name": "stdout",
     "output_type": "stream",
     "text": [
      "Story 261 completed: Grade 0/5, Tags: ['duplicate']\n",
      "Waiting 1s before next story...\n",
      "\n",
      "Processing story 262/351\n"
     ]
    },
    {
     "name": "stderr",
     "output_type": "stream",
     "text": [
      "Grading stories:  75%|███████▍  | 262/351 [18:20<06:27,  4.35s/story]"
     ]
    },
    {
     "name": "stdout",
     "output_type": "stream",
     "text": [
      "Story 262 completed: Grade 5/5, Tags: []\n",
      "Waiting 1s before next story...\n",
      "\n",
      "Processing story 263/351\n"
     ]
    },
    {
     "name": "stderr",
     "output_type": "stream",
     "text": [
      "Grading stories:  75%|███████▍  | 263/351 [18:25<06:24,  4.37s/story]"
     ]
    },
    {
     "name": "stdout",
     "output_type": "stream",
     "text": [
      "Story 263 completed: Grade 5/5, Tags: []\n",
      "Waiting 1s before next story...\n",
      "\n",
      "Processing story 264/351\n"
     ]
    },
    {
     "name": "stderr",
     "output_type": "stream",
     "text": [
      "Grading stories:  75%|███████▌  | 264/351 [18:29<06:04,  4.19s/story]"
     ]
    },
    {
     "name": "stdout",
     "output_type": "stream",
     "text": [
      "Story 264 completed: Grade 5/5, Tags: []\n",
      "Waiting 1s before next story...\n",
      "\n",
      "Processing story 265/351\n"
     ]
    },
    {
     "name": "stderr",
     "output_type": "stream",
     "text": [
      "Grading stories:  75%|███████▌  | 265/351 [18:34<06:18,  4.41s/story]"
     ]
    },
    {
     "name": "stdout",
     "output_type": "stream",
     "text": [
      "Story 265 completed: Grade 5/5, Tags: []\n",
      "Waiting 1s before next story...\n",
      "\n",
      "Processing story 266/351\n"
     ]
    },
    {
     "name": "stderr",
     "output_type": "stream",
     "text": [
      "Grading stories:  76%|███████▌  | 266/351 [18:38<06:17,  4.44s/story]"
     ]
    },
    {
     "name": "stdout",
     "output_type": "stream",
     "text": [
      "Story 266 completed: Grade 5/5, Tags: []\n",
      "Waiting 1s before next story...\n",
      "\n",
      "Processing story 267/351\n"
     ]
    },
    {
     "name": "stderr",
     "output_type": "stream",
     "text": [
      "Grading stories:  76%|███████▌  | 267/351 [18:42<05:58,  4.27s/story]"
     ]
    },
    {
     "name": "stdout",
     "output_type": "stream",
     "text": [
      "Story 267 completed: Grade 5/5, Tags: []\n",
      "Waiting 1s before next story...\n",
      "\n",
      "Processing story 268/351\n"
     ]
    },
    {
     "name": "stderr",
     "output_type": "stream",
     "text": [
      "Grading stories:  76%|███████▋  | 268/351 [18:46<05:57,  4.31s/story]"
     ]
    },
    {
     "name": "stdout",
     "output_type": "stream",
     "text": [
      "Story 268 completed: Grade 5/5, Tags: []\n",
      "Waiting 1s before next story...\n",
      "\n",
      "Processing story 269/351\n"
     ]
    },
    {
     "name": "stderr",
     "output_type": "stream",
     "text": [
      "Grading stories:  77%|███████▋  | 269/351 [18:53<06:59,  5.12s/story]"
     ]
    },
    {
     "name": "stdout",
     "output_type": "stream",
     "text": [
      "Story 269 completed: Grade 5/5, Tags: []\n",
      "Waiting 1s before next story...\n",
      "\n",
      "Processing story 270/351\n"
     ]
    },
    {
     "name": "stderr",
     "output_type": "stream",
     "text": [
      "Grading stories:  77%|███████▋  | 270/351 [18:57<06:30,  4.82s/story]"
     ]
    },
    {
     "name": "stdout",
     "output_type": "stream",
     "text": [
      "Story 270 completed: Grade 5/5, Tags: []\n",
      "Waiting 1s before next story...\n",
      "\n",
      "Processing story 271/351\n"
     ]
    },
    {
     "name": "stderr",
     "output_type": "stream",
     "text": [
      "Grading stories:  77%|███████▋  | 271/351 [19:02<06:24,  4.80s/story]"
     ]
    },
    {
     "name": "stdout",
     "output_type": "stream",
     "text": [
      "Story 271 completed: Grade 5/5, Tags: []\n",
      "Waiting 1s before next story...\n",
      "\n",
      "Processing story 272/351\n"
     ]
    },
    {
     "name": "stderr",
     "output_type": "stream",
     "text": [
      "Grading stories:  77%|███████▋  | 272/351 [19:06<06:01,  4.58s/story]"
     ]
    },
    {
     "name": "stdout",
     "output_type": "stream",
     "text": [
      "Story 272 completed: Grade 5/5, Tags: []\n",
      "Waiting 1s before next story...\n",
      "\n",
      "Processing story 273/351\n"
     ]
    },
    {
     "name": "stderr",
     "output_type": "stream",
     "text": [
      "Grading stories:  78%|███████▊  | 273/351 [19:10<05:33,  4.28s/story]"
     ]
    },
    {
     "name": "stdout",
     "output_type": "stream",
     "text": [
      "Story 273 completed: Grade 5/5, Tags: []\n",
      "Waiting 1s before next story...\n",
      "\n",
      "Processing story 274/351\n"
     ]
    },
    {
     "name": "stderr",
     "output_type": "stream",
     "text": [
      "Grading stories:  78%|███████▊  | 274/351 [19:14<05:33,  4.33s/story]"
     ]
    },
    {
     "name": "stdout",
     "output_type": "stream",
     "text": [
      "Story 274 completed: Grade 5/5, Tags: []\n",
      "Waiting 1s before next story...\n",
      "\n",
      "Processing story 275/351\n"
     ]
    },
    {
     "name": "stderr",
     "output_type": "stream",
     "text": [
      "Grading stories:  78%|███████▊  | 275/351 [19:18<05:22,  4.24s/story]"
     ]
    },
    {
     "name": "stdout",
     "output_type": "stream",
     "text": [
      "Story 275 completed: Grade 5/5, Tags: []\n",
      "Waiting 1s before next story...\n",
      "\n",
      "Processing story 276/351\n"
     ]
    },
    {
     "name": "stderr",
     "output_type": "stream",
     "text": [
      "Grading stories:  79%|███████▊  | 276/351 [19:24<05:44,  4.59s/story]"
     ]
    },
    {
     "name": "stdout",
     "output_type": "stream",
     "text": [
      "Story 276 completed: Grade 5/5, Tags: []\n",
      "Waiting 1s before next story...\n",
      "\n",
      "Processing story 277/351\n"
     ]
    },
    {
     "name": "stderr",
     "output_type": "stream",
     "text": [
      "Grading stories:  79%|███████▉  | 277/351 [19:28<05:25,  4.40s/story]"
     ]
    },
    {
     "name": "stdout",
     "output_type": "stream",
     "text": [
      "Story 277 completed: Grade 5/5, Tags: []\n",
      "Waiting 1s before next story...\n",
      "\n",
      "Processing story 278/351\n"
     ]
    },
    {
     "name": "stderr",
     "output_type": "stream",
     "text": [
      "Grading stories:  79%|███████▉  | 278/351 [19:36<06:54,  5.67s/story]"
     ]
    },
    {
     "name": "stdout",
     "output_type": "stream",
     "text": [
      "Story 278 completed: Grade 4/5, Tags: ['typo']\n",
      "Waiting 1s before next story...\n",
      "\n",
      "Processing story 279/351\n"
     ]
    },
    {
     "name": "stderr",
     "output_type": "stream",
     "text": [
      "Grading stories:  79%|███████▉  | 279/351 [19:40<06:11,  5.16s/story]"
     ]
    },
    {
     "name": "stdout",
     "output_type": "stream",
     "text": [
      "Story 279 completed: Grade 5/5, Tags: []\n",
      "Waiting 1s before next story...\n",
      "\n",
      "Processing story 280/351\n"
     ]
    },
    {
     "name": "stderr",
     "output_type": "stream",
     "text": [
      "Grading stories:  80%|███████▉  | 280/351 [19:44<05:38,  4.77s/story]"
     ]
    },
    {
     "name": "stdout",
     "output_type": "stream",
     "text": [
      "Story 280 completed: Grade 5/5, Tags: []\n",
      "Waiting 1s before next story...\n",
      "\n",
      "Processing story 281/351\n"
     ]
    },
    {
     "name": "stderr",
     "output_type": "stream",
     "text": [
      "Grading stories:  80%|████████  | 281/351 [19:48<05:11,  4.46s/story]"
     ]
    },
    {
     "name": "stdout",
     "output_type": "stream",
     "text": [
      "Story 281 completed: Grade 5/5, Tags: []\n",
      "Waiting 1s before next story...\n",
      "\n",
      "Processing story 282/351\n"
     ]
    },
    {
     "name": "stderr",
     "output_type": "stream",
     "text": [
      "Grading stories:  80%|████████  | 282/351 [19:53<05:21,  4.66s/story]"
     ]
    },
    {
     "name": "stdout",
     "output_type": "stream",
     "text": [
      "Story 282 completed: Grade 3/5, Tags: ['ui-polish']\n",
      "Waiting 1s before next story...\n",
      "\n",
      "Processing story 283/351\n"
     ]
    },
    {
     "name": "stderr",
     "output_type": "stream",
     "text": [
      "Grading stories:  81%|████████  | 283/351 [19:58<05:29,  4.84s/story]"
     ]
    },
    {
     "name": "stdout",
     "output_type": "stream",
     "text": [
      "Story 283 completed: Grade 5/5, Tags: []\n",
      "Waiting 1s before next story...\n",
      "\n",
      "Processing story 284/351\n"
     ]
    },
    {
     "name": "stderr",
     "output_type": "stream",
     "text": [
      "Grading stories:  81%|████████  | 284/351 [20:02<04:59,  4.47s/story]"
     ]
    },
    {
     "name": "stdout",
     "output_type": "stream",
     "text": [
      "Story 284 completed: Grade 5/5, Tags: []\n",
      "Waiting 1s before next story...\n",
      "\n",
      "Processing story 285/351\n"
     ]
    },
    {
     "name": "stderr",
     "output_type": "stream",
     "text": [
      "Grading stories:  81%|████████  | 285/351 [20:06<04:57,  4.51s/story]"
     ]
    },
    {
     "name": "stdout",
     "output_type": "stream",
     "text": [
      "Story 285 completed: Grade 5/5, Tags: []\n",
      "Waiting 1s before next story...\n",
      "\n",
      "Processing story 286/351\n"
     ]
    },
    {
     "name": "stderr",
     "output_type": "stream",
     "text": [
      "Grading stories:  81%|████████▏ | 286/351 [20:10<04:36,  4.25s/story]"
     ]
    },
    {
     "name": "stdout",
     "output_type": "stream",
     "text": [
      "Story 286 completed: Grade 5/5, Tags: []\n",
      "Waiting 1s before next story...\n",
      "\n",
      "Processing story 287/351\n"
     ]
    },
    {
     "name": "stderr",
     "output_type": "stream",
     "text": [
      "Grading stories:  82%|████████▏ | 287/351 [20:14<04:28,  4.19s/story]"
     ]
    },
    {
     "name": "stdout",
     "output_type": "stream",
     "text": [
      "Story 287 completed: Grade 5/5, Tags: []\n",
      "Waiting 1s before next story...\n",
      "\n",
      "Processing story 288/351\n"
     ]
    },
    {
     "name": "stderr",
     "output_type": "stream",
     "text": [
      "Grading stories:  82%|████████▏ | 288/351 [20:19<04:27,  4.25s/story]"
     ]
    },
    {
     "name": "stdout",
     "output_type": "stream",
     "text": [
      "Story 288 completed: Grade 5/5, Tags: []\n",
      "Waiting 1s before next story...\n",
      "\n",
      "Processing story 289/351\n"
     ]
    },
    {
     "name": "stderr",
     "output_type": "stream",
     "text": [
      "Grading stories:  82%|████████▏ | 289/351 [20:22<04:13,  4.08s/story]"
     ]
    },
    {
     "name": "stdout",
     "output_type": "stream",
     "text": [
      "Story 289 completed: Grade 5/5, Tags: []\n",
      "Waiting 1s before next story...\n",
      "\n",
      "Processing story 290/351\n"
     ]
    },
    {
     "name": "stderr",
     "output_type": "stream",
     "text": [
      "Grading stories:  83%|████████▎ | 290/351 [20:26<04:04,  4.00s/story]"
     ]
    },
    {
     "name": "stdout",
     "output_type": "stream",
     "text": [
      "Story 290 completed: Grade 5/5, Tags: []\n",
      "Waiting 1s before next story...\n",
      "\n",
      "Processing story 291/351\n"
     ]
    },
    {
     "name": "stderr",
     "output_type": "stream",
     "text": [
      "Grading stories:  83%|████████▎ | 291/351 [20:30<03:55,  3.92s/story]"
     ]
    },
    {
     "name": "stdout",
     "output_type": "stream",
     "text": [
      "Story 291 completed: Grade 5/5, Tags: []\n",
      "Waiting 1s before next story...\n",
      "\n",
      "Processing story 292/351\n"
     ]
    },
    {
     "name": "stderr",
     "output_type": "stream",
     "text": [
      "Grading stories:  83%|████████▎ | 292/351 [20:34<03:49,  3.89s/story]"
     ]
    },
    {
     "name": "stdout",
     "output_type": "stream",
     "text": [
      "Story 292 completed: Grade 5/5, Tags: []\n",
      "Waiting 1s before next story...\n",
      "\n",
      "Processing story 293/351\n"
     ]
    },
    {
     "name": "stderr",
     "output_type": "stream",
     "text": [
      "Grading stories:  83%|████████▎ | 293/351 [20:38<03:50,  3.98s/story]"
     ]
    },
    {
     "name": "stdout",
     "output_type": "stream",
     "text": [
      "Story 293 completed: Grade 5/5, Tags: []\n",
      "Waiting 1s before next story...\n",
      "\n",
      "Processing story 294/351\n"
     ]
    },
    {
     "name": "stderr",
     "output_type": "stream",
     "text": [
      "Grading stories:  84%|████████▍ | 294/351 [20:42<03:47,  3.98s/story]"
     ]
    },
    {
     "name": "stdout",
     "output_type": "stream",
     "text": [
      "Story 294 completed: Grade 3/5, Tags: ['ui-polish']\n",
      "Waiting 1s before next story...\n",
      "\n",
      "Processing story 295/351\n"
     ]
    },
    {
     "name": "stderr",
     "output_type": "stream",
     "text": [
      "Grading stories:  84%|████████▍ | 295/351 [20:46<03:50,  4.11s/story]"
     ]
    },
    {
     "name": "stdout",
     "output_type": "stream",
     "text": [
      "Story 295 completed: Grade 0/5, Tags: ['irrelevant', 'role-mismatch']\n",
      "Waiting 1s before next story...\n",
      "\n",
      "Processing story 296/351\n"
     ]
    },
    {
     "name": "stderr",
     "output_type": "stream",
     "text": [
      "Grading stories:  84%|████████▍ | 296/351 [20:51<03:49,  4.17s/story]"
     ]
    },
    {
     "name": "stdout",
     "output_type": "stream",
     "text": [
      "Story 296 completed: Grade 5/5, Tags: []\n",
      "Waiting 1s before next story...\n",
      "\n",
      "Processing story 297/351\n"
     ]
    },
    {
     "name": "stderr",
     "output_type": "stream",
     "text": [
      "Grading stories:  85%|████████▍ | 297/351 [20:55<03:42,  4.12s/story]"
     ]
    },
    {
     "name": "stdout",
     "output_type": "stream",
     "text": [
      "Story 297 completed: Grade 5/5, Tags: []\n",
      "Waiting 1s before next story...\n",
      "\n",
      "Processing story 298/351\n"
     ]
    },
    {
     "name": "stderr",
     "output_type": "stream",
     "text": [
      "Grading stories:  85%|████████▍ | 298/351 [20:59<03:36,  4.09s/story]"
     ]
    },
    {
     "name": "stdout",
     "output_type": "stream",
     "text": [
      "Story 298 completed: Grade 5/5, Tags: []\n",
      "Waiting 1s before next story...\n",
      "\n",
      "Processing story 299/351\n"
     ]
    },
    {
     "name": "stderr",
     "output_type": "stream",
     "text": [
      "Grading stories:  85%|████████▌ | 299/351 [21:02<03:28,  4.02s/story]"
     ]
    },
    {
     "name": "stdout",
     "output_type": "stream",
     "text": [
      "Story 299 completed: Grade 5/5, Tags: []\n",
      "Waiting 1s before next story...\n",
      "\n",
      "Processing story 300/351\n"
     ]
    },
    {
     "name": "stderr",
     "output_type": "stream",
     "text": [
      "Grading stories:  85%|████████▌ | 300/351 [21:06<03:25,  4.02s/story]"
     ]
    },
    {
     "name": "stdout",
     "output_type": "stream",
     "text": [
      "Story 300 completed: Grade 4/5, Tags: ['typo']\n",
      "Waiting 1s before next story...\n",
      "\n",
      "Processing story 301/351\n"
     ]
    },
    {
     "name": "stderr",
     "output_type": "stream",
     "text": [
      "Grading stories:  86%|████████▌ | 301/351 [21:10<03:21,  4.03s/story]"
     ]
    },
    {
     "name": "stdout",
     "output_type": "stream",
     "text": [
      "Story 301 completed: Grade 5/5, Tags: []\n",
      "Waiting 1s before next story...\n",
      "\n",
      "Processing story 302/351\n"
     ]
    },
    {
     "name": "stderr",
     "output_type": "stream",
     "text": [
      "Grading stories:  86%|████████▌ | 302/351 [21:14<03:17,  4.02s/story]"
     ]
    },
    {
     "name": "stdout",
     "output_type": "stream",
     "text": [
      "Story 302 completed: Grade 5/5, Tags: []\n",
      "Waiting 1s before next story...\n",
      "\n",
      "Processing story 303/351\n"
     ]
    },
    {
     "name": "stderr",
     "output_type": "stream",
     "text": [
      "Grading stories:  86%|████████▋ | 303/351 [21:18<03:10,  3.96s/story]"
     ]
    },
    {
     "name": "stdout",
     "output_type": "stream",
     "text": [
      "Story 303 completed: Grade 5/5, Tags: []\n",
      "Waiting 1s before next story...\n",
      "\n",
      "Processing story 304/351\n"
     ]
    },
    {
     "name": "stderr",
     "output_type": "stream",
     "text": [
      "Grading stories:  87%|████████▋ | 304/351 [21:23<03:12,  4.09s/story]"
     ]
    },
    {
     "name": "stdout",
     "output_type": "stream",
     "text": [
      "Story 304 completed: Grade 0/5, Tags: ['irrelevant', 'role-mismatch']\n",
      "Waiting 1s before next story...\n",
      "\n",
      "Processing story 305/351\n"
     ]
    },
    {
     "name": "stderr",
     "output_type": "stream",
     "text": [
      "Grading stories:  87%|████████▋ | 305/351 [21:27<03:10,  4.14s/story]"
     ]
    },
    {
     "name": "stdout",
     "output_type": "stream",
     "text": [
      "Story 305 completed: Grade 0/5, Tags: ['irrelevant', 'role-mismatch', 'typo']\n",
      "Waiting 1s before next story...\n",
      "\n",
      "Processing story 306/351\n"
     ]
    },
    {
     "name": "stderr",
     "output_type": "stream",
     "text": [
      "Grading stories:  87%|████████▋ | 306/351 [21:31<02:58,  3.97s/story]"
     ]
    },
    {
     "name": "stdout",
     "output_type": "stream",
     "text": [
      "Story 306 completed: Grade 5/5, Tags: []\n",
      "Waiting 1s before next story...\n",
      "\n",
      "Processing story 307/351\n"
     ]
    },
    {
     "name": "stderr",
     "output_type": "stream",
     "text": [
      "Grading stories:  87%|████████▋ | 307/351 [21:34<02:51,  3.91s/story]"
     ]
    },
    {
     "name": "stdout",
     "output_type": "stream",
     "text": [
      "Story 307 completed: Grade 3/5, Tags: ['ui-polish']\n",
      "Waiting 1s before next story...\n",
      "\n",
      "Processing story 308/351\n"
     ]
    },
    {
     "name": "stderr",
     "output_type": "stream",
     "text": [
      "Grading stories:  88%|████████▊ | 308/351 [21:39<02:55,  4.07s/story]"
     ]
    },
    {
     "name": "stdout",
     "output_type": "stream",
     "text": [
      "Story 308 completed: Grade 5/5, Tags: []\n",
      "Waiting 1s before next story...\n",
      "\n",
      "Processing story 309/351\n"
     ]
    },
    {
     "name": "stderr",
     "output_type": "stream",
     "text": [
      "Grading stories:  88%|████████▊ | 309/351 [21:43<02:49,  4.02s/story]"
     ]
    },
    {
     "name": "stdout",
     "output_type": "stream",
     "text": [
      "Story 309 completed: Grade 5/5, Tags: []\n",
      "Waiting 1s before next story...\n",
      "\n",
      "Processing story 310/351\n"
     ]
    },
    {
     "name": "stderr",
     "output_type": "stream",
     "text": [
      "Grading stories:  88%|████████▊ | 310/351 [21:47<02:44,  4.01s/story]"
     ]
    },
    {
     "name": "stdout",
     "output_type": "stream",
     "text": [
      "Story 310 completed: Grade 5/5, Tags: []\n",
      "Waiting 1s before next story...\n",
      "\n",
      "Processing story 311/351\n"
     ]
    },
    {
     "name": "stderr",
     "output_type": "stream",
     "text": [
      "Grading stories:  89%|████████▊ | 311/351 [21:51<02:39,  3.98s/story]"
     ]
    },
    {
     "name": "stdout",
     "output_type": "stream",
     "text": [
      "Story 311 completed: Grade 5/5, Tags: []\n",
      "Waiting 1s before next story...\n",
      "\n",
      "Processing story 312/351\n"
     ]
    },
    {
     "name": "stderr",
     "output_type": "stream",
     "text": [
      "Grading stories:  89%|████████▉ | 312/351 [21:55<02:38,  4.06s/story]"
     ]
    },
    {
     "name": "stdout",
     "output_type": "stream",
     "text": [
      "Story 312 completed: Grade 3/5, Tags: ['ui-polish']\n",
      "Waiting 1s before next story...\n",
      "\n",
      "Processing story 313/351\n"
     ]
    },
    {
     "name": "stderr",
     "output_type": "stream",
     "text": [
      "Grading stories:  89%|████████▉ | 313/351 [21:59<02:34,  4.06s/story]"
     ]
    },
    {
     "name": "stdout",
     "output_type": "stream",
     "text": [
      "Story 313 completed: Grade 5/5, Tags: []\n",
      "Waiting 1s before next story...\n",
      "\n",
      "Processing story 314/351\n"
     ]
    },
    {
     "name": "stderr",
     "output_type": "stream",
     "text": [
      "Grading stories:  89%|████████▉ | 314/351 [22:03<02:33,  4.14s/story]"
     ]
    },
    {
     "name": "stdout",
     "output_type": "stream",
     "text": [
      "Story 314 completed: Grade 5/5, Tags: []\n",
      "Waiting 1s before next story...\n",
      "\n",
      "Processing story 315/351\n"
     ]
    },
    {
     "name": "stderr",
     "output_type": "stream",
     "text": [
      "Grading stories:  90%|████████▉ | 315/351 [22:07<02:25,  4.03s/story]"
     ]
    },
    {
     "name": "stdout",
     "output_type": "stream",
     "text": [
      "Story 315 completed: Grade 5/5, Tags: []\n",
      "Waiting 1s before next story...\n",
      "\n",
      "Processing story 316/351\n"
     ]
    },
    {
     "name": "stderr",
     "output_type": "stream",
     "text": [
      "Grading stories:  90%|█████████ | 316/351 [22:11<02:23,  4.10s/story]"
     ]
    },
    {
     "name": "stdout",
     "output_type": "stream",
     "text": [
      "Story 316 completed: Grade 5/5, Tags: []\n",
      "Waiting 1s before next story...\n",
      "\n",
      "Processing story 317/351\n"
     ]
    },
    {
     "name": "stderr",
     "output_type": "stream",
     "text": [
      "Grading stories:  90%|█████████ | 317/351 [22:15<02:18,  4.08s/story]"
     ]
    },
    {
     "name": "stdout",
     "output_type": "stream",
     "text": [
      "Story 317 completed: Grade 3/5, Tags: ['ui-polish']\n",
      "Waiting 1s before next story...\n",
      "\n",
      "Processing story 318/351\n"
     ]
    },
    {
     "name": "stderr",
     "output_type": "stream",
     "text": [
      "Grading stories:  91%|█████████ | 318/351 [22:19<02:14,  4.07s/story]"
     ]
    },
    {
     "name": "stdout",
     "output_type": "stream",
     "text": [
      "Story 318 completed: Grade 5/5, Tags: []\n",
      "Waiting 1s before next story...\n",
      "\n",
      "Processing story 319/351\n"
     ]
    },
    {
     "name": "stderr",
     "output_type": "stream",
     "text": [
      "Grading stories:  91%|█████████ | 319/351 [22:23<02:08,  4.03s/story]"
     ]
    },
    {
     "name": "stdout",
     "output_type": "stream",
     "text": [
      "Story 319 completed: Grade 5/5, Tags: []\n",
      "Waiting 1s before next story...\n",
      "\n",
      "Processing story 320/351\n"
     ]
    },
    {
     "name": "stderr",
     "output_type": "stream",
     "text": [
      "Grading stories:  91%|█████████ | 320/351 [22:27<02:05,  4.04s/story]"
     ]
    },
    {
     "name": "stdout",
     "output_type": "stream",
     "text": [
      "Story 320 completed: Grade 5/5, Tags: []\n",
      "Waiting 1s before next story...\n",
      "\n",
      "Processing story 321/351\n"
     ]
    },
    {
     "name": "stderr",
     "output_type": "stream",
     "text": [
      "Grading stories:  91%|█████████▏| 321/351 [22:31<02:01,  4.06s/story]"
     ]
    },
    {
     "name": "stdout",
     "output_type": "stream",
     "text": [
      "Story 321 completed: Grade 5/5, Tags: []\n",
      "Waiting 1s before next story...\n",
      "\n",
      "Processing story 322/351\n"
     ]
    },
    {
     "name": "stderr",
     "output_type": "stream",
     "text": [
      "Grading stories:  92%|█████████▏| 322/351 [22:36<02:06,  4.35s/story]"
     ]
    },
    {
     "name": "stdout",
     "output_type": "stream",
     "text": [
      "Story 322 completed: Grade 5/5, Tags: []\n",
      "Waiting 1s before next story...\n",
      "\n",
      "Processing story 323/351\n"
     ]
    },
    {
     "name": "stderr",
     "output_type": "stream",
     "text": [
      "Grading stories:  92%|█████████▏| 323/351 [22:41<02:06,  4.52s/story]"
     ]
    },
    {
     "name": "stdout",
     "output_type": "stream",
     "text": [
      "Story 323 completed: Grade 5/5, Tags: []\n",
      "Waiting 1s before next story...\n",
      "\n",
      "Processing story 324/351\n"
     ]
    },
    {
     "name": "stderr",
     "output_type": "stream",
     "text": [
      "Grading stories:  92%|█████████▏| 324/351 [22:46<02:00,  4.46s/story]"
     ]
    },
    {
     "name": "stdout",
     "output_type": "stream",
     "text": [
      "Story 324 completed: Grade 5/5, Tags: []\n",
      "Waiting 1s before next story...\n",
      "\n",
      "Processing story 325/351\n"
     ]
    },
    {
     "name": "stderr",
     "output_type": "stream",
     "text": [
      "Grading stories:  93%|█████████▎| 325/351 [22:49<01:48,  4.17s/story]"
     ]
    },
    {
     "name": "stdout",
     "output_type": "stream",
     "text": [
      "Story 325 completed: Grade 5/5, Tags: []\n",
      "Waiting 1s before next story...\n",
      "\n",
      "Processing story 326/351\n"
     ]
    },
    {
     "name": "stderr",
     "output_type": "stream",
     "text": [
      "Grading stories:  93%|█████████▎| 326/351 [22:53<01:42,  4.11s/story]"
     ]
    },
    {
     "name": "stdout",
     "output_type": "stream",
     "text": [
      "Story 326 completed: Grade 0/5, Tags: ['duplicate']\n",
      "Waiting 1s before next story...\n",
      "\n",
      "Processing story 327/351\n"
     ]
    },
    {
     "name": "stderr",
     "output_type": "stream",
     "text": [
      "Grading stories:  93%|█████████▎| 327/351 [22:57<01:36,  4.04s/story]"
     ]
    },
    {
     "name": "stdout",
     "output_type": "stream",
     "text": [
      "Story 327 completed: Grade 5/5, Tags: []\n",
      "Waiting 1s before next story...\n",
      "\n",
      "Processing story 328/351\n"
     ]
    },
    {
     "name": "stderr",
     "output_type": "stream",
     "text": [
      "Grading stories:  93%|█████████▎| 328/351 [23:01<01:29,  3.90s/story]"
     ]
    },
    {
     "name": "stdout",
     "output_type": "stream",
     "text": [
      "Story 328 completed: Grade 5/5, Tags: []\n",
      "Waiting 1s before next story...\n",
      "\n",
      "Processing story 329/351\n"
     ]
    },
    {
     "name": "stderr",
     "output_type": "stream",
     "text": [
      "Grading stories:  94%|█████████▎| 329/351 [23:04<01:25,  3.90s/story]"
     ]
    },
    {
     "name": "stdout",
     "output_type": "stream",
     "text": [
      "Story 329 completed: Grade 5/5, Tags: []\n",
      "Waiting 1s before next story...\n",
      "\n",
      "Processing story 330/351\n"
     ]
    },
    {
     "name": "stderr",
     "output_type": "stream",
     "text": [
      "Grading stories:  94%|█████████▍| 330/351 [23:08<01:21,  3.90s/story]"
     ]
    },
    {
     "name": "stdout",
     "output_type": "stream",
     "text": [
      "Story 330 completed: Grade 3/5, Tags: ['ui-polish']\n",
      "Waiting 1s before next story...\n",
      "\n",
      "Processing story 331/351\n"
     ]
    },
    {
     "name": "stderr",
     "output_type": "stream",
     "text": [
      "Grading stories:  94%|█████████▍| 331/351 [23:12<01:16,  3.85s/story]"
     ]
    },
    {
     "name": "stdout",
     "output_type": "stream",
     "text": [
      "Story 331 completed: Grade 5/5, Tags: []\n",
      "Waiting 1s before next story...\n",
      "\n",
      "Processing story 332/351\n"
     ]
    },
    {
     "name": "stderr",
     "output_type": "stream",
     "text": [
      "Grading stories:  95%|█████████▍| 332/351 [23:16<01:14,  3.94s/story]"
     ]
    },
    {
     "name": "stdout",
     "output_type": "stream",
     "text": [
      "Story 332 completed: Grade 5/5, Tags: []\n",
      "Waiting 1s before next story...\n",
      "\n",
      "Processing story 333/351\n"
     ]
    },
    {
     "name": "stderr",
     "output_type": "stream",
     "text": [
      "Grading stories:  95%|█████████▍| 333/351 [23:20<01:08,  3.81s/story]"
     ]
    },
    {
     "name": "stdout",
     "output_type": "stream",
     "text": [
      "Story 333 completed: Grade 5/5, Tags: []\n",
      "Waiting 1s before next story...\n",
      "\n",
      "Processing story 334/351\n"
     ]
    },
    {
     "name": "stderr",
     "output_type": "stream",
     "text": [
      "Grading stories:  95%|█████████▌| 334/351 [23:23<01:04,  3.77s/story]"
     ]
    },
    {
     "name": "stdout",
     "output_type": "stream",
     "text": [
      "Story 334 completed: Grade 5/5, Tags: []\n",
      "Waiting 1s before next story...\n",
      "\n",
      "Processing story 335/351\n"
     ]
    },
    {
     "name": "stderr",
     "output_type": "stream",
     "text": [
      "Grading stories:  95%|█████████▌| 335/351 [23:27<00:59,  3.71s/story]"
     ]
    },
    {
     "name": "stdout",
     "output_type": "stream",
     "text": [
      "Story 335 completed: Grade 5/5, Tags: []\n",
      "Waiting 1s before next story...\n",
      "\n",
      "Processing story 336/351\n"
     ]
    },
    {
     "name": "stderr",
     "output_type": "stream",
     "text": [
      "Grading stories:  96%|█████████▌| 336/351 [23:31<00:56,  3.76s/story]"
     ]
    },
    {
     "name": "stdout",
     "output_type": "stream",
     "text": [
      "Story 336 completed: Grade 5/5, Tags: []\n",
      "Waiting 1s before next story...\n",
      "\n",
      "Processing story 337/351\n"
     ]
    },
    {
     "name": "stderr",
     "output_type": "stream",
     "text": [
      "Grading stories:  96%|█████████▌| 337/351 [23:35<00:52,  3.75s/story]"
     ]
    },
    {
     "name": "stdout",
     "output_type": "stream",
     "text": [
      "Story 337 completed: Grade 5/5, Tags: []\n",
      "Waiting 1s before next story...\n",
      "\n",
      "Processing story 338/351\n"
     ]
    },
    {
     "name": "stderr",
     "output_type": "stream",
     "text": [
      "Grading stories:  96%|█████████▋| 338/351 [23:38<00:48,  3.73s/story]"
     ]
    },
    {
     "name": "stdout",
     "output_type": "stream",
     "text": [
      "Story 338 completed: Grade 3/5, Tags: ['ui-polish']\n",
      "Waiting 1s before next story...\n",
      "\n",
      "Processing story 339/351\n"
     ]
    },
    {
     "name": "stderr",
     "output_type": "stream",
     "text": [
      "Grading stories:  97%|█████████▋| 339/351 [23:42<00:45,  3.82s/story]"
     ]
    },
    {
     "name": "stdout",
     "output_type": "stream",
     "text": [
      "Story 339 completed: Grade 5/5, Tags: []\n",
      "Waiting 1s before next story...\n",
      "\n",
      "Processing story 340/351\n"
     ]
    },
    {
     "name": "stderr",
     "output_type": "stream",
     "text": [
      "Grading stories:  97%|█████████▋| 340/351 [23:47<00:43,  3.98s/story]"
     ]
    },
    {
     "name": "stdout",
     "output_type": "stream",
     "text": [
      "Story 340 completed: Grade 4/5, Tags: ['typo']\n",
      "Waiting 1s before next story...\n",
      "\n",
      "Processing story 341/351\n"
     ]
    },
    {
     "name": "stderr",
     "output_type": "stream",
     "text": [
      "Grading stories:  97%|█████████▋| 341/351 [23:50<00:38,  3.90s/story]"
     ]
    },
    {
     "name": "stdout",
     "output_type": "stream",
     "text": [
      "Story 341 completed: Grade 5/5, Tags: []\n",
      "Waiting 1s before next story...\n",
      "\n",
      "Processing story 342/351\n"
     ]
    },
    {
     "name": "stderr",
     "output_type": "stream",
     "text": [
      "Grading stories:  97%|█████████▋| 342/351 [23:54<00:34,  3.87s/story]"
     ]
    },
    {
     "name": "stdout",
     "output_type": "stream",
     "text": [
      "Story 342 completed: Grade 5/5, Tags: []\n",
      "Waiting 1s before next story...\n",
      "\n",
      "Processing story 343/351\n"
     ]
    },
    {
     "name": "stderr",
     "output_type": "stream",
     "text": [
      "Grading stories:  98%|█████████▊| 343/351 [23:58<00:30,  3.77s/story]"
     ]
    },
    {
     "name": "stdout",
     "output_type": "stream",
     "text": [
      "Story 343 completed: Grade 5/5, Tags: []\n",
      "Waiting 1s before next story...\n",
      "\n",
      "Processing story 344/351\n"
     ]
    },
    {
     "name": "stderr",
     "output_type": "stream",
     "text": [
      "Grading stories:  98%|█████████▊| 344/351 [24:02<00:26,  3.82s/story]"
     ]
    },
    {
     "name": "stdout",
     "output_type": "stream",
     "text": [
      "Story 344 completed: Grade 5/5, Tags: []\n",
      "Waiting 1s before next story...\n",
      "\n",
      "Processing story 345/351\n"
     ]
    },
    {
     "name": "stderr",
     "output_type": "stream",
     "text": [
      "Grading stories:  98%|█████████▊| 345/351 [24:05<00:22,  3.82s/story]"
     ]
    },
    {
     "name": "stdout",
     "output_type": "stream",
     "text": [
      "Story 345 completed: Grade 4/5, Tags: ['typo']\n",
      "Waiting 1s before next story...\n",
      "\n",
      "Processing story 346/351\n"
     ]
    },
    {
     "name": "stderr",
     "output_type": "stream",
     "text": [
      "Grading stories:  99%|█████████▊| 346/351 [24:10<00:19,  3.96s/story]"
     ]
    },
    {
     "name": "stdout",
     "output_type": "stream",
     "text": [
      "Story 346 completed: Grade 5/5, Tags: []\n",
      "Waiting 1s before next story...\n",
      "\n",
      "Processing story 347/351\n"
     ]
    },
    {
     "name": "stderr",
     "output_type": "stream",
     "text": [
      "Grading stories:  99%|█████████▉| 347/351 [24:14<00:15,  3.96s/story]"
     ]
    },
    {
     "name": "stdout",
     "output_type": "stream",
     "text": [
      "Story 347 completed: Grade 5/5, Tags: []\n",
      "Waiting 1s before next story...\n",
      "\n",
      "Processing story 348/351\n"
     ]
    },
    {
     "name": "stderr",
     "output_type": "stream",
     "text": [
      "Grading stories:  99%|█████████▉| 348/351 [24:18<00:11,  3.98s/story]"
     ]
    },
    {
     "name": "stdout",
     "output_type": "stream",
     "text": [
      "Story 348 completed: Grade 5/5, Tags: []\n",
      "Waiting 1s before next story...\n",
      "\n",
      "Processing story 349/351\n"
     ]
    },
    {
     "name": "stderr",
     "output_type": "stream",
     "text": [
      "Grading stories:  99%|█████████▉| 349/351 [24:22<00:08,  4.03s/story]"
     ]
    },
    {
     "name": "stdout",
     "output_type": "stream",
     "text": [
      "Story 349 completed: Grade 4/5, Tags: ['typo']\n",
      "Waiting 1s before next story...\n",
      "\n",
      "Processing story 350/351\n"
     ]
    },
    {
     "name": "stderr",
     "output_type": "stream",
     "text": [
      "Grading stories: 100%|█████████▉| 350/351 [24:25<00:03,  3.87s/story]"
     ]
    },
    {
     "name": "stdout",
     "output_type": "stream",
     "text": [
      "Story 350 completed: Grade 5/5, Tags: []\n",
      "Waiting 1s before next story...\n",
      "\n",
      "Processing story 351/351\n"
     ]
    },
    {
     "name": "stderr",
     "output_type": "stream",
     "text": [
      "Grading stories: 100%|██████████| 351/351 [24:29<00:00,  4.19s/story]"
     ]
    },
    {
     "name": "stdout",
     "output_type": "stream",
     "text": [
      "Story 351 completed: Grade 5/5, Tags: []\n",
      "\n",
      "Completed! Results saved to graded_user_stories.json\n"
     ]
    },
    {
     "name": "stderr",
     "output_type": "stream",
     "text": [
      "\n"
     ]
    }
   ],
   "source": [
    "# IMPROVED VERSION WITH BETTER RATE LIMITING\n",
    "def grade_user_stories_safe(\n",
    "    input_path: str,\n",
    "    output_path: str,\n",
    "    batch_size: int = 2,      # Very small batches\n",
    "    delay_between_batches: int = 20,  # Longer delay between batches\n",
    "):\n",
    "    import os\n",
    "    from pathlib import Path\n",
    "    \n",
    "    # Load data\n",
    "    with open(input_path, \"r\", encoding=\"utf-8\") as f:\n",
    "        data = json.load(f)\n",
    "\n",
    "    # Flatten: (group_id, idx, story_text)\n",
    "    flat = []\n",
    "    for group_id, stories in data.items():\n",
    "        for idx, obj in enumerate(stories):\n",
    "            flat.append((group_id, idx, obj[\"userStory\"]))\n",
    "\n",
    "    total = len(flat)\n",
    "    if total == 0:\n",
    "        with open(output_path, \"w\", encoding=\"utf-8\") as f:\n",
    "            json.dump(data, f, indent=2, ensure_ascii=False)\n",
    "        return\n",
    "\n",
    "    print(f\"Processing {total} stories in batches of {batch_size}\")\n",
    "    print(f\"Estimated time: {(total / batch_size * delay_between_batches) / 60:.1f} minutes\")\n",
    "    \n",
    "    # Process stories ONE BY ONE to avoid rate limits\n",
    "    with tqdm(total=total, desc=\"Grading stories\", unit=\"story\") as pbar:\n",
    "        for i, (group_id, idx, story_text) in enumerate(flat):\n",
    "            try:\n",
    "                print(f\"\\nProcessing story {i+1}/{total}\")\n",
    "                \n",
    "                # Process single story\n",
    "                sc = run_checks_for_story(story_text)\n",
    "                tags = sc.tags if sc and hasattr(sc, \"tags\") else []\n",
    "                grade = compute_grade(tags)\n",
    "                feedback = generate_feedback(story_text, tags, grade)\n",
    "\n",
    "                # Update data\n",
    "                data[group_id][idx][\"tags\"] = tags\n",
    "                data[group_id][idx][\"grade\"] = grade\n",
    "                data[group_id][idx][\"feedback\"] = feedback\n",
    "\n",
    "                # Save progress after every story\n",
    "                with open(output_path, \"w\", encoding=\"utf-8\") as out:\n",
    "                    json.dump(data, out, indent=2, ensure_ascii=False)\n",
    "                \n",
    "                pbar.update(1)\n",
    "                print(f\"Story {i+1} completed: Grade {grade}/5, Tags: {tags}\")\n",
    "                \n",
    "                # Wait between each story to avoid rate limits\n",
    "                if i < total - 1:  # Don't sleep after last story\n",
    "                    print(f\"Waiting {delay_between_batches}s before next story...\")\n",
    "                    time.sleep(delay_between_batches)\n",
    "                    \n",
    "            except Exception as e:\n",
    "                print(f\"Error processing story {i+1}: {e}\")\n",
    "                if \"rate_limit\" in str(e).lower() or \"429\" in str(e):\n",
    "                    print(\"Rate limit error - waiting 90 seconds...\")\n",
    "                    time.sleep(90)\n",
    "                else:\n",
    "                    print(\"Other error - waiting 30 seconds...\")\n",
    "                    time.sleep(30)\n",
    "                # Skip this story and continue\n",
    "                continue\n",
    "\n",
    "    print(f\"\\nCompleted! Results saved to {output_path}\")\n",
    "\n",
    "if __name__ == \"__main__\":\n",
    "    grade_user_stories_safe(\n",
    "        input_path=\"user_stories.json\",\n",
    "        output_path=\"graded_user_stories.json\",\n",
    "        batch_size=1,      # Process one at a time\n",
    "        delay_between_batches=1,  # 1 second between stories\n",
    "    )\n"
   ]
  },
  {
   "cell_type": "code",
   "execution_count": 37,
   "id": "c2b93317",
   "metadata": {},
   "outputs": [
    {
     "name": "stdout",
     "output_type": "stream",
     "text": [
      "🚀 Starting Fixed Grade Comparison Analysis...\n",
      "🔍 Loading data...\n",
      "   ✅ Loaded AI predictions: 174 groups\n",
      "📖 Reading human grades from grading.json...\n",
      "   ✅ Removed 'Failed: ' prefix\n",
      "   ✅ Successfully parsed JSON with 191 groups\n",
      "   ✅ Converted 351 user stories from 174 groups\n",
      "✅ Found 351 matching stories\n",
      "\n",
      "============================================================\n",
      "📊 GRADE COMPARISON STATISTICS\n",
      "============================================================\n",
      "📈 Overall Statistics:\n",
      "   Total comparisons: 351\n",
      "   Perfect matches: 155 (44.2%)\n",
      "   Within ±1 point: 299 (85.2%)\n",
      "   Mean absolute error: 0.85\n",
      "   Root mean square error: 1.39\n",
      "\n",
      "🔗 Correlation Analysis:\n",
      "   Pearson correlation: 0.260 (p=0.000)\n",
      "   Spearman correlation: 0.236 (p=0.000)\n",
      "\n",
      "📊 Grade Distribution:\n",
      "   Human grades:\n",
      "     Grade 1: 3 (0.9%)\n",
      "     Grade 2: 4 (1.1%)\n",
      "     Grade 3: 21 (6.0%)\n",
      "     Grade 4: 167 (47.6%)\n",
      "     Grade 5: 156 (44.4%)\n",
      "   Predicted grades:\n",
      "     Grade 0: 27 (7.7%)\n",
      "     Grade 2: 3 (0.9%)\n",
      "     Grade 3: 19 (5.4%)\n",
      "     Grade 4: 21 (6.0%)\n",
      "     Grade 5: 281 (80.1%)\n",
      "\n",
      "🎯 Confusion Matrix (Human vs Predicted):\n",
      "predicted_grade   0  2   3   4    5  All\n",
      "human_grade                             \n",
      "1                 2  0   0   1    0    3\n",
      "2                 2  0   0   2    0    4\n",
      "3                 2  1   2   1   15   21\n",
      "4                14  2  10  14  127  167\n",
      "5                 7  0   7   3  139  156\n",
      "All              27  3  19  21  281  351\n",
      "\n",
      "📋 Agreement by Grade Level:\n",
      "   Grade 1: 0/3 exact (0.0%), 2/3 within ±1 (66.7%)\n",
      "   Grade 2: 0/4 exact (0.0%), 0/4 within ±1 (0.0%)\n",
      "   Grade 3: 2/21 exact (9.5%), 4/21 within ±1 (19.0%)\n",
      "   Grade 4: 14/167 exact (8.4%), 151/167 within ±1 (90.4%)\n",
      "   Grade 5: 139/156 exact (89.1%), 142/156 within ±1 (91.0%)\n",
      "\n",
      "⚖️  Bias Analysis:\n",
      "   Mean difference (pred - human): 0.09\n",
      "   AI grader unbiased\n",
      "\n",
      "❌ Largest Disagreements:\n",
      "   Story: As a user, I want to be able to create a new task with a tit...\n",
      "   Human: 5/5, AI: 0/5 (diff: -5)\n",
      "   AI tags: ['duplicate']\n",
      "\n",
      "   Story: As a new user, I want to be able to sign up using my Google ...\n",
      "   Human: 5/5, AI: 0/5 (diff: -5)\n",
      "   AI tags: ['duplicate']\n",
      "\n",
      "   Story: As an admin, I want to view a summary of users who logged in...\n",
      "   Human: 5/5, AI: 0/5 (diff: -5)\n",
      "   AI tags: ['irrelevant', 'oversized']\n",
      "\n",
      "   Story: As an online shop customer, I want to be able to see reviews...\n",
      "   Human: 5/5, AI: 0/5 (diff: -5)\n",
      "   AI tags: ['irrelevant', 'role-mismatch']\n",
      "\n",
      "   Story: As a user, I would like to create tasks which are linked to ...\n",
      "   Human: 5/5, AI: 0/5 (diff: -5)\n",
      "   AI tags: ['duplicate']\n",
      "\n",
      "\n",
      "💾 Saving detailed report to detailed_comparison.csv\n",
      "📊 Visualization saved to grade_comparison_plots.png\n"
     ]
    },
    {
     "data": {
      "image/png": "[encoded data removed]",
      "text/plain": [
       "<Figure size 1800x1200 with 7 Axes>"
      ]
     },
     "metadata": {},
     "output_type": "display_data"
    },
    {
     "name": "stdout",
     "output_type": "stream",
     "text": [
      "\n",
      "🎉 Analysis completed successfully!\n",
      "📁 Generated files:\n",
      "   - detailed_comparison.csv\n",
      "   - grade_comparison_plots.png\n"
     ]
    }
   ],
   "source": [
    "#!/usr/bin/env python3\n",
    "\"\"\"\n",
    "Fixed Grade Comparison Tool\n",
    "Handles the 'Failed: ' prefix and different structure in grading.json\n",
    "\"\"\"\n",
    "\n",
    "import json\n",
    "import pandas as pd\n",
    "import numpy as np\n",
    "from collections import Counter\n",
    "from scipy.stats import pearsonr, spearmanr\n",
    "import matplotlib.pyplot as plt\n",
    "import seaborn as sns\n",
    "\n",
    "def parse_human_grades_file(human_path: str):\n",
    "    \"\"\"\n",
    "    Parse the human grades file which has 'Failed: ' prefix and different structure.\n",
    "    \n",
    "    Expected structure:\n",
    "    Failed: {\n",
    "      \"groupId\": {\n",
    "        \"userStories\": [\n",
    "          {\n",
    "            \"userStory\": \"...\",\n",
    "            \"comment\": \"...\", \n",
    "            \"grade\": X\n",
    "          }\n",
    "        ]\n",
    "      }\n",
    "    }\n",
    "    \"\"\"\n",
    "    print(f\"📖 Reading human grades from {human_path}...\")\n",
    "    \n",
    "    with open(human_path, \"r\", encoding=\"utf-8\") as f:\n",
    "        content = f.read()\n",
    "    \n",
    "    # Remove the \"Failed: \" prefix\n",
    "    if content.startswith(\"Failed: \"):\n",
    "        content = content[8:]  # Remove \"Failed: \"\n",
    "        print(\"   ✅ Removed 'Failed: ' prefix\")\n",
    "    \n",
    "    # Parse JSON\n",
    "    try:\n",
    "        raw_data = json.loads(content)\n",
    "        print(f\"   ✅ Successfully parsed JSON with {len(raw_data)} groups\")\n",
    "    except json.JSONDecodeError as e:\n",
    "        print(f\"   ❌ JSON parsing failed: {e}\")\n",
    "        return None\n",
    "    \n",
    "    # Convert to expected format: groupId -> list of stories\n",
    "    converted_data = {}\n",
    "    total_stories = 0\n",
    "    \n",
    "    for group_id, group_data in raw_data.items():\n",
    "        if \"userStories\" in group_data:\n",
    "            stories = []\n",
    "            for story_data in group_data[\"userStories\"]:\n",
    "                # Convert to expected format\n",
    "                story = {\n",
    "                    \"userStory\": story_data.get(\"userStory\", \"\"),\n",
    "                    \"grade\": story_data.get(\"grade\"),\n",
    "                    \"comment\": story_data.get(\"comment\", \"\"),\n",
    "                    \"tags\": []  # Human data doesn't have tags, so empty list\n",
    "                }\n",
    "                stories.append(story)\n",
    "                total_stories += 1\n",
    "            \n",
    "            converted_data[group_id] = stories\n",
    "    \n",
    "    print(f\"   ✅ Converted {total_stories} user stories from {len(converted_data)} groups\")\n",
    "    return converted_data\n",
    "\n",
    "def compare_grades(predicted_path: str, human_path: str, output_report: str = None):\n",
    "    \"\"\"\n",
    "    Compare AI-predicted grades with human grades and generate comprehensive statistics.\n",
    "    \n",
    "    Args:\n",
    "        predicted_path: Path to AI-graded JSON file (output from your grader)\n",
    "        human_path: Path to human-graded JSON file (with 'Failed: ' prefix)\n",
    "        output_report: Optional path to save detailed report\n",
    "    \"\"\"\n",
    "    print(\"🔍 Loading data...\")\n",
    "    \n",
    "    # Load predicted grades\n",
    "    with open(predicted_path, \"r\", encoding=\"utf-8\") as f:\n",
    "        predicted_data = json.load(f)\n",
    "    print(f\"   ✅ Loaded AI predictions: {len(predicted_data)} groups\")\n",
    "    \n",
    "    # Load human grades using custom parser\n",
    "    human_data = parse_human_grades_file(human_path)\n",
    "    if human_data is None:\n",
    "        return None\n",
    "    \n",
    "    # Flatten and match stories\n",
    "    comparisons = []\n",
    "    \n",
    "    for group_id, stories in predicted_data.items():\n",
    "        if group_id not in human_data:\n",
    "            print(f\"⚠️  Group {group_id} not found in human data\")\n",
    "            continue\n",
    "            \n",
    "        human_stories = human_data[group_id]\n",
    "        \n",
    "        for idx, pred_story in enumerate(stories):\n",
    "            if idx >= len(human_stories):\n",
    "                print(f\"⚠️  Story {idx} in group {group_id} not found in human data\")\n",
    "                continue\n",
    "                \n",
    "            human_story = human_stories[idx]\n",
    "            \n",
    "            # Verify stories match\n",
    "            pred_text = pred_story.get(\"userStory\", \"\").strip()\n",
    "            human_text = human_story.get(\"userStory\", \"\").strip()\n",
    "            \n",
    "            if pred_text != human_text:\n",
    "                print(f\"⚠️  Story mismatch in group {group_id}, index {idx}\")\n",
    "                print(f\"    Predicted: {pred_text[:50]}...\")\n",
    "                print(f\"    Human: {human_text[:50]}...\")\n",
    "                continue\n",
    "            \n",
    "            # Extract grades\n",
    "            pred_grade = pred_story.get(\"grade\")\n",
    "            human_grade = human_story.get(\"grade\") \n",
    "            \n",
    "            if pred_grade is not None and human_grade is not None:\n",
    "                comparisons.append({\n",
    "                    \"group_id\": group_id,\n",
    "                    \"story_idx\": idx,\n",
    "                    \"story\": pred_text,\n",
    "                    \"predicted_grade\": pred_grade,\n",
    "                    \"human_grade\": human_grade,\n",
    "                    \"predicted_tags\": pred_story.get(\"tags\", []),\n",
    "                    \"human_tags\": human_story.get(\"tags\", []),\n",
    "                    \"difference\": pred_grade - human_grade,\n",
    "                    \"abs_difference\": abs(pred_grade - human_grade)\n",
    "                })\n",
    "    \n",
    "    if not comparisons:\n",
    "        print(\"❌ No matching stories found!\")\n",
    "        return None\n",
    "    \n",
    "    print(f\"✅ Found {len(comparisons)} matching stories\")\n",
    "    \n",
    "    # Convert to DataFrame for easier analysis\n",
    "    df = pd.DataFrame(comparisons)\n",
    "    \n",
    "    # ============ STATISTICAL ANALYSIS ============\n",
    "    print(\"\\n\" + \"=\"*60)\n",
    "    print(\"📊 GRADE COMPARISON STATISTICS\")\n",
    "    print(\"=\"*60)\n",
    "    \n",
    "    # Basic stats\n",
    "    pred_grades = df[\"predicted_grade\"].values\n",
    "    human_grades = df[\"human_grade\"].values\n",
    "    \n",
    "    print(f\"📈 Overall Statistics:\")\n",
    "    print(f\"   Total comparisons: {len(df)}\")\n",
    "    print(f\"   Perfect matches: {sum(df['difference'] == 0)} ({sum(df['difference'] == 0)/len(df)*100:.1f}%)\")\n",
    "    print(f\"   Within ±1 point: {sum(df['abs_difference'] <= 1)} ({sum(df['abs_difference'] <= 1)/len(df)*100:.1f}%)\")\n",
    "    print(f\"   Mean absolute error: {df['abs_difference'].mean():.2f}\")\n",
    "    print(f\"   Root mean square error: {np.sqrt((df['difference']**2).mean()):.2f}\")\n",
    "    \n",
    "    # Correlation\n",
    "    pearson_corr, pearson_p = pearsonr(pred_grades, human_grades)\n",
    "    spearman_corr, spearman_p = spearmanr(pred_grades, human_grades)\n",
    "    \n",
    "    print(f\"\\n🔗 Correlation Analysis:\")\n",
    "    print(f\"   Pearson correlation: {pearson_corr:.3f} (p={pearson_p:.3f})\")\n",
    "    print(f\"   Spearman correlation: {spearman_corr:.3f} (p={spearman_p:.3f})\")\n",
    "    \n",
    "    # Grade distribution\n",
    "    print(f\"\\n📊 Grade Distribution:\")\n",
    "    print(\"   Human grades:\")\n",
    "    human_dist = Counter(human_grades)\n",
    "    for grade in sorted(human_dist.keys()):\n",
    "        count = human_dist[grade]\n",
    "        print(f\"     Grade {grade}: {count} ({count/len(df)*100:.1f}%)\")\n",
    "    \n",
    "    print(\"   Predicted grades:\")\n",
    "    pred_dist = Counter(pred_grades)\n",
    "    for grade in sorted(pred_dist.keys()):\n",
    "        count = pred_dist[grade]\n",
    "        print(f\"     Grade {grade}: {count} ({count/len(df)*100:.1f}%)\")\n",
    "    \n",
    "    # Confusion Matrix\n",
    "    print(f\"\\n🎯 Confusion Matrix (Human vs Predicted):\")\n",
    "    confusion = pd.crosstab(df[\"human_grade\"], df[\"predicted_grade\"], margins=True)\n",
    "    print(confusion)\n",
    "    \n",
    "    # Agreement by grade level\n",
    "    print(f\"\\n📋 Agreement by Grade Level:\")\n",
    "    for grade in sorted(set(human_grades)):\n",
    "        subset = df[df[\"human_grade\"] == grade]\n",
    "        if len(subset) > 0:\n",
    "            exact_match = sum(subset[\"difference\"] == 0)\n",
    "            within_1 = sum(subset[\"abs_difference\"] <= 1)\n",
    "            print(f\"   Grade {grade}: {exact_match}/{len(subset)} exact ({exact_match/len(subset)*100:.1f}%), {within_1}/{len(subset)} within ±1 ({within_1/len(subset)*100:.1f}%)\")\n",
    "    \n",
    "    # Bias analysis\n",
    "    print(f\"\\n⚖️  Bias Analysis:\")\n",
    "    mean_diff = df[\"difference\"].mean()\n",
    "    if abs(mean_diff) < 0.1:\n",
    "        bias_desc = \"unbiased\"\n",
    "    elif mean_diff > 0:\n",
    "        bias_desc = f\"tends to overgrade by {mean_diff:.2f} points\"\n",
    "    else:\n",
    "        bias_desc = f\"tends to undergrade by {abs(mean_diff):.2f} points\"\n",
    "    print(f\"   Mean difference (pred - human): {mean_diff:.2f}\")\n",
    "    print(f\"   AI grader {bias_desc}\")\n",
    "    \n",
    "    # Worst disagreements\n",
    "    print(f\"\\n❌ Largest Disagreements:\")\n",
    "    worst = df.nlargest(5, \"abs_difference\")\n",
    "    for _, row in worst.iterrows():\n",
    "        print(f\"   Story: {row['story'][:60]}...\")\n",
    "        print(f\"   Human: {row['human_grade']}/5, AI: {row['predicted_grade']}/5 (diff: {row['difference']:+.0f})\")\n",
    "        print(f\"   AI tags: {row['predicted_tags']}\")\n",
    "        print()\n",
    "    \n",
    "    # Save detailed report\n",
    "    if output_report:\n",
    "        print(f\"\\n💾 Saving detailed report to {output_report}\")\n",
    "        df.to_csv(output_report, index=False)\n",
    "    \n",
    "    return df\n",
    "\n",
    "def plot_grade_comparison(df: pd.DataFrame, save_path: str = None):\n",
    "    \"\"\"\n",
    "    Create comprehensive visualizations for grade comparison analysis.\n",
    "    \"\"\"\n",
    "    fig, axes = plt.subplots(2, 3, figsize=(18, 12))\n",
    "    fig.suptitle('AI vs Human Grade Comparison Analysis', fontsize=16, fontweight='bold')\n",
    "    \n",
    "    # 1. Scatter plot with trend line\n",
    "    axes[0,0].scatter(df['human_grade'], df['predicted_grade'], alpha=0.6, s=50)\n",
    "    axes[0,0].plot([0, 5], [0, 5], 'r--', alpha=0.8, label='Perfect Agreement')\n",
    "    \n",
    "    # Add trend line\n",
    "    z = np.polyfit(df['human_grade'], df['predicted_grade'], 1)\n",
    "    p = np.poly1d(z)\n",
    "    axes[0,0].plot(df['human_grade'], p(df['human_grade']), \"g-\", alpha=0.8, label=f'Trend (slope={z[0]:.2f})')\n",
    "    \n",
    "    axes[0,0].set_xlabel('Human Grade')\n",
    "    axes[0,0].set_ylabel('AI Predicted Grade')\n",
    "    axes[0,0].set_title('Grade Correlation')\n",
    "    axes[0,0].legend()\n",
    "    axes[0,0].grid(True, alpha=0.3)\n",
    "    axes[0,0].set_xlim(-0.5, 5.5)\n",
    "    axes[0,0].set_ylim(-0.5, 5.5)\n",
    "    \n",
    "    # 2. Grade distribution comparison\n",
    "    grades = range(6)\n",
    "    human_counts = [sum(df['human_grade'] == g) for g in grades]\n",
    "    pred_counts = [sum(df['predicted_grade'] == g) for g in grades]\n",
    "    \n",
    "    x = np.arange(len(grades))\n",
    "    width = 0.35\n",
    "    \n",
    "    axes[0,1].bar(x - width/2, human_counts, width, label='Human', alpha=0.8)\n",
    "    axes[0,1].bar(x + width/2, pred_counts, width, label='AI Predicted', alpha=0.8)\n",
    "    \n",
    "    axes[0,1].set_xlabel('Grade')\n",
    "    axes[0,1].set_ylabel('Count')\n",
    "    axes[0,1].set_title('Grade Distribution Comparison')\n",
    "    axes[0,1].set_xticks(x)\n",
    "    axes[0,1].set_xticklabels(grades)\n",
    "    axes[0,1].legend()\n",
    "    axes[0,1].grid(True, alpha=0.3)\n",
    "    \n",
    "    # 3. Difference histogram\n",
    "    axes[0,2].hist(df['difference'], bins=11, range=(-5.5, 5.5), alpha=0.7, edgecolor='black')\n",
    "    axes[0,2].axvline(x=0, color='red', linestyle='--', alpha=0.8, label='Perfect Agreement')\n",
    "    axes[0,2].axvline(x=df['difference'].mean(), color='green', linestyle='--', alpha=0.8, \n",
    "                     label=f'Mean Diff: {df[\"difference\"].mean():.2f}')\n",
    "    axes[0,2].set_xlabel('Difference (AI - Human)')\n",
    "    axes[0,2].set_ylabel('Frequency')\n",
    "    axes[0,2].set_title('Grade Difference Distribution')\n",
    "    axes[0,2].legend()\n",
    "    axes[0,2].grid(True, alpha=0.3)\n",
    "    \n",
    "    # 4. Confusion matrix heatmap\n",
    "    confusion = pd.crosstab(df['human_grade'], df['predicted_grade'])\n",
    "    sns.heatmap(confusion, annot=True, fmt='d', cmap='Blues', ax=axes[1,0])\n",
    "    axes[1,0].set_xlabel('AI Predicted Grade')\n",
    "    axes[1,0].set_ylabel('Human Grade') \n",
    "    axes[1,0].set_title('Confusion Matrix')\n",
    "    \n",
    "    # 5. Agreement by grade level\n",
    "    grade_levels = sorted(df['human_grade'].unique())\n",
    "    exact_agreements = []\n",
    "    within_1_agreements = []\n",
    "    \n",
    "    for grade in grade_levels:\n",
    "        subset = df[df['human_grade'] == grade]\n",
    "        exact = sum(subset['difference'] == 0) / len(subset) * 100\n",
    "        within_1 = sum(subset['abs_difference'] <= 1) / len(subset) * 100\n",
    "        exact_agreements.append(exact)\n",
    "        within_1_agreements.append(within_1)\n",
    "    \n",
    "    x = np.arange(len(grade_levels))\n",
    "    axes[1,1].bar(x - 0.2, exact_agreements, 0.4, label='Exact Match', alpha=0.8)\n",
    "    axes[1,1].bar(x + 0.2, within_1_agreements, 0.4, label='Within ±1', alpha=0.8)\n",
    "    \n",
    "    axes[1,1].set_xlabel('Human Grade')\n",
    "    axes[1,1].set_ylabel('Agreement Percentage')\n",
    "    axes[1,1].set_title('Agreement by Grade Level')\n",
    "    axes[1,1].set_xticks(x)\n",
    "    axes[1,1].set_xticklabels(grade_levels)\n",
    "    axes[1,1].legend()\n",
    "    axes[1,1].grid(True, alpha=0.3)\n",
    "    \n",
    "    # 6. Error analysis by absolute difference\n",
    "    abs_diffs = sorted(df['abs_difference'].unique())\n",
    "    error_counts = [sum(df['abs_difference'] == diff) for diff in abs_diffs]\n",
    "    error_percentages = [count/len(df)*100 for count in error_counts]\n",
    "    \n",
    "    axes[1,2].bar(abs_diffs, error_percentages, alpha=0.7)\n",
    "    axes[1,2].set_xlabel('Absolute Difference')\n",
    "    axes[1,2].set_ylabel('Percentage of Cases')\n",
    "    axes[1,2].set_title('Error Distribution')\n",
    "    axes[1,2].grid(True, alpha=0.3)\n",
    "    \n",
    "    # Add percentage labels on bars\n",
    "    for i, (diff, pct) in enumerate(zip(abs_diffs, error_percentages)):\n",
    "        axes[1,2].text(diff, pct + 1, f'{pct:.1f}%', ha='center', va='bottom')\n",
    "    \n",
    "    plt.tight_layout()\n",
    "    \n",
    "    if save_path:\n",
    "        plt.savefig(save_path, dpi=300, bbox_inches='tight')\n",
    "        print(f\"📊 Visualization saved to {save_path}\")\n",
    "    \n",
    "    plt.show()\n",
    "\n",
    "def full_comparison_analysis(predicted_path: str, human_path: str):\n",
    "    \"\"\"\n",
    "    Run complete comparison analysis with statistics and visualizations.\n",
    "    \"\"\"\n",
    "    # Get comparison data\n",
    "    df = compare_grades(predicted_path, human_path, \"detailed_comparison.csv\")\n",
    "    \n",
    "    if df is not None:\n",
    "        # Generate visualizations  \n",
    "        plot_grade_comparison(df, \"grade_comparison_plots.png\")\n",
    "        \n",
    "        return df\n",
    "    else:\n",
    "        print(\"❌ Comparison failed - check your input files\")\n",
    "        return None\n",
    "\n",
    "if __name__ == \"__main__\":\n",
    "    # Run the comparison\n",
    "    print(\"🚀 Starting Fixed Grade Comparison Analysis...\")\n",
    "    \n",
    "    comparison_results = full_comparison_analysis(\n",
    "        predicted_path=\"graded_user_stories.json\",\n",
    "        human_path=\"grading.json\"\n",
    "    )\n",
    "    \n",
    "    if comparison_results is not None:\n",
    "        print(\"\\n🎉 Analysis completed successfully!\")\n",
    "        print(\"📁 Generated files:\")\n",
    "        print(\"   - detailed_comparison.csv\")\n",
    "        print(\"   - grade_comparison_plots.png\")\n",
    "    else:\n",
    "        print(\"❌ Analysis failed!\")\n"
   ]
  },
  {
   "cell_type": "code",
   "execution_count": 38,
   "id": "c4234968",
   "metadata": {},
   "outputs": [
    {
     "name": "stdout",
     "output_type": "stream",
     "text": [
      "\n",
      "🏷️  TAG DEFINITIONS AND PENALTIES:\n",
      "=============================================\n",
      "  duplicate       (-5 pts): Story is a duplicate of another story\n",
      "  irrelevant      (-5 pts): Story is outside the scope of ToDo app\n",
      "  role-mismatch   (-3 pts): Wrong user role specified for the context\n",
      "  bad-structure   (-3 pts): Doesn't follow proper user story format\n",
      "  vague           (-2 pts): Story lacks specific details or clarity\n",
      "  oversized       (-2 pts): Story is too complex, should be broken down\n",
      "  ui-polish       (-2 pts): Cosmetic feature, not core functionality\n",
      "  typo            (-1 pts): Contains spelling or grammatical errors\n",
      "  untagged        ( 0 pts): No quality issues identified\n",
      "\n",
      "============================================================\n",
      "✅ Found 'graded_user_stories.json' file\n",
      "🔍 Starting user stories tag analysis...\n",
      "\n",
      "Reading user stories from 'graded_user_stories.json'...\n",
      "✅ Successfully grouped user stories by tags\n",
      "✅ Found 9 different tag categories\n",
      "✅ Saved to 'stories_by_tags.json'\n",
      "\n",
      "📊 Analyzing tag performance...\n",
      "✅ Analysis saved to 'tag_analysis.json'\n",
      "📝 Creating detailed report...\n",
      "✅ Detailed report saved to 'tag_report.txt'\n",
      "\n",
      "🎯 KEY INSIGHTS:\n",
      "----------------------------------------\n",
      "Most severe issue: irrelevant (10 stories, -5 pts each)\n",
      "Most common issue: untagged (281 stories)\n",
      "\n",
      "Tag breakdown:\n",
      "  • untagged: 281 stories (162 students)\n",
      "  • typo: 23 stories (21 students)\n",
      "  • ui-polish: 20 stories (20 students)\n",
      "  • duplicate: 17 stories (14 students)\n",
      "  • irrelevant: 10 stories (7 students)\n",
      "  • role-mismatch: 6 stories (4 students)\n",
      "  • bad-structure: 3 stories (3 students)\n",
      "  • oversized: 2 stories (2 students)\n",
      "  • vague: 1 stories (1 students)\n",
      "\n",
      "📁 Files created:\n",
      "   • stories_by_tags.json - Stories grouped by tags\n",
      "   • tag_analysis.json - Detailed statistics\n",
      "   • tag_report.txt - Human-readable report\n",
      "\n",
      "✅ Analysis completed successfully!\n",
      "\n",
      "📁 File verification:\n",
      "   ✅ stories_by_tags.json (147,730 bytes)\n",
      "   ✅ tag_analysis.json (6,490 bytes)\n",
      "   ✅ tag_report.txt (3,773 bytes)\n",
      "\n",
      "📂 Current working directory: /Users/albertfares/Library/Mobile Documents/com~apple~CloudDocs/SWENT/2025/UserStoryGrader\n",
      "\n",
      "📋 SAMPLE OF GROUPED DATA:\n",
      "----------------------------------------\n",
      "\n",
      "🏷️ IRRELEVANT: 10 stories\n",
      "   1. Student 310350 (Grade: 0)\n",
      "      \"As a student, I want to see how long a study room is availab...\"\n",
      "   2. Student 310350 (Grade: 0)\n",
      "      \"As a user, I want to filter products in a price range, so th...\"\n",
      "      ... and 8 more stories\n",
      "\n",
      "🏷️ UI-POLISH: 20 stories\n",
      "   1. Student 315594 (Grade: 3)\n",
      "      \"As a user, I want to see a motivating message when I complet...\"\n",
      "   2. Student 325520 (Grade: 3)\n",
      "      \"As a user, I want to personalize my ToDos with emotes, so I ...\"\n",
      "      ... and 18 more stories\n",
      "\n",
      "🏷️ UNTAGGED: 281 stories\n",
      "   1. Student 315594 (Grade: 5)\n",
      "      \"As a user, I want to be able to launch a timer whenever I'm ...\"\n",
      "   2. Student 315696 (Grade: 5)\n",
      "      \"As a user, I want to set reminders for my ToDos so that I re...\"\n",
      "      ... and 279 more stories\n",
      "\n",
      "💡 Jupyter Helper Functions Available:\n",
      "   • show_files_in_current_directory() - List all files\n",
      "   • display_tag_analysis_summary() - Show analysis table\n",
      "   • show_stories_for_tag('tag_name') - Show stories for specific tag\n",
      "   • create_tag_report() - Run the full analysis\n"
     ]
    }
   ],
   "source": [
    "import json\n",
    "from collections import defaultdict\n",
    "\n",
    "# Tag penalties as defined in your system\n",
    "TAG_PENALTIES = {\n",
    "    \"duplicate\": -5,\n",
    "    \"irrelevant\": -5,\n",
    "    \"vague\": -2,\n",
    "    \"oversized\": -2,\n",
    "    \"role-mismatch\": -3,\n",
    "    \"ui-polish\": -2,\n",
    "    \"typo\": -1,\n",
    "    \"bad-structure\": -3,\n",
    "}\n",
    "\n",
    "def group_user_stories_by_tags(input_file='graded_user_stories.json', output_file='stories_by_tags.json'):\n",
    "    \"\"\"\n",
    "    Group user stories by their tags along with feedback and grades.\n",
    "    \"\"\"\n",
    "    try:\n",
    "        print(f\"Reading user stories from '{input_file}'...\")\n",
    "        \n",
    "        # Read the input JSON file\n",
    "        with open(input_file, 'r', encoding='utf-8') as f:\n",
    "            data = json.load(f)\n",
    "        \n",
    "        # Group stories by tags\n",
    "        grouped_by_tags = defaultdict(list)\n",
    "        \n",
    "        # Process each student's stories\n",
    "        for student_id, stories in data.items():\n",
    "            for story in stories:\n",
    "                # Get tags for this story\n",
    "                story_tags = story.get('tags', [])\n",
    "                \n",
    "                # Create story entry with student info\n",
    "                story_entry = {\n",
    "                    'student_id': student_id,\n",
    "                    'userStory': story.get('userStory', ''),\n",
    "                    'grade': story.get('grade', 0),\n",
    "                    'feedback': story.get('feedback', ''),\n",
    "                    'tags': story_tags\n",
    "                }\n",
    "                \n",
    "                # If story has no tags, put it in 'untagged' category\n",
    "                if not story_tags:\n",
    "                    grouped_by_tags['untagged'].append(story_entry)\n",
    "                else:\n",
    "                    # Add story to each tag category\n",
    "                    for tag in story_tags:\n",
    "                        grouped_by_tags[tag].append(story_entry)\n",
    "        \n",
    "        # Convert to regular dict\n",
    "        result = dict(grouped_by_tags)\n",
    "        \n",
    "        # Save grouped data\n",
    "        with open(output_file, 'w', encoding='utf-8') as f:\n",
    "            json.dump(result, f, indent=2, ensure_ascii=False)\n",
    "        \n",
    "        print(f\"✅ Successfully grouped user stories by tags\")\n",
    "        print(f\"✅ Found {len(result)} different tag categories\")\n",
    "        print(f\"✅ Saved to '{output_file}'\")\n",
    "        \n",
    "        return result\n",
    "        \n",
    "    except Exception as e:\n",
    "        print(f\"❌ Error: {str(e)}\")\n",
    "        return None\n",
    "\n",
    "def analyze_tag_performance(grouped_data):\n",
    "    \"\"\"\n",
    "    Analyze performance and statistics for each tag category\n",
    "    \"\"\"\n",
    "    analysis = {}\n",
    "    \n",
    "    for tag, stories in grouped_data.items():\n",
    "        if not stories:\n",
    "            continue\n",
    "            \n",
    "        grades = [story['grade'] for story in stories]\n",
    "        penalty = TAG_PENALTIES.get(tag, 0)\n",
    "        \n",
    "        # Calculate statistics\n",
    "        total_stories = len(stories)\n",
    "        avg_grade = sum(grades) / total_stories\n",
    "        min_grade = min(grades)\n",
    "        max_grade = max(grades)\n",
    "        \n",
    "        # Grade distribution\n",
    "        grade_dist = {str(i): 0 for i in range(6)}\n",
    "        for grade in grades:\n",
    "            grade_dist[str(int(grade))] += 1\n",
    "        \n",
    "        # Student distribution\n",
    "        students = list(set(story['student_id'] for story in stories))\n",
    "        \n",
    "        analysis[tag] = {\n",
    "            'tag_penalty': penalty,\n",
    "            'story_count': total_stories,\n",
    "            'student_count': len(students),\n",
    "            'avg_grade': round(avg_grade, 2),\n",
    "            'min_grade': min_grade,\n",
    "            'max_grade': max_grade,\n",
    "            'grade_distribution': grade_dist,\n",
    "            'students_affected': students\n",
    "        }\n",
    "    \n",
    "    return analysis\n",
    "\n",
    "def create_tag_report(input_file='graded_user_stories.json'):\n",
    "    \"\"\"\n",
    "    Create a comprehensive analysis of user stories grouped by tags\n",
    "    \"\"\"\n",
    "    print(\"🔍 Starting user stories tag analysis...\\n\")\n",
    "    \n",
    "    # Step 1: Group stories by tags\n",
    "    grouped_data = group_user_stories_by_tags(input_file, 'stories_by_tags.json')\n",
    "    \n",
    "    if not grouped_data:\n",
    "        print(\"❌ Failed to group stories by tags\")\n",
    "        return None\n",
    "    \n",
    "    print(\"\\n📊 Analyzing tag performance...\")\n",
    "    \n",
    "    # Step 2: Analyze tag performance\n",
    "    analysis = analyze_tag_performance(grouped_data)\n",
    "    \n",
    "    # Step 3: Save analysis to JSON\n",
    "    with open('tag_analysis.json', 'w', encoding='utf-8') as f:\n",
    "        json.dump(analysis, f, indent=2, ensure_ascii=False)\n",
    "    \n",
    "    print(\"✅ Analysis saved to 'tag_analysis.json'\")\n",
    "    \n",
    "    # Step 4: Create human-readable report\n",
    "    print(\"📝 Creating detailed report...\")\n",
    "    \n",
    "    with open('tag_report.txt', 'w', encoding='utf-8') as f:\n",
    "        f.write(\"USER STORIES TAG ANALYSIS REPORT\\n\")\n",
    "        f.write(\"=\" * 60 + \"\\n\\n\")\n",
    "        \n",
    "        # Overall summary\n",
    "        total_stories = sum(len(stories) for stories in grouped_data.values())\n",
    "        total_students = len(set(story['student_id'] for stories in grouped_data.values() for story in stories))\n",
    "        \n",
    "        f.write(\"📋 SUMMARY:\\n\")\n",
    "        f.write(\"-\" * 20 + \"\\n\")\n",
    "        f.write(f\"Total Stories Analyzed: {total_stories}\\n\")\n",
    "        f.write(f\"Total Students: {total_students}\\n\")\n",
    "        f.write(f\"Tag Categories Found: {len(analysis)}\\n\")\n",
    "        f.write(f\"Stories per Student (avg): {total_stories / total_students:.1f}\\n\\n\")\n",
    "        \n",
    "        # Tag overview sorted by penalty severity (most severe first)\n",
    "        f.write(\"🏷️  TAG OVERVIEW (sorted by penalty severity):\\n\")\n",
    "        f.write(\"-\" * 50 + \"\\n\")\n",
    "        f.write(f\"{'Tag':<15} {'Penalty':<8} {'Count':<6} {'Students':<9} {'Avg Grade':<10}\\n\")\n",
    "        f.write(\"-\" * 50 + \"\\n\")\n",
    "        \n",
    "        sorted_tags = sorted(analysis.items(), key=lambda x: x[1]['tag_penalty'])\n",
    "        for tag, data in sorted_tags:\n",
    "            f.write(f\"{tag:<15} {data['tag_penalty']:<8} {data['story_count']:<6} \"\n",
    "                   f\"{data['student_count']:<9} {data['avg_grade']:<10}\\n\")\n",
    "        \n",
    "        f.write(\"\\n\" + \"=\" * 60 + \"\\n\\n\")\n",
    "        \n",
    "        # Detailed breakdown for each tag\n",
    "        f.write(\"📊 DETAILED TAG ANALYSIS:\\n\\n\")\n",
    "        \n",
    "        for tag, data in sorted(analysis.items(), key=lambda x: x[1]['story_count'], reverse=True):\n",
    "            f.write(f\"🏷️  {tag.upper()}\\n\")\n",
    "            f.write(\"-\" * 30 + \"\\n\")\n",
    "            f.write(f\"Penalty: {data['tag_penalty']} points\\n\")\n",
    "            f.write(f\"Stories: {data['story_count']}\\n\")\n",
    "            f.write(f\"Students affected: {data['student_count']}\\n\")\n",
    "            f.write(f\"Average grade: {data['avg_grade']}/5\\n\")\n",
    "            f.write(f\"Grade range: {data['min_grade']} - {data['max_grade']}\\n\")\n",
    "            \n",
    "            # Grade distribution\n",
    "            f.write(\"Grade distribution: \")\n",
    "            for grade, count in data['grade_distribution'].items():\n",
    "                if count > 0:\n",
    "                    f.write(f\"{grade}★({count}) \")\n",
    "            f.write(\"\\n\")\n",
    "            \n",
    "            # List students (first 10)\n",
    "            f.write(f\"Students: {', '.join(data['students_affected'][:10])}\")\n",
    "            if len(data['students_affected']) > 10:\n",
    "                f.write(f\" ... and {len(data['students_affected']) - 10} more\")\n",
    "            f.write(\"\\n\\n\")\n",
    "            \n",
    "            f.write(\"-\" * 60 + \"\\n\\n\")\n",
    "    \n",
    "    print(\"✅ Detailed report saved to 'tag_report.txt'\")\n",
    "    \n",
    "    # Step 5: Print summary to console\n",
    "    print(\"\\n🎯 KEY INSIGHTS:\")\n",
    "    print(\"-\" * 40)\n",
    "    \n",
    "    # Most problematic tag (most severe penalty)\n",
    "    if analysis:\n",
    "        worst_tag = min(analysis.items(), key=lambda x: x[1]['tag_penalty'])\n",
    "        print(f\"Most severe issue: {worst_tag[0]} ({worst_tag[1]['story_count']} stories, {worst_tag[1]['tag_penalty']} pts each)\")\n",
    "        \n",
    "        # Most common issue\n",
    "        common_tag = max(analysis.items(), key=lambda x: x[1]['story_count'])\n",
    "        print(f\"Most common issue: {common_tag[0]} ({common_tag[1]['story_count']} stories)\")\n",
    "        \n",
    "        # Show tag breakdown\n",
    "        print(f\"\\nTag breakdown:\")\n",
    "        for tag, data in sorted(analysis.items(), key=lambda x: x[1]['story_count'], reverse=True):\n",
    "            print(f\"  • {tag}: {data['story_count']} stories ({data['student_count']} students)\")\n",
    "    \n",
    "    print(f\"\\n📁 Files created:\")\n",
    "    print(f\"   • stories_by_tags.json - Stories grouped by tags\")\n",
    "    print(f\"   • tag_analysis.json - Detailed statistics\")\n",
    "    print(f\"   • tag_report.txt - Human-readable report\")\n",
    "    \n",
    "    return analysis\n",
    "\n",
    "def print_tag_definitions():\n",
    "    \"\"\"\n",
    "    Print what each tag means and its penalty\n",
    "    \"\"\"\n",
    "    print(\"\\n🏷️  TAG DEFINITIONS AND PENALTIES:\")\n",
    "    print(\"=\" * 45)\n",
    "    \n",
    "    tag_descriptions = {\n",
    "        \"duplicate\": \"Story is a duplicate of another story\",\n",
    "        \"irrelevant\": \"Story is outside the scope of ToDo app\",\n",
    "        \"vague\": \"Story lacks specific details or clarity\",\n",
    "        \"oversized\": \"Story is too complex, should be broken down\",\n",
    "        \"role-mismatch\": \"Wrong user role specified for the context\",\n",
    "        \"ui-polish\": \"Cosmetic feature, not core functionality\",\n",
    "        \"typo\": \"Contains spelling or grammatical errors\",\n",
    "        \"bad-structure\": \"Doesn't follow proper user story format\"\n",
    "    }\n",
    "    \n",
    "    for tag, penalty in sorted(TAG_PENALTIES.items(), key=lambda x: x[1]):\n",
    "        desc = tag_descriptions.get(tag, \"No description available\")\n",
    "        print(f\"  {tag:<15} ({penalty:>2} pts): {desc}\")\n",
    "    \n",
    "    print(f\"  {'untagged':<15} ({0:>2} pts): No quality issues identified\")\n",
    "\n",
    "# Main execution\n",
    "if __name__ == \"__main__\":\n",
    "    import os\n",
    "    \n",
    "    print_tag_definitions()\n",
    "    print(\"\\n\" + \"=\"*60)\n",
    "    \n",
    "    # Check if the input file exists\n",
    "    try:\n",
    "        with open('graded_user_stories.json', 'r') as f:\n",
    "            pass\n",
    "        print(\"✅ Found 'graded_user_stories.json' file\")\n",
    "    except FileNotFoundError:\n",
    "        print(\"❌ Error: 'graded_user_stories.json' file not found!\")\n",
    "        print(\"   Please make sure the file exists in the current directory.\")\n",
    "        print(f\"   Current directory: {os.getcwd()}\")\n",
    "        print(f\"   Files in directory: {os.listdir('.')}\")\n",
    "        exit()\n",
    "    \n",
    "    # Run the analysis\n",
    "    analysis = create_tag_report()\n",
    "    \n",
    "    if analysis:\n",
    "        print(f\"\\n✅ Analysis completed successfully!\")\n",
    "        \n",
    "        # Show file locations and verify they exist\n",
    "        print(f\"\\n📁 File verification:\")\n",
    "        files_to_check = ['stories_by_tags.json', 'tag_analysis.json', 'tag_report.txt']\n",
    "        for filename in files_to_check:\n",
    "            if os.path.exists(filename):\n",
    "                size = os.path.getsize(filename)\n",
    "                print(f\"   ✅ {filename} ({size:,} bytes)\")\n",
    "            else:\n",
    "                print(f\"   ❌ {filename} - NOT FOUND\")\n",
    "        \n",
    "        print(f\"\\n📂 Current working directory: {os.getcwd()}\")\n",
    "        \n",
    "        # In Jupyter, also display a sample of the data\n",
    "        print(f\"\\n📋 SAMPLE OF GROUPED DATA:\")\n",
    "        print(\"-\" * 40)\n",
    "        \n",
    "        # Read and show sample from stories_by_tags.json\n",
    "        try:\n",
    "            with open('stories_by_tags.json', 'r') as f:\n",
    "                grouped_data = json.load(f)\n",
    "            \n",
    "            # Show first few entries from each tag\n",
    "            for tag, stories in list(grouped_data.items())[:3]:\n",
    "                print(f\"\\n🏷️ {tag.upper()}: {len(stories)} stories\")\n",
    "                for i, story in enumerate(stories[:2]):\n",
    "                    print(f\"   {i+1}. Student {story['student_id']} (Grade: {story['grade']})\")\n",
    "                    story_preview = story['userStory'][:60] + \"...\" if len(story['userStory']) > 60 else story['userStory']\n",
    "                    print(f\"      \\\"{story_preview}\\\"\")\n",
    "                if len(stories) > 2:\n",
    "                    print(f\"      ... and {len(stories) - 2} more stories\")\n",
    "        except:\n",
    "            print(\"Could not read sample data\")\n",
    "            \n",
    "    else:\n",
    "        print(f\"\\n❌ Analysis failed!\")\n",
    "\n",
    "# For Jupyter notebook users - add these helper functions\n",
    "def show_files_in_current_directory():\n",
    "    \"\"\"Show all files in the current directory\"\"\"\n",
    "    import os\n",
    "    print(\"📁 Files in current directory:\")\n",
    "    files = os.listdir('.')\n",
    "    for file in sorted(files):\n",
    "        if os.path.isfile(file):\n",
    "            size = os.path.getsize(file)\n",
    "            print(f\"   📄 {file} ({size:,} bytes)\")\n",
    "        else:\n",
    "            print(f\"   📁 {file}/\")\n",
    "\n",
    "def display_tag_analysis_summary():\n",
    "    \"\"\"Display a summary of the tag analysis (for Jupyter)\"\"\"\n",
    "    try:\n",
    "        with open('tag_analysis.json', 'r') as f:\n",
    "            analysis = json.load(f)\n",
    "        \n",
    "        print(\"📊 TAG ANALYSIS SUMMARY:\")\n",
    "        print(\"=\" * 50)\n",
    "        \n",
    "        # Create a simple table\n",
    "        print(f\"{'Tag':<15} {'Stories':<8} {'Students':<9} {'Avg Grade':<10} {'Penalty':<8}\")\n",
    "        print(\"-\" * 50)\n",
    "        \n",
    "        for tag, data in sorted(analysis.items(), key=lambda x: x[1]['story_count'], reverse=True):\n",
    "            print(f\"{tag:<15} {data['story_count']:<8} {data['student_count']:<9} \"\n",
    "                  f\"{data['avg_grade']:<10} {data['tag_penalty']:<8}\")\n",
    "                  \n",
    "        return analysis\n",
    "    except FileNotFoundError:\n",
    "        print(\"❌ tag_analysis.json not found. Run create_tag_report() first.\")\n",
    "        return None\n",
    "\n",
    "def show_stories_for_tag(tag_name):\n",
    "    \"\"\"Show all stories for a specific tag\"\"\"\n",
    "    try:\n",
    "        with open('stories_by_tags.json', 'r') as f:\n",
    "            grouped_data = json.load(f)\n",
    "        \n",
    "        if tag_name not in grouped_data:\n",
    "            print(f\"❌ Tag '{tag_name}' not found.\")\n",
    "            print(f\"Available tags: {', '.join(grouped_data.keys())}\")\n",
    "            return\n",
    "        \n",
    "        stories = grouped_data[tag_name]\n",
    "        print(f\"🏷️ {tag_name.upper()}: {len(stories)} stories\")\n",
    "        print(\"=\" * 50)\n",
    "        \n",
    "        for i, story in enumerate(stories, 1):\n",
    "            print(f\"\\n{i}. Student: {story['student_id']} | Grade: {story['grade']}\")\n",
    "            print(f\"   Story: \\\"{story['userStory']}\\\"\")\n",
    "            print(f\"   Feedback: {story['feedback']}\")\n",
    "            \n",
    "    except FileNotFoundError:\n",
    "        print(\"❌ stories_by_tags.json not found. Run create_tag_report() first.\")\n",
    "\n",
    "# Add these functions for easy access in Jupyter\n",
    "print(\"\\n💡 Jupyter Helper Functions Available:\")\n",
    "print(\"   • show_files_in_current_directory() - List all files\")\n",
    "print(\"   • display_tag_analysis_summary() - Show analysis table\") \n",
    "print(\"   • show_stories_for_tag('tag_name') - Show stories for specific tag\")\n",
    "print(\"   • create_tag_report() - Run the full analysis\")"
   ]
  },
  {
   "cell_type": "code",
   "execution_count": 2,
   "id": "849b39c3",
   "metadata": {},
   "outputs": [
    {
     "name": "stdout",
     "output_type": "stream",
     "text": [
      "🎯 COMPREHENSIVE GRADE ANALYSIS\n",
      "==================================================\n",
      "📊 GRADE ANALYSIS REPORT\n",
      "========================================\n",
      "Total Stories: 351\n",
      "Total Students: 174\n",
      "Average Grade: 3.69/5\n",
      "\n",
      "📈 GRADE DISTRIBUTION:\n",
      "------------------------------\n",
      "Grade 0 ☆    :   59 stories ( 16.8%) ████████\n",
      "Grade 1 ★    :    2 stories (  0.6%) \n",
      "Grade 2 ★★   :   13 stories (  3.7%) █\n",
      "Grade 3 ★★★  :   51 stories ( 14.5%) ███████\n",
      "Grade 4 ★★★★ :   16 stories (  4.6%) ██\n",
      "Grade 5 ★★★★★:  210 stories ( 59.8%) █████████████████████████████\n",
      "\n",
      "📋 SUMMARY STATISTICS:\n",
      "-------------------------\n",
      "Highest Grade: 5\n",
      "Lowest Grade: 0\n",
      "Most Common Grade: 5\n",
      "Perfect Stories (5★): 210 (59.8%)\n",
      "Failed Stories (0★): 59 (16.8%)\n",
      "Passing Stories (3★+): 277 (78.9%)\n",
      "\n",
      "📊 GRADE ANALYSIS BY TAG\n",
      "============================================================\n",
      "Tag             Count  Avg    0★   1★   2★   3★   4★   5★  \n",
      "------------------------------------------------------------\n",
      "irrelevant      9      0.00   9   0   0   0   0   0   \n",
      "duplicate       46     0.00   46  0   0   0   0   0   \n",
      "bad-structure   2      0.00   2   0   0   0   0   0   \n",
      "role-mismatch   14     1.64   2   1   11  0   0   0   \n",
      "vague           6      2.00   2   0   0   4   0   0   \n",
      "oversized       35     2.71   2   1   2   30  0   0   \n",
      "ui-polish       18     2.89   0   1   0   17  0   0   \n",
      "typo            21     3.29   2   1   2   0   16  0   \n",
      "untagged        210    5.00   0   0   0   0   0   210 \n",
      "\n",
      "👥 STUDENT PERFORMANCE ANALYSIS\n",
      "==================================================\n",
      "\n",
      "🏆 TOP 10 PERFORMERS:\n",
      "-----------------------------------\n",
      "Student    Stories  Avg Grade \n",
      "-----------------------------------\n",
      "315696     2        5.00      \n",
      "316029     2        5.00      \n",
      "328225     2        5.00      \n",
      "328412     2        5.00      \n",
      "339718     2        5.00      \n",
      "339815     2        5.00      \n",
      "339839     2        5.00      \n",
      "341201     2        5.00      \n",
      "341205     2        5.00      \n",
      "341467     2        5.00      \n",
      "\n",
      "📉 BOTTOM 10 PERFORMERS:\n",
      "-----------------------------------\n",
      "Student    Stories  Avg Grade \n",
      "-----------------------------------\n",
      "326477     2        0.00      \n",
      "329743     2        0.00      \n",
      "344697     2        0.00      \n",
      "345159     2        0.00      \n",
      "347407     2        0.00      \n",
      "357248     2        0.00      \n",
      "357772     2        0.00      \n",
      "358213     2        0.00      \n",
      "361013     2        0.00      \n",
      "361984     2        0.00      \n",
      "\n",
      "💡 Available Functions:\n",
      "   • analyze_grades() - Main grade analysis with distribution\n",
      "   • analyze_grades_by_tag() - Grade breakdown by tag categories\n",
      "   • analyze_student_performance() - Individual student stats\n",
      "   • quick_grade_stats() - One-liner summary\n"
     ]
    }
   ],
   "source": [
    "import json\n",
    "from collections import Counter\n",
    "\n",
    "def analyze_grades(input_file='graded_user_stories.json'):\n",
    "    \"\"\"\n",
    "    Analyze grades from user stories - show average and distribution\n",
    "    \"\"\"\n",
    "    try:\n",
    "        # Read the graded user stories\n",
    "        with open(input_file, 'r', encoding='utf-8') as f:\n",
    "            data = json.load(f)\n",
    "        \n",
    "        # Collect all grades\n",
    "        all_grades = []\n",
    "        grade_counter = Counter()\n",
    "        \n",
    "        total_stories = 0\n",
    "        total_students = len(data)\n",
    "        \n",
    "        # Extract grades from all stories\n",
    "        for student_id, stories in data.items():\n",
    "            for story in stories:\n",
    "                grade = story.get('grade', 0)\n",
    "                all_grades.append(grade)\n",
    "                grade_counter[int(grade)] += 1\n",
    "                total_stories += 1\n",
    "        \n",
    "        # Calculate average\n",
    "        if all_grades:\n",
    "            average_grade = sum(all_grades) / len(all_grades)\n",
    "        else:\n",
    "            average_grade = 0\n",
    "        \n",
    "        # Print results\n",
    "        print(\"📊 GRADE ANALYSIS REPORT\")\n",
    "        print(\"=\" * 40)\n",
    "        print(f\"Total Stories: {total_stories}\")\n",
    "        print(f\"Total Students: {total_students}\")\n",
    "        print(f\"Average Grade: {average_grade:.2f}/5\")\n",
    "        print()\n",
    "        \n",
    "        print(\"📈 GRADE DISTRIBUTION:\")\n",
    "        print(\"-\" * 30)\n",
    "        \n",
    "        # Show distribution for grades 0-5\n",
    "        for grade in range(6):\n",
    "            count = grade_counter.get(grade, 0)\n",
    "            percentage = (count / total_stories * 100) if total_stories > 0 else 0\n",
    "            stars = \"★\" * grade if grade > 0 else \"☆\"\n",
    "            bar = \"█\" * int(percentage // 2)  # Visual bar\n",
    "            \n",
    "            print(f\"Grade {grade} {stars:<5}: {count:4d} stories ({percentage:5.1f}%) {bar}\")\n",
    "        \n",
    "        print()\n",
    "        print(\"📋 SUMMARY STATISTICS:\")\n",
    "        print(\"-\" * 25)\n",
    "        print(f\"Highest Grade: {max(all_grades) if all_grades else 0}\")\n",
    "        print(f\"Lowest Grade: {min(all_grades) if all_grades else 0}\")\n",
    "        print(f\"Most Common Grade: {grade_counter.most_common(1)[0][0] if grade_counter else 'N/A'}\")\n",
    "        \n",
    "        # Calculate some interesting stats\n",
    "        perfect_stories = grade_counter.get(5, 0)\n",
    "        failed_stories = grade_counter.get(0, 0)\n",
    "        passed_stories = sum(grade_counter.get(i, 0) for i in range(3, 6))  # Grades 3, 4, 5\n",
    "        \n",
    "        print(f\"Perfect Stories (5★): {perfect_stories} ({perfect_stories/total_stories*100:.1f}%)\")\n",
    "        print(f\"Failed Stories (0★): {failed_stories} ({failed_stories/total_stories*100:.1f}%)\")\n",
    "        print(f\"Passing Stories (3★+): {passed_stories} ({passed_stories/total_stories*100:.1f}%)\")\n",
    "        \n",
    "        return {\n",
    "            'total_stories': total_stories,\n",
    "            'total_students': total_students,\n",
    "            'average_grade': average_grade,\n",
    "            'grade_distribution': dict(grade_counter),\n",
    "            'all_grades': all_grades\n",
    "        }\n",
    "        \n",
    "    except FileNotFoundError:\n",
    "        print(f\"❌ Error: File '{input_file}' not found!\")\n",
    "        return None\n",
    "    except Exception as e:\n",
    "        print(f\"❌ Error analyzing grades: {str(e)}\")\n",
    "        return None\n",
    "\n",
    "def analyze_grades_by_tag(input_file='graded_user_stories.json'):\n",
    "    \"\"\"\n",
    "    Analyze grades broken down by tag categories\n",
    "    \"\"\"\n",
    "    try:\n",
    "        # Read the graded user stories\n",
    "        with open(input_file, 'r', encoding='utf-8') as f:\n",
    "            data = json.load(f)\n",
    "        \n",
    "        # Group grades by tags\n",
    "        tag_grades = {}\n",
    "        \n",
    "        for student_id, stories in data.items():\n",
    "            for story in stories:\n",
    "                grade = story.get('grade', 0)\n",
    "                tags = story.get('tags', [])\n",
    "                \n",
    "                # If no tags, use 'untagged'\n",
    "                if not tags:\n",
    "                    tags = ['untagged']\n",
    "                \n",
    "                for tag in tags:\n",
    "                    if tag not in tag_grades:\n",
    "                        tag_grades[tag] = []\n",
    "                    tag_grades[tag].append(grade)\n",
    "        \n",
    "        print(\"\\n📊 GRADE ANALYSIS BY TAG\")\n",
    "        print(\"=\" * 60)\n",
    "        print(f\"{'Tag':<15} {'Count':<6} {'Avg':<6} {'0★':<4} {'1★':<4} {'2★':<4} {'3★':<4} {'4★':<4} {'5★':<4}\")\n",
    "        print(\"-\" * 60)\n",
    "        \n",
    "        # Sort by average grade (lowest first to show problem areas)\n",
    "        for tag, grades in sorted(tag_grades.items(), key=lambda x: sum(x[1])/len(x[1])):\n",
    "            count = len(grades)\n",
    "            avg = sum(grades) / count\n",
    "            \n",
    "            # Count each grade\n",
    "            grade_counts = Counter(int(g) for g in grades)\n",
    "            \n",
    "            print(f\"{tag:<15} {count:<6} {avg:<6.2f} \", end=\"\")\n",
    "            for grade in range(6):\n",
    "                print(f\"{grade_counts.get(grade, 0):<4}\", end=\"\")\n",
    "            print()\n",
    "        \n",
    "        return tag_grades\n",
    "        \n",
    "    except Exception as e:\n",
    "        print(f\"❌ Error analyzing grades by tag: {str(e)}\")\n",
    "        return None\n",
    "\n",
    "def analyze_student_performance(input_file='graded_user_stories.json', show_top=10):\n",
    "    \"\"\"\n",
    "    Analyze individual student performance\n",
    "    \"\"\"\n",
    "    try:\n",
    "        # Read the graded user stories\n",
    "        with open(input_file, 'r', encoding='utf-8') as f:\n",
    "            data = json.load(f)\n",
    "        \n",
    "        student_stats = {}\n",
    "        \n",
    "        for student_id, stories in data.items():\n",
    "            grades = [story.get('grade', 0) for story in stories]\n",
    "            \n",
    "            student_stats[student_id] = {\n",
    "                'total_stories': len(stories),\n",
    "                'average_grade': sum(grades) / len(grades) if grades else 0,\n",
    "                'grades': grades,\n",
    "                'grade_distribution': Counter(int(g) for g in grades)\n",
    "            }\n",
    "        \n",
    "        print(f\"\\n👥 STUDENT PERFORMANCE ANALYSIS\")\n",
    "        print(\"=\" * 50)\n",
    "        \n",
    "        # Top performers\n",
    "        top_students = sorted(student_stats.items(), key=lambda x: x[1]['average_grade'], reverse=True)\n",
    "        \n",
    "        print(f\"\\n🏆 TOP {show_top} PERFORMERS:\")\n",
    "        print(\"-\" * 35)\n",
    "        print(f\"{'Student':<10} {'Stories':<8} {'Avg Grade':<10}\")\n",
    "        print(\"-\" * 35)\n",
    "        \n",
    "        for student_id, stats in top_students[:show_top]:\n",
    "            print(f\"{student_id:<10} {stats['total_stories']:<8} {stats['average_grade']:<10.2f}\")\n",
    "        \n",
    "        # Bottom performers\n",
    "        print(f\"\\n📉 BOTTOM {show_top} PERFORMERS:\")\n",
    "        print(\"-\" * 35)\n",
    "        print(f\"{'Student':<10} {'Stories':<8} {'Avg Grade':<10}\")\n",
    "        print(\"-\" * 35)\n",
    "        \n",
    "        for student_id, stats in top_students[-show_top:]:\n",
    "            print(f\"{student_id:<10} {stats['total_stories']:<8} {stats['average_grade']:<10.2f}\")\n",
    "        \n",
    "        return student_stats\n",
    "        \n",
    "    except Exception as e:\n",
    "        print(f\"❌ Error analyzing student performance: {str(e)}\")\n",
    "        return None\n",
    "\n",
    "def quick_grade_stats(input_file='graded_user_stories.json'):\n",
    "    \"\"\"\n",
    "    Quick one-liner grade statistics\n",
    "    \"\"\"\n",
    "    try:\n",
    "        with open(input_file, 'r', encoding='utf-8') as f:\n",
    "            data = json.load(f)\n",
    "        \n",
    "        all_grades = []\n",
    "        for stories in data.values():\n",
    "            for story in stories:\n",
    "                all_grades.append(story.get('grade', 0))\n",
    "        \n",
    "        if not all_grades:\n",
    "            print(\"No grades found!\")\n",
    "            return\n",
    "        \n",
    "        avg = sum(all_grades) / len(all_grades)\n",
    "        grade_counts = Counter(int(g) for g in all_grades)\n",
    "        \n",
    "        print(f\"📊 Quick Stats: {len(all_grades)} stories, Avg: {avg:.2f}/5\")\n",
    "        print(f\"Distribution: \", end=\"\")\n",
    "        for grade in range(6):\n",
    "            count = grade_counts.get(grade, 0)\n",
    "            print(f\"{grade}★:{count} \", end=\"\")\n",
    "        print()\n",
    "        \n",
    "    except Exception as e:\n",
    "        print(f\"❌ Error: {str(e)}\")\n",
    "\n",
    "# Run all analyses\n",
    "if __name__ == \"__main__\":\n",
    "    print(\"🎯 COMPREHENSIVE GRADE ANALYSIS\")\n",
    "    print(\"=\" * 50)\n",
    "    \n",
    "    # Main grade analysis\n",
    "    grade_data = analyze_grades()\n",
    "    \n",
    "    if grade_data:\n",
    "        # Grade analysis by tag\n",
    "        analyze_grades_by_tag()\n",
    "        \n",
    "        # Student performance analysis\n",
    "        analyze_student_performance()\n",
    "\n",
    "# Helper functions for Jupyter\n",
    "print(\"\\n💡 Available Functions:\")\n",
    "print(\"   • analyze_grades() - Main grade analysis with distribution\")\n",
    "print(\"   • analyze_grades_by_tag() - Grade breakdown by tag categories\") \n",
    "print(\"   • analyze_student_performance() - Individual student stats\")\n",
    "print(\"   • quick_grade_stats() - One-liner summary\")"
   ]
  },
  {
   "cell_type": "code",
   "execution_count": null,
   "id": "2c6ca286",
   "metadata": {},
   "outputs": [],
   "source": []
  }
 ],
 "metadata": {
  "kernelspec": {
   "display_name": "swent",
   "language": "python",
   "name": "python3"
  },
  "language_info": {
   "codemirror_mode": {
    "name": "ipython",
    "version": 3
   },
   "file_extension": ".py",
   "mimetype": "text/x-python",
   "name": "python",
   "nbconvert_exporter": "python",
   "pygments_lexer": "ipython3",
   "version": "3.12.11"
  }
 },
 "nbformat": 4,
 "nbformat_minor": 5
}
